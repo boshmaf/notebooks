{
 "cells": [
  {
   "cell_type": "markdown",
   "metadata": {
    "slideshow": {
     "slide_type": "slide"
    }
   },
   "source": [
    "Social Web Intelligence\n",
    "=======================\n",
    "\n",
    "*Analyzing and learning from users and their relationships*\n",
    "\n",
    "<br/>\n",
    "Yazan Boshmaf, UBC\n",
    "\n",
    "<br/>\n",
    "SFU/UBC Digital Salon's 2nd Digital Humanities Workshop\n",
    "\n",
    "February 21, 2015 "
   ]
  },
  {
   "cell_type": "markdown",
   "metadata": {
    "slideshow": {
     "slide_type": "slide"
    }
   },
   "source": [
    "Preliminaries\n",
    "============="
   ]
  },
  {
   "cell_type": "markdown",
   "metadata": {
    "slideshow": {
     "slide_type": "slide"
    }
   },
   "source": [
    "About the presenter\n",
    "===================\n",
    "\n",
    "PhD candidate at UBC\n",
    "\n",
    "Deisgn and analyze social bots as an academic\n",
    "\n",
    "Build systems to fight the bad guys on the social web"
   ]
  },
  {
   "cell_type": "markdown",
   "metadata": {
    "slideshow": {
     "slide_type": "fragment"
    }
   },
   "source": [
    "*Feel free to contacts me at [boshmaf@ece.ubc.ca](mailto:boshmaf@ece.ubc.ca)*"
   ]
  },
  {
   "cell_type": "markdown",
   "metadata": {
    "slideshow": {
     "slide_type": "slide"
    }
   },
   "source": [
    "About the slides\n",
    "================\n",
    "\n",
    "Created using Jupyter Notebook (was IPython)\n",
    "\n",
    "Available to everyone\n",
    "\n",
    "May have typos, errors, etc."
   ]
  },
  {
   "cell_type": "markdown",
   "metadata": {
    "slideshow": {
     "slide_type": "fragment"
    }
   },
   "source": [
    "*Copy or contribute at [https://github.com/boshmaf/notebooks](https://github.com/boshmaf/notebooks)*"
   ]
  },
  {
   "cell_type": "markdown",
   "metadata": {
    "slideshow": {
     "slide_type": "slide"
    }
   },
   "source": [
    "About the workshop\n",
    "==================\n",
    "\n",
    "SFU/UBC Digital Salon's Workshop Series\n",
    "\n",
    "Organized by Siobhan McElduff ([siobhan.mcelduff@ubc.ca](mailto:siobhan.mcelduff@ubc.ca))\n",
    "\n",
    "Theory and practice of network analysis & machine learning"
   ]
  },
  {
   "cell_type": "markdown",
   "metadata": {
    "slideshow": {
     "slide_type": "fragment"
    }
   },
   "source": [
    "*Applied to social networking problems with hands-on experience using Python*"
   ]
  },
  {
   "cell_type": "markdown",
   "metadata": {
    "slideshow": {
     "slide_type": "slide"
    }
   },
   "source": [
    "Timeslot | Subject\n",
    "--- |  ---  | ---\n",
    "10:00 - 11:00 | Introduction\n",
    "**11:00 - 11:15** | **Break I**\n",
    "11:15 - 13:15 | Network analysis with Networkx\n",
    "**13:15 - 13:30** | **Break II**\n",
    "13:30 - 15:30 | Machine learning with SciKit-Learn\n",
    "**15:30 - 15:45** | **Break III**\n",
    "15:45 - 16:00 | Final remarks"
   ]
  },
  {
   "cell_type": "markdown",
   "metadata": {
    "slideshow": {
     "slide_type": "slide"
    }
   },
   "source": [
    "Introduction\n",
    "============"
   ]
  },
  {
   "cell_type": "markdown",
   "metadata": {
    "slideshow": {
     "slide_type": "slide"
    }
   },
   "source": [
    "Social networks are everywhere\n",
    "==============================\n",
    "\n",
    "Model friendships, followships, professional relationships, etc.\n",
    "\n",
    "Explicitly declared on the web using **online social networks** (OSNs)\n",
    "\n",
    "- Facebook with **1.4B** montly active users [[1]]\n",
    "\n",
    "- Twitter with **288M** montly active users [[2]]\n",
    "\n",
    "- LinkedIn with **347M** registered users [[3]]\n",
    "\n",
    "[1]: http://newsroom.fb.com/company-info/ \"Facebook company info\"\n",
    "[2]: https://about.twitter.com/company \"Twitter company info\"\n",
    "[3]: https://press.linkedin.com/about-linkedin \"LinkedIn company info\"\n"
   ]
  },
  {
   "cell_type": "markdown",
   "metadata": {
    "slideshow": {
     "slide_type": "slide"
    }
   },
   "source": [
    "Facebook's geo-mapped social graph\n",
    "==================================\n",
    "\n",
    "![alt text][fb_graph]\n",
    "\n",
    "[fb_graph]: images/fb_graph.jpg \"Geo-mapped Facebook graph\""
   ]
  },
  {
   "cell_type": "markdown",
   "metadata": {
    "slideshow": {
     "slide_type": "slide"
    }
   },
   "source": [
    "OSNs are goldmines for researchers\n",
    "==================================\n",
    "\n",
    "From tens or hundreds of participants to millions\n",
    "\n",
    "Unique opporunity to analyze behavior on a **global scale**"
   ]
  },
  {
   "cell_type": "markdown",
   "metadata": {
    "slideshow": {
     "slide_type": "fragment"
    }
   },
   "source": [
    "*Milgram's small-world expirement replicated with 721M users and 69B friendships [[1], [2]]*\n",
    "\n",
    "[1]: http://www.uvm.edu/~pdodds/files/papers/others/1969/travers1969.pdf \"An experimental study of the small world problem\"\n",
    "[2]: http://arxiv.org/pdf/1111.4570v3.pdf \"Four degrees of seperation\""
   ]
  },
  {
   "cell_type": "markdown",
   "metadata": {
    "slideshow": {
     "slide_type": "slide"
    }
   },
   "source": [
    "Six-degrees of separation\n",
    "=========================\n",
    "\n",
    "![alt text][six_degrees]\n",
    "\n",
    "[six_degrees]: images/six_degrees.png \"Six-degrees of separation\""
   ]
  },
  {
   "cell_type": "markdown",
   "metadata": {
    "slideshow": {
     "slide_type": "slide"
    }
   },
   "source": [
    "Collecting social network data\n",
    "==============================\n",
    "\n",
    "A static network dataset includes a snapshop of its\n",
    "\n",
    "- **Graph:** Users and their relationships\n",
    "\n",
    "- **Attributes:** User profiles and contents"
   ]
  },
  {
   "cell_type": "markdown",
   "metadata": {
    "slideshow": {
     "slide_type": "fragment"
    }
   },
   "source": [
    "Ways to collect social network data, from easiest to harderst:\n",
    "\n",
    "- Download **publicly available** datasets\n",
    "\n",
    "- Use data-access APIs provided by networks\n",
    "\n",
    "- Crawl and scrape data from networks \"manually\""
   ]
  },
  {
   "cell_type": "markdown",
   "metadata": {
    "slideshow": {
     "slide_type": "slide"
    }
   },
   "source": [
    "Data comes in different shapes & formats\n",
    "========================================\n",
    "\n",
    "Usually **structured**, with a schema (Pajek, TAB, etc.)\n",
    "\n",
    "- Adjacency list for graphs ( `user1, user2` )\n",
    "\n",
    "- Data matrix for attributes ( `male, 26, vancouver, canada, UBC, etc.` )"
   ]
  },
  {
   "cell_type": "markdown",
   "metadata": {
    "slideshow": {
     "slide_type": "fragment"
    }
   },
   "source": [
    "But sometimes **semi-structured**, without a schema (JSON, XML, etc.)\n",
    "\n",
    "- Dictionary with attribute names and values ( `{\"gender\":\"male\", \"age\":26}` )\n",
    "\n",
    "- Marked up attributes with attribute tags and values"
   ]
  },
  {
   "cell_type": "markdown",
   "metadata": {
    "slideshow": {
     "slide_type": "slide"
    }
   },
   "source": [
    "Stanford large network dataset collection (SNAP)\n",
    "================================================\n",
    "\n",
    "Public datasets for social, communication, citation, collaboration, road, and geo-location networks\n",
    "\n",
    "Go to SNAP website [http://snap.stanford.edu/data/index.html](http://snap.stanford.edu/data/index.html)\n",
    "\n",
    "Download Arxiv General Relativity ( `ca-GrQc` ) collaboration network\n",
    "\n",
    "- Direct link is [http://snap.stanford.edu/data/ca-GrQc.html](http://snap.stanford.edu/data/ca-GrQc.html)\n",
    "\n",
    "- Download compressed file `ca-GrQc.txt.gz`\n",
    "\n",
    "- Uncompress the file into `~/dev/notebooks/swi/datasets/ca-GrQc.txt`"
   ]
  },
  {
   "cell_type": "markdown",
   "metadata": {},
   "source": [
    "*Already available to you in the workshop's Github repo!*"
   ]
  },
  {
   "cell_type": "markdown",
   "metadata": {
    "slideshow": {
     "slide_type": "slide"
    }
   },
   "source": [
    "Setting up dev environment\n",
    "=========================="
   ]
  },
  {
   "cell_type": "markdown",
   "metadata": {
    "slideshow": {
     "slide_type": "slide"
    }
   },
   "source": [
    "Installing Anaconda Python distribution\n",
    "=======================================\n",
    "\n",
    "Go to Continuum Anaconda webpage [http://continuum.io/downloads](http://continuum.io/downloads)\n",
    "\n",
    "Download & install the propoer binary of Python 2.7 Graphical Installer\n",
    "\n",
    "Update Anaconda and iPython, then install statsmodels\n",
    "\n",
    "- Use graphical interface (Desktop shortcut)\n",
    "\n",
    "- Or from command-line, type \n",
    "```\n",
    "conda update conda\n",
    "conda update jupyter\n",
    "conda install statsmodels\n",
    "```"
   ]
  },
  {
   "cell_type": "markdown",
   "metadata": {
    "slideshow": {
     "slide_type": "fragment"
    }
   },
   "source": [
    "*Anaconda comes with 224 packages, including Networkx and SciKit-Learn!*"
   ]
  },
  {
   "cell_type": "markdown",
   "metadata": {
    "slideshow": {
     "slide_type": "slide"
    }
   },
   "source": [
    "Installing Git version control system\n",
    "=====================================\n",
    "\n",
    "Go to Git website [http://git-scm.com/downloads](http://git-scm.com/downloads)\n",
    "\n",
    "Download and install the proper binary of Git 2.3.0\n",
    "\n",
    "Clone the workshop's Git repo from Github using command-line\n",
    "\n",
    "```\n",
    "cd ~/\n",
    "mkdir dev\n",
    "cd dev\n",
    "git clone https://github.com/boshmaf/notebooks.git\n",
    "```"
   ]
  },
  {
   "cell_type": "markdown",
   "metadata": {
    "slideshow": {
     "slide_type": "fragment"
    }
   },
   "source": [
    "*Repository contains all workshop material*"
   ]
  },
  {
   "cell_type": "markdown",
   "metadata": {
    "slideshow": {
     "slide_type": "slide"
    }
   },
   "source": [
    "Install PanDoc document convertor\n",
    "=================================\n",
    "\n",
    "Got to PanDoc website [http://johnmacfarlane.net/pandoc/installing.html](http://johnmacfarlane.net/pandoc/installing.html)\n",
    "\n",
    "Download and install the proper binary of PanDoc 1.13.x\n",
    "\n",
    "To view these slides from command-line, type\n",
    "\n",
    "```\n",
    "cd ~/dev/notebooks/swi\n",
    "./start.sh\n",
    "```"
   ]
  },
  {
   "cell_type": "markdown",
   "metadata": {
    "slideshow": {
     "slide_type": "fragment"
    }
   },
   "source": [
    "*This will open a new tab in the browser; use arrow keys to navigate*"
   ]
  },
  {
   "cell_type": "markdown",
   "metadata": {
    "slideshow": {
     "slide_type": "slide"
    }
   },
   "source": [
    "You can now edit the slides!\n",
    "============================\n",
    "\n",
    "From command-line, type\n",
    "```\n",
    "cd ~/dev/notebooks/swi\n",
    "jupyter notebook\n",
    "```"
   ]
  },
  {
   "cell_type": "markdown",
   "metadata": {
    "slideshow": {
     "slide_type": "fragment"
    }
   },
   "source": [
    "*This will open a new tab in the browser; click on `swi.ipynb` to edit*"
   ]
  },
  {
   "cell_type": "markdown",
   "metadata": {
    "slideshow": {
     "slide_type": "slide"
    }
   },
   "source": [
    "Break I\n",
    "======="
   ]
  },
  {
   "cell_type": "markdown",
   "metadata": {
    "slideshow": {
     "slide_type": "slide"
    }
   },
   "source": [
    "Network analysis with Networkx\n",
    "=============================="
   ]
  },
  {
   "cell_type": "markdown",
   "metadata": {
    "slideshow": {
     "slide_type": "slide"
    }
   },
   "source": [
    "What is Networkx?\n",
    "=================\n",
    "\n",
    "Python package for the creation, manipulation, and study of the structure, dynamics, and functions of complex networks.\n",
    "\n",
    "Noticable features\n",
    "\n",
    "- Data structures for graphs, digraphs, and multigraphs\n",
    "\n",
    "- Many standard graph algorithms\n",
    "\n",
    "- Generators for classic graphs, random graphs, and synthetic networks\n",
    "\n",
    "- Nodes can be \"anything\" (e.g. text, images, XML records)\n",
    "\n",
    "- Edges can hold arbitrary data (e.g. weights, time-series)\n",
    "\n",
    "Go to Networkx website for more info [https://networkx.github.io/](https://networkx.github.io/)"
   ]
  },
  {
   "cell_type": "markdown",
   "metadata": {
    "slideshow": {
     "slide_type": "slide"
    }
   },
   "source": [
    "Creating a graph\n",
    "================\n",
    "\n",
    "Graph $G=(V,E)$ is collection of nodes $V$ with identified pairs of nodes called edges $E$"
   ]
  },
  {
   "cell_type": "code",
   "execution_count": 1,
   "metadata": {
    "collapsed": false,
    "slideshow": {
     "slide_type": "fragment"
    }
   },
   "outputs": [],
   "source": [
    "# Import Networkx package\n",
    "import networkx as nx\n",
    "\n",
    "# Create empty undirected graph\n",
    "G = nx.Graph()"
   ]
  },
  {
   "cell_type": "markdown",
   "metadata": {
    "slideshow": {
     "slide_type": "fragment"
    }
   },
   "source": [
    "*We will focus only on undirected graphs*"
   ]
  },
  {
   "cell_type": "markdown",
   "metadata": {
    "slideshow": {
     "slide_type": "slide"
    }
   },
   "source": [
    "Adding nodes\n",
    "============\n",
    "\n",
    "In Python, `[o1, o2, etc.]` is used to group a **mutable list of objects**\n",
    "\n",
    "Let's add a list of 3 nodes representing social network users Dave, Bob, and Alice"
   ]
  },
  {
   "cell_type": "code",
   "execution_count": 2,
   "metadata": {
    "collapsed": false,
    "slideshow": {
     "slide_type": "fragment"
    }
   },
   "outputs": [],
   "source": [
    "# Add three nodes\n",
    "users = [\"Dave\",\"Bob\",\"Alice\"] \n",
    "G.add_nodes_from(users)"
   ]
  },
  {
   "cell_type": "markdown",
   "metadata": {
    "slideshow": {
     "slide_type": "fragment"
    }
   },
   "source": [
    "We can find number of nodes in the graph by computing its *order*"
   ]
  },
  {
   "cell_type": "code",
   "execution_count": 3,
   "metadata": {
    "collapsed": false,
    "slideshow": {
     "slide_type": "fragment"
    }
   },
   "outputs": [
    {
     "name": "stdout",
     "output_type": "stream",
     "text": [
      "Number of nodes is: 3\n"
     ]
    }
   ],
   "source": [
    "print \"Number of nodes is:\", G.order()"
   ]
  },
  {
   "cell_type": "markdown",
   "metadata": {
    "slideshow": {
     "slide_type": "slide"
    }
   },
   "source": [
    "Adding edges\n",
    "============\n",
    "\n",
    "In Python, `(o1, o2, etc.)` is used to group an **immutable tuple of objects**\n",
    "\n",
    "Let's add a list of two friendship tuples between Bob and Dave, and Bob and Alice "
   ]
  },
  {
   "cell_type": "code",
   "execution_count": 4,
   "metadata": {
    "collapsed": false,
    "slideshow": {
     "slide_type": "fragment"
    }
   },
   "outputs": [],
   "source": [
    "# Add edges between nodes\n",
    "friendships = [(\"Bob\",\"Dave\"), (\"Bob\", \"Alice\")]\n",
    "G.add_edges_from(friendships)"
   ]
  },
  {
   "cell_type": "markdown",
   "metadata": {
    "slideshow": {
     "slide_type": "fragment"
    }
   },
   "source": [
    "We can find number of edges in the graph by computing its *size*"
   ]
  },
  {
   "cell_type": "code",
   "execution_count": 5,
   "metadata": {
    "collapsed": false,
    "slideshow": {
     "slide_type": "fragment"
    }
   },
   "outputs": [
    {
     "name": "stdout",
     "output_type": "stream",
     "text": [
      "Number of edges is: 2\n"
     ]
    }
   ],
   "source": [
    "print \"Number of edges is:\", G.size()"
   ]
  },
  {
   "cell_type": "markdown",
   "metadata": {
    "slideshow": {
     "slide_type": "slide"
    }
   },
   "source": [
    "Creating a graph from a dataset\n",
    "===============================\n",
    "\n",
    "All we need to create a graph is an edge list\n",
    "\n",
    "Let's create the Arxiv General Relativity ( `ca-GrQc` ) graph"
   ]
  },
  {
   "cell_type": "markdown",
   "metadata": {
    "slideshow": {
     "slide_type": "fragment"
    }
   },
   "source": [
    "First, we create an empty graph with no nodes"
   ]
  },
  {
   "cell_type": "code",
   "execution_count": 6,
   "metadata": {
    "collapsed": false,
    "slideshow": {
     "slide_type": "fragment"
    }
   },
   "outputs": [],
   "source": [
    "# Create an empty undirected graph\n",
    "G = nx.Graph()"
   ]
  },
  {
   "cell_type": "markdown",
   "metadata": {
    "slideshow": {
     "slide_type": "fragment"
    }
   },
   "source": [
    "Then we open the dataset file and skip all headers"
   ]
  },
  {
   "cell_type": "code",
   "execution_count": 7,
   "metadata": {
    "collapsed": false,
    "slideshow": {
     "slide_type": "fragment"
    }
   },
   "outputs": [],
   "source": [
    "# Open dataset file for reading\n",
    "dataset = open(\"datasets/ca-GrQc.txt\", \"rb\")\n",
    "\n",
    "# Skip the first 4 lines\n",
    "for i in range(0,4):\n",
    "    dataset.next()"
   ]
  },
  {
   "cell_type": "markdown",
   "metadata": {
    "slideshow": {
     "slide_type": "fragment"
    }
   },
   "source": [
    "Finally, we read the dataset line by line and add edges"
   ]
  },
  {
   "cell_type": "code",
   "execution_count": 8,
   "metadata": {
    "collapsed": false,
    "slideshow": {
     "slide_type": "fragment"
    }
   },
   "outputs": [],
   "source": [
    "# Create the graph, edge by edge\n",
    "for line in dataset:\n",
    "    line = line.strip() # Remove whitespace chars\n",
    "    nodes = line.split(\"\\t\") # Split string by tab charater\n",
    "    G.add_edge(nodes[0], nodes[1])\n",
    "    \n",
    "# Close dataset file\n",
    "dataset.close()"
   ]
  },
  {
   "cell_type": "markdown",
   "metadata": {
    "slideshow": {
     "slide_type": "fragment"
    }
   },
   "source": [
    "It's always good to confirm the size and the order by assertion"
   ]
  },
  {
   "cell_type": "code",
   "execution_count": 9,
   "metadata": {
    "collapsed": false,
    "slideshow": {
     "slide_type": "fragment"
    }
   },
   "outputs": [
    {
     "name": "stdout",
     "output_type": "stream",
     "text": [
      "Graph created successfully from dataset!\n"
     ]
    }
   ],
   "source": [
    "assert G.order() == 5242\n",
    "assert G.size() == 14496\n",
    "print \"Graph created successfully from dataset!\""
   ]
  },
  {
   "cell_type": "markdown",
   "metadata": {
    "slideshow": {
     "slide_type": "fragment"
    }
   },
   "source": [
    "We can also use Networkx built-in `read_edgelist` method"
   ]
  },
  {
   "cell_type": "code",
   "execution_count": 10,
   "metadata": {
    "collapsed": false,
    "slideshow": {
     "slide_type": "fragment"
    }
   },
   "outputs": [],
   "source": [
    "# Open dataset file for reading\n",
    "dataset = open(\"datasets/ca-GrQc.txt\", \"rb\")\n",
    "\n",
    "# Skip the first 4 lines\n",
    "for i in range(0,4):\n",
    "    dataset.next()\n",
    "    \n",
    "# Create graph from opened dataset file\n",
    "G = nx.read_edgelist(dataset)\n",
    "\n",
    "# Close dataset file\n",
    "dataset.close()"
   ]
  },
  {
   "cell_type": "markdown",
   "metadata": {
    "slideshow": {
     "slide_type": "fragment"
    }
   },
   "source": [
    "Let's confirm the size and the order again"
   ]
  },
  {
   "cell_type": "code",
   "execution_count": 11,
   "metadata": {
    "collapsed": false,
    "slideshow": {
     "slide_type": "fragment"
    }
   },
   "outputs": [
    {
     "name": "stdout",
     "output_type": "stream",
     "text": [
      "Graph dataset read successfully from file!\n"
     ]
    }
   ],
   "source": [
    "assert G.order() == 5242\n",
    "assert G.size() == 14496\n",
    "print \"Graph dataset read successfully from file!\""
   ]
  },
  {
   "cell_type": "markdown",
   "metadata": {
    "slideshow": {
     "slide_type": "slide"
    }
   },
   "source": [
    "Network analysis: Connected components\n",
    "======================================\n",
    "\n",
    "*Is the collaboration network connected?*"
   ]
  },
  {
   "cell_type": "code",
   "execution_count": 12,
   "metadata": {
    "collapsed": false,
    "slideshow": {
     "slide_type": "fragment"
    }
   },
   "outputs": [
    {
     "name": "stdout",
     "output_type": "stream",
     "text": [
      "The graph is connected? False\n"
     ]
    }
   ],
   "source": [
    "print \"The graph is connected?\", nx.is_connected(G)"
   ]
  },
  {
   "cell_type": "markdown",
   "metadata": {
    "slideshow": {
     "slide_type": "fragment"
    }
   },
   "source": [
    "*How many connected components, or disjoint collaboration subgraph?*"
   ]
  },
  {
   "cell_type": "code",
   "execution_count": 13,
   "metadata": {
    "collapsed": false,
    "slideshow": {
     "slide_type": "fragment"
    }
   },
   "outputs": [
    {
     "name": "stdout",
     "output_type": "stream",
     "text": [
      "Number of connected components is: 355\n"
     ]
    }
   ],
   "source": [
    "print \"Number of connected components is:\", nx.number_connected_components(G)"
   ]
  },
  {
   "cell_type": "markdown",
   "metadata": {
    "slideshow": {
     "slide_type": "fragment"
    }
   },
   "source": [
    "*What's the distribution of number of collaborators in each connected component?*"
   ]
  },
  {
   "cell_type": "markdown",
   "metadata": {
    "slideshow": {
     "slide_type": "fragment"
    }
   },
   "source": [
    "Let's plot the CDF, but we need to import new packages for this"
   ]
  },
  {
   "cell_type": "code",
   "execution_count": 23,
   "metadata": {
    "collapsed": false,
    "slideshow": {
     "slide_type": "fragment"
    }
   },
   "outputs": [],
   "source": [
    "# Enable plotting in the current Notebook\n",
    "%matplotlib inline\n",
    "\n",
    "# Import plotting interface\n",
    "import matplotlib.pyplot as plt\n",
    "\n",
    "# Import stats and numerical packages\n",
    "import statsmodels.api as sm\n",
    "import numpy as np"
   ]
  },
  {
   "cell_type": "markdown",
   "metadata": {
    "slideshow": {
     "slide_type": "fragment"
    }
   },
   "source": [
    "We then get the order of each connected component as a subgraph"
   ]
  },
  {
   "cell_type": "code",
   "execution_count": 15,
   "metadata": {
    "collapsed": false,
    "slideshow": {
     "slide_type": "fragment"
    }
   },
   "outputs": [],
   "source": [
    "# Get connected components as subgraphs\n",
    "subgraphs = list(nx.connected_component_subgraphs(G))\n",
    "\n",
    "# Find order of each subgraph\n",
    "order_values = []\n",
    "for subgraph in subgraphs:\n",
    "    order_values.append(subgraph.order())"
   ]
  },
  {
   "cell_type": "markdown",
   "metadata": {
    "slideshow": {
     "slide_type": "fragment"
    }
   },
   "source": [
    "Finally, we plot the CDF of connected components order"
   ]
  },
  {
   "cell_type": "code",
   "execution_count": 16,
   "metadata": {
    "collapsed": false,
    "slideshow": {
     "slide_type": "fragment"
    }
   },
   "outputs": [
    {
     "data": {
      "image/png": "[encoded data removed]",
      "text/plain": [
       "<matplotlib.figure.Figure at 0x10bfb9210>"
      ]
     },
     "metadata": {},
     "output_type": "display_data"
    }
   ],
   "source": [
    "# Plot connected components order CDF\n",
    "ecdf = sm.distributions.ECDF(order_values)\n",
    "x = np.linspace(min(order_values), max(order_values))\n",
    "y = ecdf(x)\n",
    "plt.plot(x, y)\n",
    "plt.xlabel(\"Order\")\n",
    "plt.ylabel(\"CDF\")\n",
    "plt.show()"
   ]
  },
  {
   "cell_type": "markdown",
   "metadata": {
    "slideshow": {
     "slide_type": "fragment"
    }
   },
   "source": [
    "As the plot is too skewed, we compute helpful summary stats"
   ]
  },
  {
   "cell_type": "code",
   "execution_count": 17,
   "metadata": {
    "collapsed": false,
    "slideshow": {
     "slide_type": "fragment"
    }
   },
   "outputs": [
    {
     "name": "stdout",
     "output_type": "stream",
     "text": [
      "Min order: 1\n",
      "Max order: 4158\n",
      "Mean order: 14.7661971831\n",
      "Median order: 2.0\n",
      "90-percentile order: 5.0\n"
     ]
    }
   ],
   "source": [
    "# Order summary stats\n",
    "print \"Min order:\", np.min(order_values)\n",
    "print \"Max order:\", np.max(order_values)\n",
    "print \"Mean order:\", np.mean(order_values)\n",
    "print \"Median order:\", np.percentile(order_values, 50)\n",
    "print \"90-percentile order:\", np.percentile(order_values, 90)"
   ]
  },
  {
   "cell_type": "markdown",
   "metadata": {
    "slideshow": {
     "slide_type": "fragment"
    }
   },
   "source": [
    "Based on this analysis, we focus on the largest connected compoent!"
   ]
  },
  {
   "cell_type": "code",
   "execution_count": 18,
   "metadata": {
    "collapsed": false,
    "slideshow": {
     "slide_type": "fragment"
    }
   },
   "outputs": [
    {
     "name": "stdout",
     "output_type": "stream",
     "text": [
      "Number of nodes: 4158\n",
      "Number of edges: 13428\n"
     ]
    }
   ],
   "source": [
    "# User built-in max with custom value function\n",
    "G = max(subgraphs, key=nx.Graph.order)\n",
    "\n",
    "print \"Number of nodes:\", G.order()\n",
    "print \"Number of edges:\", G.size()"
   ]
  },
  {
   "cell_type": "markdown",
   "metadata": {
    "slideshow": {
     "slide_type": "slide"
    }
   },
   "source": [
    "Network analysis: Connectivity\n",
    "==============================\n",
    "\n",
    "*What is the maximum number of in-between collaborators among any pair of researchers?*"
   ]
  },
  {
   "cell_type": "markdown",
   "metadata": {
    "slideshow": {
     "slide_type": "fragment"
    }
   },
   "source": [
    "We can find this by computing the **diameter** of the graph: The length of the longest shortest path between any pair of nodes"
   ]
  },
  {
   "cell_type": "code",
   "execution_count": 19,
   "metadata": {
    "collapsed": false,
    "slideshow": {
     "slide_type": "fragment"
    }
   },
   "outputs": [
    {
     "name": "stdout",
     "output_type": "stream",
     "text": [
      "Graph diameter is: 17\n"
     ]
    }
   ],
   "source": [
    "print \"Graph diameter is:\", nx.diameter(G)"
   ]
  },
  {
   "cell_type": "markdown",
   "metadata": {
    "slideshow": {
     "slide_type": "fragment"
    }
   },
   "source": [
    "*How likely are the collaborators of a researcher to collaborate themselves, on average?*"
   ]
  },
  {
   "cell_type": "markdown",
   "metadata": {
    "slideshow": {
     "slide_type": "fragment"
    }
   },
   "source": [
    "We can find this by computing the **average clustering coefficient** $C(G)$ of the graph $G$:\n",
    "\n",
    "$$ C(G) = \\frac{1}{n} \\sum_{v_i\\in V} c(v_i) $$\n",
    "\n",
    "Where $n$ is number of nodes and $c(v_i)$ is the *clustering coefficient* of node $v_i$, defined by\n",
    "\n",
    "$$ c(v_i) = \\frac{2T(v_i)}{\\deg(v_i)(\\deg(v_i)-1)} $$\n",
    "\n",
    "Where $T(v_i)$ is the numer of *triangles* through node $v_i$ and $\\deg(v_i)$ is the *degree* of $v_i$, which is number of edges incident to $v_i$"
   ]
  },
  {
   "cell_type": "code",
   "execution_count": 20,
   "metadata": {
    "collapsed": false,
    "slideshow": {
     "slide_type": "fragment"
    }
   },
   "outputs": [
    {
     "name": "stdout",
     "output_type": "stream",
     "text": [
      "Average clustering coefficient is: 0.55687821617\n"
     ]
    }
   ],
   "source": [
    "print \"Average clustering coefficient is:\", nx.average_clustering(G)"
   ]
  },
  {
   "cell_type": "markdown",
   "metadata": {
    "slideshow": {
     "slide_type": "fragment"
    }
   },
   "source": [
    "*How dense is the collaboration, or how close it is to \"everyone is collaborating with everyone else\"?*"
   ]
  },
  {
   "cell_type": "markdown",
   "metadata": {
    "slideshow": {
     "slide_type": "fragment"
    }
   },
   "source": [
    "We can find this by computing the **density** $D(G)$ of the graph, defined by\n",
    "\n",
    "$$ D(G) = \\frac{2m}{n(n-1)} $$\n",
    "\n",
    "where $m$ is number of edges\n",
    "\n",
    "For a complete graph that is fully-connected, $m=n(n-1)/2$ so $D(G)=1$"
   ]
  },
  {
   "cell_type": "code",
   "execution_count": 21,
   "metadata": {
    "collapsed": false,
    "slideshow": {
     "slide_type": "fragment"
    }
   },
   "outputs": [
    {
     "name": "stdout",
     "output_type": "stream",
     "text": [
      "Graph density: 0.00155373453425\n"
     ]
    }
   ],
   "source": [
    "print \"Graph density:\", nx.density(G)"
   ]
  },
  {
   "cell_type": "markdown",
   "metadata": {
    "slideshow": {
     "slide_type": "slide"
    }
   },
   "source": [
    "Network analysis: Degree centrality\n",
    "===================================\n",
    "\n",
    "*Who are the most collaborative researchers?*"
   ]
  },
  {
   "cell_type": "markdown",
   "metadata": {
    "slideshow": {
     "slide_type": "fragment"
    }
   },
   "source": [
    "We find this by computing the degree **centrality** $c(v_i)$ of each node $v_i$: The fraction of nodes it is connected to, formally\n",
    "\n",
    "$$ c(v_i) = \\frac{\\deg(v_i)}{n-1} $$"
   ]
  },
  {
   "cell_type": "code",
   "execution_count": 22,
   "metadata": {
    "collapsed": false,
    "slideshow": {
     "slide_type": "fragment"
    }
   },
   "outputs": [],
   "source": [
    "# Compute degree centrality of nodes\n",
    "deg_centrality = nx.degree_centrality(G)"
   ]
  },
  {
   "cell_type": "markdown",
   "metadata": {
    "slideshow": {
     "slide_type": "fragment"
    }
   },
   "source": [
    "We then sort the nodes by their degree centrality and find top-5 nodes"
   ]
  },
  {
   "cell_type": "code",
   "execution_count": 23,
   "metadata": {
    "collapsed": false,
    "slideshow": {
     "slide_type": "fragment"
    }
   },
   "outputs": [
    {
     "name": "stdout",
     "output_type": "stream",
     "text": [
      "Rank: 1 with ID 21012\n",
      "Rank: 2 with ID 21281\n",
      "Rank: 3 with ID 22691\n",
      "Rank: 4 with ID 12365\n",
      "Rank: 5 with ID 6610\n"
     ]
    }
   ],
   "source": [
    "# Impost useful operators for sorting\n",
    "import operator\n",
    "\n",
    "# Sort nodes by their degree centrality\n",
    "top_nodes = sorted(deg_centrality.items(), key=operator.itemgetter(1), reverse=True)\n",
    "\n",
    "# Print top-5 nodes\n",
    "for i in range(0,5):\n",
    "    print \"Rank:\", i+1, \"with ID\", top_nodes[i][0]"
   ]
  },
  {
   "cell_type": "markdown",
   "metadata": {
    "slideshow": {
     "slide_type": "fragment"
    }
   },
   "source": [
    "*What is the collaboration distribution among researchers?*"
   ]
  },
  {
   "cell_type": "markdown",
   "metadata": {
    "slideshow": {
     "slide_type": "fragment"
    }
   },
   "source": [
    "To find this, we plot the degree distribution of the graph"
   ]
  },
  {
   "cell_type": "code",
   "execution_count": 24,
   "metadata": {
    "collapsed": false,
    "slideshow": {
     "slide_type": "fragment"
    }
   },
   "outputs": [
    {
     "data": {
      "image/png": "[encoded data removed]",
      "text/plain": [
       "<matplotlib.figure.Figure at 0x10c097710>"
      ]
     },
     "metadata": {},
     "output_type": "display_data"
    }
   ],
   "source": [
    "# Get degrees of all nodes\n",
    "degree_values = G.degree(G.nodes()).values()\n",
    "\n",
    "# Plot degree CDF\n",
    "ecdf = sm.distributions.ECDF(degree_values)\n",
    "x = np.linspace(min(degree_values), max(degree_values))\n",
    "y = ecdf(x)\n",
    "plt.plot(x, y)\n",
    "plt.xlabel(\"Degree\")\n",
    "plt.ylabel(\"CDF\")\n",
    "plt.show()"
   ]
  },
  {
   "cell_type": "markdown",
   "metadata": {
    "slideshow": {
     "slide_type": "fragment"
    }
   },
   "source": [
    "Only 10% of researchers have at least 15 collaborators\n",
    "\n",
    "- Concentrated distrubtion, power-law?\n",
    "\n",
    "- We can compute helpful summary stats to elaborate"
   ]
  },
  {
   "cell_type": "code",
   "execution_count": 25,
   "metadata": {
    "collapsed": false,
    "slideshow": {
     "slide_type": "fragment"
    }
   },
   "outputs": [
    {
     "name": "stdout",
     "output_type": "stream",
     "text": [
      "Min degree: 1\n",
      "Max degree: 81\n",
      "Mean degree: 6.45887445887\n",
      "Median degree: 3.0\n",
      "90-percentile degree: 15.0\n"
     ]
    }
   ],
   "source": [
    "# Degree summary stats\n",
    "print \"Min degree:\", np.min(degree_values)\n",
    "print \"Max degree:\", np.max(degree_values)\n",
    "print \"Mean degree:\", np.mean(degree_values)\n",
    "print \"Median degree:\", np.percentile(degree_values, 50)\n",
    "print \"90-percentile degree:\", np.percentile(degree_values, 90)"
   ]
  },
  {
   "cell_type": "markdown",
   "metadata": {
    "slideshow": {
     "slide_type": "slide"
    }
   },
   "source": [
    "Sampling a graph\n",
    "================\n",
    "\n",
    "If the graph is too large, we need to sample it\n",
    "\n",
    "Ideally, the sampled graph should exhibit the same properties as the original\n",
    "\n",
    "There are many ways to sample, most popular are [[1]]\n",
    "\n",
    "- Breadth-first search (BFS) or depth-first search (DFS)\n",
    "\n",
    "- Random walk and forest fire\n",
    "\n",
    "[1]: http://cs.stanford.edu/people/jure/pubs/sampling-kdd06.pdf \"Sampling from large graphs\""
   ]
  },
  {
   "cell_type": "markdown",
   "metadata": {
    "slideshow": {
     "slide_type": "fragment"
    }
   },
   "source": [
    "See animation of BFS sampling algorithm [https://www.cs.usfca.edu/~galles/visualization/BFS.html](https://www.cs.usfca.edu/~galles/visualization/BFS.html)"
   ]
  },
  {
   "cell_type": "markdown",
   "metadata": {
    "slideshow": {
     "slide_type": "fragment"
    }
   },
   "source": [
    "Okay, let's sample 30 nodes from the graph using BFS"
   ]
  },
  {
   "cell_type": "code",
   "execution_count": 26,
   "metadata": {
    "collapsed": false,
    "slideshow": {
     "slide_type": "fragment"
    }
   },
   "outputs": [],
   "source": [
    "# Import utility functions\n",
    "import utils\n",
    "\n",
    "# Sample a 30-node subgraph using BFS\n",
    "H = utils.bfs_sample(G, size=30)"
   ]
  },
  {
   "cell_type": "markdown",
   "metadata": {
    "slideshow": {
     "slide_type": "fragment"
    }
   },
   "source": [
    "It is good to confirm the sampled graph is indeed smaller and connected"
   ]
  },
  {
   "cell_type": "code",
   "execution_count": 27,
   "metadata": {
    "collapsed": false,
    "slideshow": {
     "slide_type": "fragment"
    }
   },
   "outputs": [
    {
     "name": "stdout",
     "output_type": "stream",
     "text": [
      "Number of nodes: 30\n",
      "Number of edges: 29\n",
      "Is connected? True\n"
     ]
    }
   ],
   "source": [
    "print \"Number of nodes:\", H.order()\n",
    "print \"Number of edges:\", H.size()\n",
    "print \"Is connected?\", nx.is_connected(H)"
   ]
  },
  {
   "cell_type": "markdown",
   "metadata": {
    "slideshow": {
     "slide_type": "slide"
    }
   },
   "source": [
    "Visualizing a graph\n",
    "===================\n",
    "\n",
    "Let's visualize the graph sample instead of the whole graph "
   ]
  },
  {
   "cell_type": "code",
   "execution_count": 28,
   "metadata": {
    "collapsed": false,
    "slideshow": {
     "slide_type": "fragment"
    }
   },
   "outputs": [
    {
     "data": {
      "image/png": "[encoded data removed]",
      "text/plain": [
       "<matplotlib.figure.Figure at 0x1075a2d10>"
      ]
     },
     "metadata": {},
     "output_type": "display_data"
    }
   ],
   "source": [
    "# Visualize the sampled graph\n",
    "nx.draw(H)\n",
    "\n",
    "# Show the plot\n",
    "plt.show()"
   ]
  },
  {
   "cell_type": "markdown",
   "metadata": {
    "slideshow": {
     "slide_type": "slide"
    }
   },
   "source": [
    "Break II\n",
    "========"
   ]
  },
  {
   "cell_type": "markdown",
   "metadata": {
    "slideshow": {
     "slide_type": "slide"
    }
   },
   "source": [
    "Machine learning with SciKit-Learn\n",
    "=================================="
   ]
  },
  {
   "cell_type": "markdown",
   "metadata": {
    "slideshow": {
     "slide_type": "slide"
    }
   },
   "source": [
    "What is SciKit-Learn?\n",
    "=====================\n",
    "\n",
    "Python package for machine learning\n",
    "\n",
    "Noticable features\n",
    "\n",
    "- Simple and efficient tools for data mining and data analysis\n",
    "\n",
    "- Accessible to everybody, and reusable in various contexts\n",
    "\n",
    "- Built on top of NumPy, SciPy, and MatPlotLib\n",
    "\n",
    "Go to SciKit-Learn website for more info [http://scikit-learn.org/stable/index.html](http://scikit-learn.org/stable/index.html)"
   ]
  },
  {
   "cell_type": "markdown",
   "metadata": {
    "slideshow": {
     "slide_type": "slide"
    }
   },
   "source": [
    "What is machine learning?\n",
    "=========================\n",
    "\n",
    "Using a set of data samples to **predict properties** of similar but **unseen before** data\n",
    "\n",
    "Each data sample represents a vector of one of more numbers or categories called **features**\n",
    "\n",
    "A collection of feature vectors is called a **dataset**"
   ]
  },
  {
   "cell_type": "markdown",
   "metadata": {
    "slideshow": {
     "slide_type": "fragment"
    }
   },
   "source": [
    "For example,\n",
    "\n",
    "- User Bob has the following feature vector: $($1, \"Bob\", 24, \"USA\", \"Male\"$)$\n",
    "\n",
    "- User Alice has the following feature vector: $($2, \"Alice\", 20, \"Canada\", \"Female\"$)$\n",
    "\n",
    "- So 1st feature is ID, 2nd is name, 3rd is age, 4th is nationality, 5th is gender"
   ]
  },
  {
   "cell_type": "markdown",
   "metadata": {
    "slideshow": {
     "slide_type": "fragment"
    }
   },
   "source": [
    "*For a new user Dave with feature vector $($3, \"Bob\", 23, \"Canada\"$)$, what is Dave's gender?*"
   ]
  },
  {
   "cell_type": "markdown",
   "metadata": {
    "slideshow": {
     "slide_type": "slide"
    }
   },
   "source": [
    "What is machine learning?\n",
    "=========================\n",
    "\n",
    "We will focus on **supervised** learning problems\n",
    "\n",
    "- Feature vectors have at least one feature that we want to predict\n",
    "\n",
    "- This feature is called the **target variable** (e.g., gender)\n",
    "\n",
    "- Subset of feature vectors already have target values, called **training dataset**\n",
    "\n",
    "- The rest we want to predict their target values, called **testing or new dataset**\n",
    "\n",
    "- Goal is to predict \"accurately with minimal errors\" using a machine learning **algorithm**"
   ]
  },
  {
   "cell_type": "markdown",
   "metadata": {
    "slideshow": {
     "slide_type": "fragment"
    }
   },
   "source": [
    "If the target variable have discrete or categorical values (e.g., gender), it is called a **label** and the learning problem is called a **classification** problem"
   ]
  },
  {
   "cell_type": "markdown",
   "metadata": {
    "slideshow": {
     "slide_type": "fragment"
    }
   },
   "source": [
    "*We will tackle a classification problems using supervised machine learning*"
   ]
  },
  {
   "cell_type": "markdown",
   "metadata": {
    "slideshow": {
     "slide_type": "slide"
    }
   },
   "source": [
    "![alt txt][supervised_ML]\n",
    "\n",
    "[supervised_ML]: images/supervised_ML.png \"Supervised machine learning\""
   ]
  },
  {
   "cell_type": "markdown",
   "metadata": {
    "slideshow": {
     "slide_type": "slide"
    }
   },
   "source": [
    "Building a ground truth\n",
    "=======================\n",
    "\n",
    "*Let's predict gender from first names!*"
   ]
  },
  {
   "cell_type": "markdown",
   "metadata": {
    "slideshow": {
     "slide_type": "fragment"
    }
   },
   "source": [
    "Go to the US Social Security website [http://www.ssa.gov/oact/babynames/limits.html](http://www.ssa.gov/oact/babynames/limits.html)\n",
    "\n",
    "Download the national popular baby names dataset, called `names.zip`\n",
    "\n",
    "- Click on \"National data\"\n",
    "\n",
    "- Uncompress the datasets a into datasets directory"
   ]
  },
  {
   "cell_type": "markdown",
   "metadata": {
    "slideshow": {
     "slide_type": "fragment"
    }
   },
   "source": [
    "*It's already available to you in the workshop repo!*"
   ]
  },
  {
   "cell_type": "markdown",
   "metadata": {
    "slideshow": {
     "slide_type": "fragment"
    }
   },
   "source": [
    "First, we need to get a list of file names"
   ]
  },
  {
   "cell_type": "code",
   "execution_count": 2,
   "metadata": {
    "collapsed": false,
    "slideshow": {
     "slide_type": "fragment"
    }
   },
   "outputs": [],
   "source": [
    "# Useful file pattern package\n",
    "import glob\n",
    "\n",
    "# Get a list of file names in dataset directory\n",
    "file_names = glob.glob(\"datasets/names/*.txt\")"
   ]
  },
  {
   "cell_type": "markdown",
   "metadata": {
    "slideshow": {
     "slide_type": "fragment"
    }
   },
   "source": [
    "Then, we open and combine their content"
   ]
  },
  {
   "cell_type": "code",
   "execution_count": 3,
   "metadata": {
    "collapsed": false,
    "slideshow": {
     "slide_type": "fragment"
    }
   },
   "outputs": [],
   "source": [
    "# Open files and merge data\n",
    "dataset = {}\n",
    "for file_name in file_names:\n",
    "    file_data = open(file_name)\n",
    "    for line in file_data:\n",
    "        line = line.strip()\n",
    "        data = line.split(\",\")\n",
    "        \n",
    "        name = data[0].lower()\n",
    "        if name not in dataset:\n",
    "            dataset[name] = [0,0] # [male_count, female_count]\n",
    "        \n",
    "        gender = 0 if data[1] == \"M\" else 1\n",
    "        count = int(data[2])\n",
    "        dataset[name][gender] += count"
   ]
  },
  {
   "cell_type": "markdown",
   "metadata": {
    "slideshow": {
     "slide_type": "fragment"
    }
   },
   "source": [
    "Let's print dataset summary and checkout the 100th data sample, for example"
   ]
  },
  {
   "cell_type": "code",
   "execution_count": 5,
   "metadata": {
    "collapsed": false,
    "slideshow": {
     "slide_type": "fragment"
    }
   },
   "outputs": [
    {
     "name": "stdout",
     "output_type": "stream",
     "text": [
      "Number of names: 92600\n",
      "100th name is: kinsler\n",
      "Its male count: 151\n",
      "Its female count: 18\n"
     ]
    }
   ],
   "source": [
    "print \"Number of names:\", len(dataset)\n",
    "\n",
    "name = dataset.keys()[100]\n",
    "print \"100th name is:\", name\n",
    "\n",
    "gender_count = dataset[name]\n",
    "print \"Its male count:\", gender_count[0]\n",
    "print \"Its female count:\", gender_count[1]"
   ]
  },
  {
   "cell_type": "markdown",
   "metadata": {
    "slideshow": {
     "slide_type": "fragment"
    }
   },
   "source": [
    "The dataset has an issue: **Some names are unisex!**\n",
    "\n",
    "*How big is the issue?*"
   ]
  },
  {
   "cell_type": "code",
   "execution_count": 6,
   "metadata": {
    "collapsed": false,
    "slideshow": {
     "slide_type": "fragment"
    }
   },
   "outputs": [
    {
     "name": "stdout",
     "output_type": "stream",
     "text": [
      "Number of unisex names: 10090\n",
      "Ratio is dataset: 10.90%\n"
     ]
    }
   ],
   "source": [
    "# Compute ratio of unisex names in dataset\n",
    "unisex_count = 0\n",
    "for name in dataset:\n",
    "    gender_count = dataset[name]\n",
    "    if gender_count[0] != 0 and gender_count[1] != 0:\n",
    "        unisex_count += 1\n",
    "        \n",
    "print \"Number of unisex names:\", unisex_count\n",
    "print \"Ratio is dataset: {0:.2f}%\".format(100*unisex_count/float(len(dataset)))"
   ]
  },
  {
   "cell_type": "markdown",
   "metadata": {
    "slideshow": {
     "slide_type": "fragment"
    }
   },
   "source": [
    "We can use gender count to label names as female or not\n",
    "\n",
    "- Let $C_m(n_i)$ be count of males with name $n_i$\n",
    "\n",
    "- Similarly, let $C_f(n_i)$ be the count of females with name $n_i$\n",
    "\n",
    "Now, let a label $\\ell(n_i)=1$ means the name $n_i$ **corresponds to a female**, as defined by\n",
    "\n",
    "$$\n",
    "\\ell(n_i) = \n",
    "\\begin{cases} 1 &\\mbox{if } \\displaystyle\\frac{C_f(n_i)}{\\left(C_f(n_i) + C_m(n_i)\\right)} > 0.5, \\\\ \n",
    "0 & \\mbox{Otherwise. }\n",
    "\\end{cases}\n",
    "$$\n",
    "\n",
    "Accordingly, Kinsler should be labelled as a male with target value of 0, let's do it"
   ]
  },
  {
   "cell_type": "code",
   "execution_count": 7,
   "metadata": {
    "collapsed": false,
    "slideshow": {
     "slide_type": "fragment"
    }
   },
   "outputs": [
    {
     "name": "stdout",
     "output_type": "stream",
     "text": [
      "Number of females: 58777\n",
      "Ratio is dataset: 63.47%\n"
     ]
    }
   ],
   "source": [
    "# Assign labels to names in dataset\n",
    "female_count = 0\n",
    "for name in dataset:\n",
    "    gender_count = dataset[name]\n",
    "    if gender_count[1] / float(sum(gender_count)) > 0.5:\n",
    "        dataset[name] = 1\n",
    "        female_count += 1\n",
    "    else:\n",
    "        dataset[name] = 0\n",
    "        \n",
    "print \"Number of females:\", female_count\n",
    "print \"Ratio is dataset: {0:.2f}%\".format(100*female_count/float(len(dataset)))"
   ]
  },
  {
   "cell_type": "markdown",
   "metadata": {
    "slideshow": {
     "slide_type": "fragment"
    }
   },
   "source": [
    "Let's check back on Kinsler!"
   ]
  },
  {
   "cell_type": "code",
   "execution_count": 8,
   "metadata": {
    "collapsed": false,
    "slideshow": {
     "slide_type": "fragment"
    }
   },
   "outputs": [
    {
     "name": "stdout",
     "output_type": "stream",
     "text": [
      "100th name is: kinsler\n",
      "Its gender is: Male\n"
     ]
    }
   ],
   "source": [
    "name = dataset.keys()[100]\n",
    "print \"100th name is:\", name\n",
    "print \"Its gender is:\", \"Female\" if int(dataset[name]) == 1 else \"Male\""
   ]
  },
  {
   "cell_type": "markdown",
   "metadata": {
    "slideshow": {
     "slide_type": "fragment"
    }
   },
   "source": [
    "*We haven't done machine learning yet; we just built a \"low-noise\" ground-truth!*"
   ]
  },
  {
   "cell_type": "markdown",
   "metadata": {
    "slideshow": {
     "slide_type": "slide"
    }
   },
   "source": [
    "Feature extraction and engineering\n",
    "==================================\n",
    "\n",
    "*What are useful features of a name that predict the gender?*"
   ]
  },
  {
   "cell_type": "markdown",
   "metadata": {
    "slideshow": {
     "slide_type": "fragment"
    }
   },
   "source": [
    "For latin or western names, one can look at\n",
    "\n",
    "- The last letter\n",
    "\n",
    "- The last two letter\n",
    "\n",
    "- Whether the last letter is a vowel\n",
    "\n",
    "*Example: Philipp vs. Philippa*"
   ]
  },
  {
   "cell_type": "markdown",
   "metadata": {
    "slideshow": {
     "slide_type": "fragment"
    }
   },
   "source": [
    "Let's extract these features and build our labelled dataset"
   ]
  },
  {
   "cell_type": "code",
   "execution_count": 9,
   "metadata": {
    "collapsed": false,
    "slideshow": {
     "slide_type": "fragment"
    }
   },
   "outputs": [],
   "source": [
    "# Extract features from names\n",
    "for name in dataset:\n",
    "    name_features = {}\n",
    "    name_features[\"last_letter\"] = name[-1]\n",
    "    name_features[\"last_two\"] = name[-2:]\n",
    "    name_features[\"last_is_vowel\"] = 1 if name[-1] in \"aeiouy\" else 0\n",
    "    name_features[\"label\"] = dataset[name]\n",
    "    dataset[name] = name_features"
   ]
  },
  {
   "cell_type": "markdown",
   "metadata": {
    "slideshow": {
     "slide_type": "fragment"
    }
   },
   "source": [
    "Let's look at how the 100th name features looks like"
   ]
  },
  {
   "cell_type": "code",
   "execution_count": 10,
   "metadata": {
    "collapsed": false,
    "slideshow": {
     "slide_type": "fragment"
    }
   },
   "outputs": [
    {
     "name": "stdout",
     "output_type": "stream",
     "text": [
      "Name is: kinsler\n",
      "Feature 'last_letter' is: r\n",
      "Feature 'last_two' is: er\n",
      "Feature 'last_is_vowel' is: 0\n",
      "Label is: 0\n"
     ]
    }
   ],
   "source": [
    "name = dataset.keys()[100]\n",
    "print \"Name is:\", dataset.keys()[100]\n",
    "\n",
    "features = dataset[name]\n",
    "print \"Feature 'last_letter' is:\", features[\"last_letter\"]\n",
    "print \"Feature 'last_two' is:\", features[\"last_two\"]\n",
    "print \"Feature 'last_is_vowel' is:\", features[\"last_is_vowel\"]\n",
    "print \"Label is:\", features[\"label\"]"
   ]
  },
  {
   "cell_type": "markdown",
   "metadata": {
    "slideshow": {
     "slide_type": "fragment"
    }
   },
   "source": [
    "*We now have a labelled dataset in a feature-value or dictionary format*"
   ]
  },
  {
   "cell_type": "markdown",
   "metadata": {
    "slideshow": {
     "slide_type": "slide"
    }
   },
   "source": [
    "Vectorizing the labelled dataset\n",
    "================================\n",
    "\n",
    "We need to convert the dataset from feature-value format to vectors\n",
    "\n",
    "For categorical features, we can do **binary one-of-K** coding\n",
    "\n",
    "- A binary feature is constructed for each of possible string values a feature can take\n",
    "\n",
    "- So `last_letter` feature results in up to 26 features\n",
    "\n",
    "*Example, `last_letter=a`, `last_letter=b`, etc.*"
   ]
  },
  {
   "cell_type": "code",
   "execution_count": 11,
   "metadata": {
    "collapsed": false,
    "slideshow": {
     "slide_type": "fragment"
    }
   },
   "outputs": [],
   "source": [
    "# Dictionary vectorizer from SciKit-Learn package\n",
    "from sklearn.feature_extraction import DictVectorizer\n",
    "\n",
    "vectorizer = DictVectorizer()\n",
    "labelled_vectors = vectorizer.fit_transform(dataset.values()).toarray()"
   ]
  },
  {
   "cell_type": "markdown",
   "metadata": {
    "slideshow": {
     "slide_type": "fragment"
    }
   },
   "source": [
    "The vectorizer also preserves feature names"
   ]
  },
  {
   "cell_type": "code",
   "execution_count": 12,
   "metadata": {
    "collapsed": false,
    "slideshow": {
     "slide_type": "fragment"
    }
   },
   "outputs": [
    {
     "name": "stdout",
     "output_type": "stream",
     "text": [
      "Number of features: 468\n"
     ]
    }
   ],
   "source": [
    "# Get feature names and label index\n",
    "feature_names = vectorizer.get_feature_names()\n",
    "label_index = feature_names.index(\"label\")\n",
    "feature_names.remove(\"label\")\n",
    "\n",
    "print \"Number of features:\", len(feature_names)"
   ]
  },
  {
   "cell_type": "markdown",
   "metadata": {
    "slideshow": {
     "slide_type": "fragment"
    }
   },
   "source": [
    "Finally, we split the labelled vectors into vectors and labels"
   ]
  },
  {
   "cell_type": "code",
   "execution_count": 14,
   "metadata": {
    "collapsed": false,
    "slideshow": {
     "slide_type": "fragment"
    }
   },
   "outputs": [
    {
     "name": "stdout",
     "output_type": "stream",
     "text": [
      "[[ 0.  0.  0. ...,  0.  0.  0.]\n",
      " [ 1.  1.  0. ...,  0.  0.  0.]\n",
      " [ 0.  0.  0. ...,  0.  0.  0.]\n",
      " ..., \n",
      " [ 0.  0.  0. ...,  0.  0.  0.]\n",
      " [ 0.  0.  0. ...,  0.  0.  0.]\n",
      " [ 0.  0.  0. ...,  0.  0.  0.]]\n"
     ]
    }
   ],
   "source": [
    "# Split labelled vectors into labels and vectors\n",
    "import numpy as np\n",
    "labels = labelled_vectors[:,label_index]\n",
    "vectors = np.delete(labelled_vectors, [label_index], axis=1)\n",
    "print vectors"
   ]
  },
  {
   "cell_type": "markdown",
   "metadata": {
    "slideshow": {
     "slide_type": "fragment"
    }
   },
   "source": [
    "It's always good to validate we have all data by asserting"
   ]
  },
  {
   "cell_type": "code",
   "execution_count": 15,
   "metadata": {
    "collapsed": false,
    "slideshow": {
     "slide_type": "fragment"
    }
   },
   "outputs": [
    {
     "name": "stdout",
     "output_type": "stream",
     "text": [
      "Dataset vectorized successfully!\n"
     ]
    }
   ],
   "source": [
    "# Validate dimensions\n",
    "assert vectors.shape[0] == len(dataset)\n",
    "assert vectors.shape[1] == len(feature_names)\n",
    "assert labels.shape[0] == vectors.shape[0]\n",
    "print \"Dataset vectorized successfully!\""
   ]
  },
  {
   "cell_type": "markdown",
   "metadata": {
    "slideshow": {
     "slide_type": "slide"
    }
   },
   "source": [
    "Training a classifier using Naive Bayes\n",
    "=======================================\n",
    "\n",
    "*First, what is Naive Bayes classifier?*"
   ]
  },
  {
   "cell_type": "markdown",
   "metadata": {
    "slideshow": {
     "slide_type": "fragment"
    }
   },
   "source": [
    "Applies Bayes' theorem with the \"naive\" assumption of **independence between every pair of features**.\n",
    "\n",
    "Given a target variable $y$ and a dependent feature vector $(x_1,\\dots,x_n)$ of $n$ features, Bayes' theorem states the following relationship:\n",
    "\n",
    "$$\n",
    "P(y~|~x_1,\\dots,x_n) = \\frac{P(y)P(x_1,\\dots,x_n~|~y)}{P(x_1,\\dots,x_n)}\n",
    "$$"
   ]
  },
  {
   "cell_type": "markdown",
   "metadata": {
    "slideshow": {
     "slide_type": "fragment"
    }
   },
   "source": [
    "Using the naive independence assumption that\n",
    "\n",
    "$$\n",
    "P(x_i~|~y,x_1,\\dots,x_{i-1},x_{i+1},\\dots,x_n) = P(x_i~|~y)\n",
    "$$\n",
    "\n",
    "And the chaining rule\n",
    "\n",
    "$$\n",
    "P(x_1,\\dots,x_n~|~y) = P(x_1~|~y)P(x_2,\\dots,x_n~|~y)\n",
    "$$"
   ]
  },
  {
   "cell_type": "markdown",
   "metadata": {
    "slideshow": {
     "slide_type": "fragment"
    }
   },
   "source": [
    "For all $i$, this relationship simplifies to\n",
    "\n",
    "$$\n",
    "P(y~|~x_1,\\dots,x_n) = \\frac{P(y)\\prod_{i=1}^n P(x_i~|~y)}{P(x_1,\\dots,x_n)}\n",
    "$$"
   ]
  },
  {
   "cell_type": "markdown",
   "metadata": {
    "slideshow": {
     "slide_type": "fragment"
    }
   },
   "source": [
    "Since $P(x_1,\\dots, x_n)$ is constant given the input, we can use the following classification rule\n",
    "\n",
    "$$\n",
    "P(y \\mid x_1, \\dots, x_n) \\propto P(y) \\prod_{i=1}^{n} P(x_i \\mid y) \\\\ \\Downarrow \\\\ \\hat{y} = \\arg\\max_y P(y) \\prod_{i=1}^{n} P(x_i \\mid y)\n",
    "$$\n",
    "\n",
    "We can use Maximum A Posteriori (MAP) estimation to estimate $P(y)$ and $P(x_i~|~y)$; the former is then the **relative frequency** of class y in the training set."
   ]
  },
  {
   "cell_type": "markdown",
   "metadata": {
    "slideshow": {
     "slide_type": "fragment"
    }
   },
   "source": [
    "Different assumptions regarding the distribution of $P(x_i~|~y)$ lead to different classifiers\n",
    "\n",
    "- We assume data is distributed according to multivariate Bernoulli distributions\n",
    "\n",
    "- Meaing there may be multiple features but each one is assumed to be a binary-valued\n",
    "\n",
    "The decision rule for **Bernoulli naive Bayes** is based on\n",
    "\n",
    "$$\n",
    "P(x_i \\mid y) = P(i \\mid y) x_i + (1 - P(i \\mid y)) (1 - x_i)\n",
    "$$"
   ]
  },
  {
   "cell_type": "markdown",
   "metadata": {
    "slideshow": {
     "slide_type": "fragment"
    }
   },
   "source": [
    "Alright, let's start the learning process. First, we need to shuffle the data to remove ordering bias"
   ]
  },
  {
   "cell_type": "code",
   "execution_count": 16,
   "metadata": {
    "collapsed": false,
    "slideshow": {
     "slide_type": "fragment"
    }
   },
   "outputs": [],
   "source": [
    "# Import shuffle method\n",
    "from sklearn.utils import shuffle\n",
    "\n",
    "# Shuffle the data\n",
    "rand_state = np.random.RandomState(seed=0)\n",
    "X, y = shuffle(vectors, labels, random_state=rand_state)"
   ]
  },
  {
   "cell_type": "markdown",
   "metadata": {
    "slideshow": {
     "slide_type": "fragment"
    }
   },
   "source": [
    "We now slpit the data into 80% training set and 20% testing set"
   ]
  },
  {
   "cell_type": "code",
   "execution_count": 17,
   "metadata": {
    "collapsed": false,
    "slideshow": {
     "slide_type": "fragment"
    }
   },
   "outputs": [],
   "source": [
    "# Split data\n",
    "training_index = X.shape[0] * 0.8\n",
    "X_train = X[:training_index]\n",
    "y_train = y[:training_index]\n",
    "\n",
    "X_test = X[training_index:]\n",
    "y_test = y[training_index:]"
   ]
  },
  {
   "cell_type": "markdown",
   "metadata": {
    "slideshow": {
     "slide_type": "fragment"
    }
   },
   "source": [
    "Always confirm your split was correct"
   ]
  },
  {
   "cell_type": "code",
   "execution_count": 18,
   "metadata": {
    "collapsed": false,
    "slideshow": {
     "slide_type": "fragment"
    }
   },
   "outputs": [
    {
     "name": "stdout",
     "output_type": "stream",
     "text": [
      "Data split successfully!\n"
     ]
    }
   ],
   "source": [
    "assert (X_train.shape[0] + X_test.shape[0]) == X.shape[0] \n",
    "assert (y_train.shape[0] + y_test.shape[0]) == y.shape[0]\n",
    "\n",
    "assert X_train.shape[1] == X_test.shape[1]\n",
    "\n",
    "assert X_train.shape[0] == y_train.shape[0]\n",
    "assert X_test.shape[0] == y_test.shape[0]\n",
    "\n",
    "print \"Data split successfully!\""
   ]
  },
  {
   "cell_type": "markdown",
   "metadata": {
    "slideshow": {
     "slide_type": "fragment"
    }
   },
   "source": [
    "We are ready to train now using a Bernoulli Naive Bayes classifier"
   ]
  },
  {
   "cell_type": "code",
   "execution_count": 19,
   "metadata": {
    "collapsed": false,
    "slideshow": {
     "slide_type": "fragment"
    }
   },
   "outputs": [
    {
     "name": "stdout",
     "output_type": "stream",
     "text": [
      "BernoulliNB(alpha=1.0, binarize=0.0, class_prior=None, fit_prior=True)\n"
     ]
    }
   ],
   "source": [
    "# Import the classifier\n",
    "from sklearn.naive_bayes import BernoulliNB\n",
    "\n",
    "# Train the classifier\n",
    "classifier = BernoulliNB()\n",
    "classifier.fit(X_train, y_train)\n",
    "\n",
    "print classifier"
   ]
  },
  {
   "cell_type": "markdown",
   "metadata": {
    "slideshow": {
     "slide_type": "slide"
    }
   },
   "source": [
    "Testing the classifier\n",
    "======================"
   ]
  },
  {
   "cell_type": "markdown",
   "metadata": {
    "slideshow": {
     "slide_type": "fragment"
    }
   },
   "source": [
    "*How accurate is the classifier?*"
   ]
  },
  {
   "cell_type": "markdown",
   "metadata": {
    "slideshow": {
     "slide_type": "fragment"
    }
   },
   "source": [
    "Let's test the trained classifier using the testing data"
   ]
  },
  {
   "cell_type": "code",
   "execution_count": 20,
   "metadata": {
    "collapsed": false,
    "slideshow": {
     "slide_type": "fragment"
    }
   },
   "outputs": [],
   "source": [
    "# Predict labels of unseen data\n",
    "y_predicted = classifier.predict(X_test)"
   ]
  },
  {
   "cell_type": "markdown",
   "metadata": {
    "slideshow": {
     "slide_type": "fragment"
    }
   },
   "source": [
    "We then compute the **accuracy** of the classifier: The fraction of correct predictions."
   ]
  },
  {
   "cell_type": "code",
   "execution_count": 21,
   "metadata": {
    "collapsed": false,
    "slideshow": {
     "slide_type": "fragment"
    }
   },
   "outputs": [
    {
     "name": "stdout",
     "output_type": "stream",
     "text": [
      "Classifier accuracy: 0.800647948164\n"
     ]
    }
   ],
   "source": [
    "# Import testing metrics\n",
    "from sklearn.metrics import accuracy_score\n",
    "\n",
    "accuracy = accuracy_score(y_test, y_predicted)\n",
    "print \"Classifier accuracy:\", accuracy"
   ]
  },
  {
   "cell_type": "markdown",
   "metadata": {
    "slideshow": {
     "slide_type": "fragment"
    }
   },
   "source": [
    "Let's compute the accuracy of the classification problem as a whole\n",
    "\n",
    "- We compute the **confusion matrix**, which tells us true positives, true negatives, etc.\n",
    "\n",
    "- We can visually plot it too"
   ]
  },
  {
   "cell_type": "code",
   "execution_count": 24,
   "metadata": {
    "collapsed": false,
    "slideshow": {
     "slide_type": "fragment"
    }
   },
   "outputs": [
    {
     "data": {
      "image/png": "[encoded data removed]",
      "text/plain": [
       "<matplotlib.figure.Figure at 0x100733ed0>"
      ]
     },
     "metadata": {},
     "output_type": "display_data"
    }
   ],
   "source": [
    "\n",
    "# Import testing metrics\n",
    "from sklearn.metrics import confusion_matrix\n",
    "\n",
    "conf_matrix = confusion_matrix(y_test, y_predicted)\n",
    "\n",
    "# Visualize the matrix\n",
    "plt.matshow(conf_matrix)\n",
    "plt.colorbar()\n",
    "plt.ylabel('True label')\n",
    "plt.xlabel('Predicted label')\n",
    "plt.show()"
   ]
  },
  {
   "cell_type": "markdown",
   "metadata": {
    "slideshow": {
     "slide_type": "fragment"
    }
   },
   "source": [
    "*How about if I have only a name?*"
   ]
  },
  {
   "cell_type": "markdown",
   "metadata": {
    "slideshow": {
     "slide_type": "fragment"
    }
   },
   "source": [
    "We extract features, vectorize, and then test!"
   ]
  },
  {
   "cell_type": "code",
   "execution_count": 29,
   "metadata": {
    "collapsed": false,
    "slideshow": {
     "slide_type": "fragment"
    }
   },
   "outputs": [
    {
     "name": "stdout",
     "output_type": "stream",
     "text": [
      "Classifier says Christian is a male\n"
     ]
    }
   ],
   "source": [
    "# Import helper function from utils\n",
    "import utils\n",
    "\n",
    "# Get feature vector from name\n",
    "name = \"Christian\"\n",
    "vector = utils.get_vector(name, feature_names, X[0])\n",
    "\n",
    "# Predict whether name is female\n",
    "print \"Classifier says\", name, \"is a\", \"female\" if classifier.predict(vector) == 1 else \"male\""
   ]
  },
  {
   "cell_type": "markdown",
   "metadata": {
    "slideshow": {
     "slide_type": "fragment"
    }
   },
   "source": [
    "*A better way to evaluate a classifier is by cross validation and ROC analysis*"
   ]
  },
  {
   "cell_type": "markdown",
   "metadata": {
    "slideshow": {
     "slide_type": "slide"
    }
   },
   "source": [
    "Break III\n",
    "========="
   ]
  },
  {
   "cell_type": "markdown",
   "metadata": {
    "slideshow": {
     "slide_type": "slide"
    }
   },
   "source": [
    "Final remarks\n",
    "============="
   ]
  },
  {
   "cell_type": "markdown",
   "metadata": {
    "slideshow": {
     "slide_type": "slide"
    }
   },
   "source": [
    "We just scratched the surface!\n",
    "==============================\n",
    "\n",
    "Social web intelligence gets more technical with big data [[1]]\n",
    "\n",
    "More interesting research has been a **collaboration** between \n",
    "\n",
    "- Computer scientists: Deal with big data problems\n",
    "\n",
    "- Statisticians: Develop statistical inference models\n",
    " \n",
    "- Social scientists: Ground the research, answer the \"why?\"\n",
    "\n",
    "[1]: https://www.coursera.org/course/bigdata \"Web intelligence and big data\""
   ]
  },
  {
   "cell_type": "markdown",
   "metadata": {
    "slideshow": {
     "slide_type": "fragment"
    }
   },
   "source": [
    "*Feel free to email me at [boshmaf@ece.ubc.ca](mailto:boshmaf@ece.ubc.ca)*"
   ]
  },
  {
   "cell_type": "markdown",
   "metadata": {
    "slideshow": {
     "slide_type": "slide"
    }
   },
   "source": [
    "Questions, please?\n",
    "=========="
   ]
  }
 ],
 "metadata": {
  "celltoolbar": "Slideshow",
  "kernelspec": {
   "display_name": "Python 2",
   "language": "python",
   "name": "python2"
  },
  "language_info": {
   "codemirror_mode": {
    "name": "ipython",
    "version": 2
   },
   "file_extension": ".py",
   "mimetype": "text/x-python",
   "name": "python",
   "nbconvert_exporter": "python",
   "pygments_lexer": "ipython2",
   "version": "2.7.10"
  }
 },
 "nbformat": 4,
 "nbformat_minor": 0
}
