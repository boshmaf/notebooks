{
 "cells": [
  {
   "cell_type": "markdown",
   "metadata": {
    "slideshow": {
     "slide_type": "slide"
    }
   },
   "source": [
    "## Making a small Chat application using sockets\n",
    "\n",
    "With the advent of the internet, computer networks have undoubtedly become one of the most important areas of technology. At the heart of this digital communication technology lies the idea of sockets. At the application programming level, we can read and write from a specific socket object, identified by its IP address and port number, just like we would read and write from a file object.\n",
    "The python `socket` library provides a clean interface for using these sockets for building our application.\n",
    "\n",
    "In this notebook, we will explore the concept of sockets by building a small chat application using a server-client model.\n",
    "At the end of it, the end-user will be able to sign into a chatroom and chat with different users signed into the room.\n",
    "\n",
    "1. Design of the application\n",
    "2. Using sockets\n",
    "3. Using threads\n",
    "4. Final Application\n",
    "\n",
    "#### Prerequisites:\n",
    "\n",
    "* Intermediate understanding of Python"
   ]
  },
  {
   "cell_type": "markdown",
   "metadata": {
    "collapsed": true,
    "slideshow": {
     "slide_type": "slide"
    }
   },
   "source": [
    "### 1. Design of the Chat Application\n",
    "\n",
    "For our final product, we want an application in which an end-user will be able to connect to a certain chatroom and have conversations with other end-users in the same chatroom. To achieve this, we will build a server application whose responsibility is to mediate the exchange of messages between all the participants in the chatroom, thus acting as \"the chatroom\", and another client application that the end-users will use to send and receive messages.\n",
    "\n",
    "<img src=\"assets/chatroom.png\">"
   ]
  },
  {
   "cell_type": "markdown",
   "metadata": {
    "slideshow": {
     "slide_type": "slide"
    }
   },
   "source": [
    "### 2. Using sockets\n",
    "\n",
    "Before we begin to write the application, let's get comfortable with using sockets first. Without using any abstractions like a class, we will explore it straight-up through scripting. Start a Python 3 interpreter. This script will act as the server; we'll refer to it as `server.py`."
   ]
  },
  {
   "cell_type": "code",
   "execution_count": 1,
   "metadata": {
    "collapsed": false,
    "slideshow": {
     "slide_type": "fragment"
    }
   },
   "outputs": [
    {
     "name": "stdout",
     "output_type": "stream",
     "text": [
      "<socket.socket fd=39, family=AddressFamily.AF_INET, type=SocketKind.SOCK_STREAM, proto=0, laddr=('0.0.0.0', 0)>\n"
     ]
    }
   ],
   "source": [
    "import socket\n",
    "\n",
    "#Create a socket\n",
    "server = socket.socket(socket.AF_INET, socket.SOCK_STREAM)\n",
    "print(server)    #Print the socket object"
   ]
  },
  {
   "cell_type": "markdown",
   "metadata": {
    "slideshow": {
     "slide_type": "fragment"
    }
   },
   "source": [
    "We have just created a socket object named server.\n",
    "\n",
    "Next, we will bind it to an IP address and port, then start listening for incoming connections."
   ]
  },
  {
   "cell_type": "code",
   "execution_count": 2,
   "metadata": {
    "collapsed": false,
    "slideshow": {
     "slide_type": "fragment"
    }
   },
   "outputs": [
    {
     "ename": "OSError",
     "evalue": "[Errno 98] Address already in use",
     "output_type": "error",
     "traceback": [
      "\u001b[1;31m---------------------------------------------------------------------------\u001b[0m",
      "\u001b[1;31mOSError\u001b[0m                                   Traceback (most recent call last)",
      "\u001b[1;32m<ipython-input-2-1e4000f7f3b2>\u001b[0m in \u001b[0;36m<module>\u001b[1;34m()\u001b[0m\n\u001b[1;32m----> 1\u001b[1;33m \u001b[0mserver\u001b[0m\u001b[1;33m.\u001b[0m\u001b[0mbind\u001b[0m\u001b[1;33m(\u001b[0m\u001b[1;33m(\u001b[0m\u001b[1;34m''\u001b[0m\u001b[1;33m,\u001b[0m \u001b[1;36m8100\u001b[0m\u001b[1;33m)\u001b[0m\u001b[1;33m)\u001b[0m    \u001b[1;31m#Bind to any address available on port 8100\u001b[0m\u001b[1;33m\u001b[0m\u001b[0m\n\u001b[0m\u001b[0;32m      2\u001b[0m \u001b[0mserver\u001b[0m\u001b[1;33m.\u001b[0m\u001b[0mlisten\u001b[0m\u001b[1;33m(\u001b[0m\u001b[1;36m2\u001b[0m\u001b[1;33m)\u001b[0m           \u001b[1;31m#Listen to maximum 2 connection\u001b[0m\u001b[1;33m\u001b[0m\u001b[0m\n",
      "\u001b[1;31mOSError\u001b[0m: [Errno 98] Address already in use"
     ]
    }
   ],
   "source": [
    "server.bind(('', 8100))    #Bind to any address available on port 8100\n",
    "server.listen(2)           #Listen to maximum 2 connection"
   ]
  },
  {
   "cell_type": "markdown",
   "metadata": {
    "slideshow": {
     "slide_type": "fragment"
    }
   },
   "source": [
    "Now the server is listening. That's all the code required to set up a server socket.\n",
    "\n",
    "Next, we need to make a client socket."
   ]
  },
  {
   "cell_type": "markdown",
   "metadata": {
    "slideshow": {
     "slide_type": "slide"
    }
   },
   "source": [
    "Right now, the client socket can be written in the same script, but in order to really observe that the data is transported through network sockets and not through application memory, we will create another client-side script. Open another Python 3 interpreter for the client; we will refer to this script as `client.py`"
   ]
  },
  {
   "cell_type": "code",
   "execution_count": null,
   "metadata": {
    "collapsed": false,
    "slideshow": {
     "slide_type": "fragment"
    }
   },
   "outputs": [],
   "source": [
    "import socket\n",
    "\n",
    "#Create a socket\n",
    "client = socket.socket(socket.AF_INET, socket.SOCK_STREAM)\n",
    "print(client)    #Print the socket object"
   ]
  },
  {
   "cell_type": "markdown",
   "metadata": {
    "slideshow": {
     "slide_type": "fragment"
    }
   },
   "source": [
    "You can see that the process for creating a client-side socket is identical to creating a server-side socket. We simply create a socket object by calling `socket.socket()`.\n",
    "\n",
    "Next, the client simply connects to the server."
   ]
  },
  {
   "cell_type": "code",
   "execution_count": null,
   "metadata": {
    "collapsed": false,
    "slideshow": {
     "slide_type": "fragment"
    }
   },
   "outputs": [],
   "source": [
    "client.connect(('localhost', 8100))"
   ]
  },
  {
   "cell_type": "markdown",
   "metadata": {
    "slideshow": {
     "slide_type": "fragment"
    }
   },
   "source": [
    "The client is now connecting to the server.\n",
    "Let's go back to `server.py` now."
   ]
  },
  {
   "cell_type": "markdown",
   "metadata": {
    "slideshow": {
     "slide_type": "slide"
    }
   },
   "source": [
    "In the server script, the server needs to \"accept\" an incoming connection.\n",
    "we will do that by entering the following."
   ]
  },
  {
   "cell_type": "code",
   "execution_count": null,
   "metadata": {
    "collapsed": false,
    "slideshow": {
     "slide_type": "fragment"
    }
   },
   "outputs": [],
   "source": [
    "(client_socket, client_address) = server.accept()\n",
    "print(client_socket)\n",
    "print(client_address)"
   ]
  },
  {
   "cell_type": "markdown",
   "metadata": {
    "slideshow": {
     "slide_type": "fragment"
    }
   },
   "source": [
    "the `accept()` method returns a tuple containing a socket object representing the client, and the address of the client. We will assign a name to the items in the tuple, namely `client_socket` and `client_address`, so that we can reuse these objects to do things later.\n",
    "\n",
    "Let's make the server send a welcome message to the client to acknowledge that the connection was accepted."
   ]
  },
  {
   "cell_type": "code",
   "execution_count": null,
   "metadata": {
    "collapsed": false,
    "slideshow": {
     "slide_type": "fragment"
    }
   },
   "outputs": [],
   "source": [
    "client_socket.sendall(b\"Welcome to the chatroom\")"
   ]
  },
  {
   "cell_type": "markdown",
   "metadata": {
    "slideshow": {
     "slide_type": "fragment"
    }
   },
   "source": [
    "To receive the welcome message, we need to return to `client.py`"
   ]
  },
  {
   "cell_type": "markdown",
   "metadata": {
    "slideshow": {
     "slide_type": "slide"
    }
   },
   "source": [
    "In the client-side script, we receive the message by using the `recv()` method."
   ]
  },
  {
   "cell_type": "code",
   "execution_count": null,
   "metadata": {
    "collapsed": false,
    "slideshow": {
     "slide_type": "fragment"
    }
   },
   "outputs": [],
   "source": [
    "greeting = client.recv(64)\n",
    "print(greeting)"
   ]
  },
  {
   "cell_type": "markdown",
   "metadata": {
    "slideshow": {
     "slide_type": "fragment"
    }
   },
   "source": [
    "If you run both scripts at this point, the server will just send the greeting message and exit, and the client will simply receive the message and exit."
   ]
  },
  {
   "cell_type": "markdown",
   "metadata": {
    "slideshow": {
     "slide_type": "slide"
    }
   },
   "source": [
    "Code so far:\n",
    "\n",
    "```\n",
    "#server.py\n",
    "\n",
    "import socket\n",
    "\n",
    "#Create a socket\n",
    "server = socket.socket(socket.AF_INET, socket.SOCK_STREAM)\n",
    "print(server)    #Print the socket object\n",
    "\n",
    "server.bind(('', 8100))    #Bind to any address available on port 8100\n",
    "server.listen(2)           #Listen to maximum 2 connection\n",
    "\n",
    "(client_socket, client_address) = server.accept()\n",
    "print(client_socket)\n",
    "print(client_address)\n",
    "\n",
    "client_socket.sendall(b\"Welcome to the chatroom\")\n",
    "\n",
    "```\n",
    "\n",
    "```\n",
    "#client.py\n",
    "\n",
    "import socket\n",
    "\n",
    "#Create a socket\n",
    "client = socket.socket(socket.AF_INET, socket.SOCK_STREAM)\n",
    "print(client)    #Print the socket object\n",
    "\n",
    "client.connect(('localhost', 8100))\n",
    "\n",
    "greeting = client.recv(64)\n",
    "print(greeting)\n",
    "```"
   ]
  },
  {
   "cell_type": "markdown",
   "metadata": {
    "slideshow": {
     "slide_type": "slide"
    }
   },
   "source": [
    "We now want to create some sort of a loop for sending and receiving data back and forth. In `client.py`, we add the following after receiving the greeting message:\n",
    "\n",
    "```\n",
    "while True:\n",
    "    user_input = input('').encode('utf-8')\n",
    "    client.sendall(user_input)\n",
    "```\n",
    "\n",
    "Now the client script will not terminate unless you interrupt the process by pressing `ctrl` + `c`. It will keep prompting the user for the next line of message to send, which is the behavior we want."
   ]
  },
  {
   "cell_type": "markdown",
   "metadata": {
    "collapsed": false,
    "slideshow": {
     "slide_type": "fragment"
    }
   },
   "source": [
    "In `server.py`, we add the following after sending the greeting message:\n",
    "\n",
    "```\n",
    "while True:\n",
    "    message = client_socket.recv(64)\n",
    "    if not message:\n",
    "        break\n",
    "    print(message)\n",
    "```\n",
    "\n",
    "This will make the server script constantly receive messages from the client. After it receives a message, it will print the message and immediately wait to receive the next message."
   ]
  },
  {
   "cell_type": "markdown",
   "metadata": {
    "slideshow": {
     "slide_type": "slide"
    }
   },
   "source": [
    "At this point, the client will be able to send messages to the server. The server won't do anything interesting; it will simply print what it received.\n",
    "\n",
    "Let's just echo the message back to the client. Modify `server.py` by adding a line `client_socket.sendall(message)` so that it looks like this:\n",
    "\n",
    "```\n",
    "while True:\n",
    "    message = client_socket.recv(64)\n",
    "    if not message:\n",
    "        break\n",
    "    print(message)\n",
    "    client_socket.sendall(message)\n",
    "```"
   ]
  },
  {
   "cell_type": "markdown",
   "metadata": {
    "slideshow": {
     "slide_type": "fragment"
    }
   },
   "source": [
    "The client won't print any replies yet, because we haven't added the code to receive the message.\n",
    "\n",
    "Modify the while loop in `client.py` so that it looks like this:\n",
    "\n",
    "```\n",
    "while True:\n",
    "    user_input = input('').encode('utf-8')\n",
    "    client.sendall(user_input)\n",
    "    reply = client.recv(64)\n",
    "    print(reply)\n",
    "```"
   ]
  },
  {
   "cell_type": "markdown",
   "metadata": {
    "slideshow": {
     "slide_type": "slide"
    }
   },
   "source": [
    "Now the server and client will maintain connection, and the client will be able to send messages to the server and get them echoed back.\n",
    "\n",
    "With both scripts running, if we run another instance of client.py, this second client won't be able to send and receive the messages back.\n",
    "This is because the server process is \"trapped\" inside the while loop running for the first client.\n",
    "\n",
    "<img src=\"assets/chat_screen1.png\">\n",
    "\n",
    "We should modify the server script so that it can run multiple while loops at the same time. This is where we need to use threading.\n",
    "\n",
    "*The code so far can be found [here (server)](scripts/simple_server.py) and [here (client)](scripts/simple_client.py)"
   ]
  },
  {
   "cell_type": "markdown",
   "metadata": {
    "slideshow": {
     "slide_type": "slide"
    }
   },
   "source": [
    "### 3. Using threads\n",
    "\n",
    "Now that we've covered the basics of using the python socket library, we will modify the scripts we created so that it looks more like a chat application. So far, the server can only handle one client at a time while our application requires that it maintains multiple connections simultaneously. There is a while loop in our client-handling code that does not break unless the client disconnects and this is causing the application to block, preventing the server from accepting the next incoming connnection. However, we need this while loop for every client connecting to the server. This is where threading can be useful, or even necessary.\n",
    "\n",
    "We will start a child thread for each client in the chatroom. We won't need to worry about thread joins and mutexes here because our child processes can run completely concurrently. In a liberal chatroom like ours, we don't have a [talking stick](https://en.wikipedia.org/wiki/Talking_stick) policy; anyone can say things at any time.\n",
    "\n",
    "By keeping a list of clients, the server will be able to pass information between the threads.\n",
    "Right after the server starts listening, create an empty list named `clients`.\n",
    "\n",
    "```\n",
    "#Create an empty list of clients\n",
    "clients = []\n",
    "\n",
    "```"
   ]
  },
  {
   "cell_type": "markdown",
   "metadata": {
    "collapsed": true,
    "slideshow": {
     "slide_type": "slide"
    }
   },
   "source": [
    "Next, we will create a subclass of `threading.Thread` to describe what will run on each thread. `threading.Thread` has a simple API for basic usage:\n",
    "\n",
    "1. Define a new class by subclassing threading.Thread.\n",
    "2. Override `__init__` method of the Thread class, passing any thread-specific data as arguments.\n",
    "3. Override `run` method of the Thread class. This is the body of the thread.\n",
    "4. Create an instance of the newly created class.\n",
    "5. Call `start()` to start the thread.\n",
    "\n",
    "```\n",
    "class ClientHandler(threading.Thread):\n",
    "    def __init__(self, client_socket):\n",
    "        threading.Thread.__init__(self)\n",
    "        self.socket = client_socket\n",
    "        clients.append(self)\n",
    "\n",
    "    def run(self):\n",
    "        self.socket.sendall(b\"Welcome to the chatroom\")\n",
    "        while True:\n",
    "            message = self.socket.recv(64)\n",
    "            if not message:\n",
    "                break\n",
    "            print(message)\n",
    "            self.socket.sendall(message)\n",
    "        clients.remove(self)\n",
    "        self.socket.close()\n",
    "\n",
    "```\n",
    "\n",
    "We define a class like shown above. The client's socket object will be passed as the argument to the constructor and the thread object will store it as an attribute. Upon creation, this thread will be added to the `clients` list. Inside the `run()` method, the socket object is then accessed. The `run()` method contains the code to send the greetings message, then constantly receive messages one after another, echoing back whenever it receives one."
   ]
  },
  {
   "cell_type": "markdown",
   "metadata": {
    "slideshow": {
     "slide_type": "slide"
    }
   },
   "source": [
    "We can now make the server keep listening for incoming connections, accepting and starting a child thread each time a new client connects.\n",
    "\n",
    "```\n",
    "while True:\n",
    "    (client_socket, client_address) = server.accept()\n",
    "    handler = ClientHandler(client_socket)\n",
    "    handler.start()\n",
    "server.close()\n",
    "```\n",
    "\n",
    "We create a new thread object (ClientHandler), and call `start()` to start the thread. "
   ]
  },
  {
   "cell_type": "markdown",
   "metadata": {
    "slideshow": {
     "slide_type": "fragment"
    }
   },
   "source": [
    "If you run the server script now, and run two instances of the client script, both will be able to connect, send messages and get them echoed back. Now we will modify the run method of the ClientHandler so that it broadcasts whatever it received to the rest of the clients.\n",
    "Remove or comment out the line responsible for echoing messages back: `self.socket.sendall(message)`\n",
    "\n",
    "```\n",
    "def run(self):\n",
    "        self.socket.sendall(b\"Welcome to the chatroom\")\n",
    "        while True:\n",
    "            message = self.socket.recv(64)\n",
    "            if not message:\n",
    "                break\n",
    "            print(message)\n",
    "            for client in clients:\n",
    "                if not client == self:\n",
    "                    client.socket.sendall(message)\n",
    "        clients.remove(self)\n",
    "        self.socket.close()\n",
    "```\n",
    "\n",
    "Upon receiving a message, the program will go through the list of clients, and send the message to the client if it isn't the client that sent the message. The server script so far can be found [here](scripts/threaded_server.py)"
   ]
  },
  {
   "cell_type": "markdown",
   "metadata": {
    "slideshow": {
     "slide_type": "slide"
    }
   },
   "source": [
    "If you run the server script now with multiple clients and play around for a little bit, you will notice a strange behavior on the client terminal. It looks as though the broadcast messages pile up in a queue, and the client can read the next message only after sending one message. And the server won't print the messages unless all the clients have sent the same number of messages.\n",
    "\n",
    "<img src=\"assets/chat_screen2.png\">"
   ]
  },
  {
   "cell_type": "markdown",
   "metadata": {
    "slideshow": {
     "slide_type": "slide"
    }
   },
   "source": [
    "This weird behavior happens because our client script waits to receive a message before sending one. As shown in the code below, the client waits for the `recv()` after `sendall()`.\n",
    "\n",
    "```\n",
    "while True:\n",
    "    user_input = input('').encode('utf-8')\n",
    "    client.sendall(user_input)\n",
    "    reply = client.recv(64)\n",
    "    print(reply)\n",
    "```\n",
    "\n",
    "We will now fix the problem by using another thread in the client script dedicated to handling the receives. The main thread will be used for sending messages, while the second thread will be used for receiving messages."
   ]
  },
  {
   "cell_type": "markdown",
   "metadata": {
    "slideshow": {
     "slide_type": "fragment"
    }
   },
   "source": [
    "```\n",
    "class ReceiveHandler(threading.Thread):\n",
    "    def __init__(self, socket):\n",
    "        threading.Thread.__init__(self)\n",
    "        self.socket = socket\n",
    "        \n",
    "    def run(self):\n",
    "        while True:\n",
    "            message = self.socket.recv(64)\n",
    "            if not message:\n",
    "                continue\n",
    "            print(message.decode('utf-8'))\n",
    "```\n",
    "\n",
    "We define a subclass of `threading.Thread` like shown above. The `run()` method contains a while loop and all there is in it is the code to receive a message and print it. We start this thread before we start our main loop.\n",
    "\n",
    "```\n",
    "receive_handler = ReceiveHandler(client)\n",
    "receive_handler.start()\n",
    "```"
   ]
  },
  {
   "cell_type": "markdown",
   "metadata": {
    "slideshow": {
     "slide_type": "fragment"
    }
   },
   "source": [
    "Now that the client application can receive messages on a separate thread, we can start the main loop for sending messages. We remove the subsequent `recv()` after the `sendall()` call, which was the line that was causing the strange blocking behavior.\n",
    "\n",
    "```\n",
    "while True:\n",
    "    user_input = input('').encode('utf-8')\n",
    "    client.sendall(user_input)\n",
    "client.close()\n",
    "\n",
    "```\n",
    "\n",
    "The code for this threaded version of the client can be found [here](scripts/threaded_client.py)"
   ]
  },
  {
   "cell_type": "markdown",
   "metadata": {
    "slideshow": {
     "slide_type": "slide"
    }
   },
   "source": [
    "### 4. Final Application\n",
    "\n",
    "What we have so far is complete in terms of basic functionality. The server is able to receive and broadcast messages to all the participants, and the clients are able to send messages and receive messages other people are sending.\n",
    "\n",
    "However, we could definitely improve the interface a little; right now we have no way of telling who is sending which message. Only the messages are exchanged, but no information about the participants are shared."
   ]
  },
  {
   "cell_type": "markdown",
   "metadata": {
    "slideshow": {
     "slide_type": "fragment"
    }
   },
   "source": [
    "We will modify the code so that the server will generate some random name for each client, and prepend the client's name before every message broadcast. We import python modules `random` and `string` to define a small function that generates random string of length 8.\n",
    "\n",
    "```\n",
    "import random, string\n",
    "\n",
    "def randname():\n",
    "    return ''.join(random.SystemRandom().choice(string.ascii_letters) for _ in range(8))\n",
    "    \n",
    "```"
   ]
  },
  {
   "cell_type": "markdown",
   "metadata": {
    "slideshow": {
     "slide_type": "fragment"
    }
   },
   "source": [
    "Then in the `__init__` method of the client's Thread, we will assign a name by calling the `randname()` function we just defined.\n",
    "\n",
    "```\n",
    "class ClientHandler(threading.Thread):\n",
    "    def __init__(self, client_socket, client_address):\n",
    "        threading.Thread.__init__(self)\n",
    "        self.socket = client_socket\n",
    "        self.name = randname()\n",
    "```"
   ]
  },
  {
   "cell_type": "markdown",
   "metadata": {
    "slideshow": {
     "slide_type": "fragment"
    }
   },
   "source": [
    "We then prepend `self.name` to the message that will be broadcast to all the clients.\n",
    "\n",
    "```\n",
    "    def run(self):\n",
    "        self.socket.sendall(b\"Welcome to the chatroom \"+self.name.encode(\"utf-8\"))\n",
    "        while True:\n",
    "            message = self.socket.recv(64)\n",
    "            if not message:\n",
    "                break\n",
    "            print(self.name+\" : \"+message.decode(\"utf-8\"))\n",
    "            for client in clients:\n",
    "                if not client == self:\n",
    "                    client.socket.sendall(self.name.encode(\"utf-8\")+b\" : \"+message)\n",
    "        clients.remove(self)\n",
    "        self.socket.close()\n",
    "\n",
    "```"
   ]
  },
  {
   "cell_type": "markdown",
   "metadata": {
    "slideshow": {
     "slide_type": "slide"
    }
   },
   "source": [
    "There are many more improvements that can be made to the application, such as a \"sign in\" routine, but that is outside the scope of this tutorial. We shall leave it up to the readers to take the application further and make it more interesting.\n",
    "\n",
    "The final version of the scripts can be found [here (server)](scripts/chat_server.py) and [here (client)](scripts/chat_client.py)\n",
    "\n",
    "* [simple_server.py](scripts/simple_server.py)\n",
    "* [simple_client.py](scripts/simple_client.py)\n",
    "* [threaded_server.py](scripts/threaded_server.py)\n",
    "* [threaded_client.py](scripts/threaded_client.py)\n",
    "* [chat_server.py](scripts/chat_server.py)\n",
    "* [chat_client.py](scripts/chat_client.py)"
   ]
  },
  {
   "cell_type": "code",
   "execution_count": null,
   "metadata": {
    "collapsed": true
   },
   "outputs": [],
   "source": []
  }
 ],
 "metadata": {
  "celltoolbar": "Slideshow",
  "kernelspec": {
   "display_name": "Python 3",
   "language": "python",
   "name": "python3"
  },
  "language_info": {
   "codemirror_mode": {
    "name": "ipython",
    "version": 3
   },
   "file_extension": ".py",
   "mimetype": "text/x-python",
   "name": "python",
   "nbconvert_exporter": "python",
   "pygments_lexer": "ipython3",
   "version": "3.4.3"
  }
 },
 "nbformat": 4,
 "nbformat_minor": 0
}
