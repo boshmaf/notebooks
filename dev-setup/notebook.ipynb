{
 "cells": [
  {
   "cell_type": "markdown",
   "metadata": {
    "slideshow": {
     "slide_type": "slide"
    }
   },
   "source": [
    "Setting Up a Python Development Environment\n",
    "===========================================\n",
    "\n",
    "*The first tutorial to start them all*\n",
    "\n",
    "<br/>\n",
    "Yazan Boshmaf\n",
    "\n",
    "<br/>\n",
    "More notebooks? Go to [github.com/boshmaf/notebooks](https://github.com/boshmaf/notebooks)\n",
    "\n",
    "Last updated: February 7, 2015 "
   ]
  },
  {
   "cell_type": "markdown",
   "metadata": {
    "slideshow": {
     "slide_type": "slide"
    }
   },
   "source": [
    "Outline\n",
    "=======\n",
    "\n",
    "You will download, install, and run some tools\n",
    "\n",
    "These tools allow you to develop in Python 2.7\n",
    "\n",
    "Also, you get to learn how to write Jupyter/IPython notebooks like this one!"
   ]
  },
  {
   "cell_type": "markdown",
   "metadata": {
    "slideshow": {
     "slide_type": "fragment"
    }
   },
   "source": [
    "*I assume your developement platform/OS is Unix-based. Mine is OS X (Apple Mac).*\n",
    "\n",
    "*My command-line interpreter (a.k.a. shell) is Bash. Use it, and you will save time!*"
   ]
  },
  {
   "cell_type": "markdown",
   "metadata": {
    "slideshow": {
     "slide_type": "slide"
    }
   },
   "source": [
    "Installing Anaconda Python distribution\n",
    "=======================================\n",
    "\n",
    "Go to Continuum Anaconda webpage [continuum.io/downloads](http://continuum.io/downloads)\n",
    "\n",
    "Download & install the propoer binary of Python 2.7 Graphical Installer\n",
    "\n",
    "Update Anaconda, Jupyter, and IPython\n",
    "\n",
    "- Use Anaconda Launcher graphical interface (see desktop shortcut)\n",
    "\n",
    "- Or from command-line, type \n",
    "```\n",
    "conda update conda jupyter ipython\n",
    "```"
   ]
  },
  {
   "cell_type": "markdown",
   "metadata": {
    "slideshow": {
     "slide_type": "fragment"
    }
   },
   "source": [
    "*Anaconda supports 400 Python packages, including Jupyter and IPyhon!*"
   ]
  },
  {
   "cell_type": "markdown",
   "metadata": {
    "slideshow": {
     "slide_type": "slide"
    }
   },
   "source": [
    "Installing Git version control system\n",
    "=====================================\n",
    "\n",
    "Go to Git website [git-scm.com/downloads](http://git-scm.com/downloads)\n",
    "\n",
    "Download and install the proper binary of Git\n",
    "\n",
    "Clone the notebooks repository from Github using command-line\n",
    "\n",
    "```\n",
    "cd ~/\n",
    "mkdir dev\n",
    "cd dev\n",
    "git clone https://github.com/boshmaf/notebooks.git\n",
    "```"
   ]
  },
  {
   "cell_type": "markdown",
   "metadata": {
    "slideshow": {
     "slide_type": "fragment"
    }
   },
   "source": [
    "*Repository contains this and all other playbooks!*"
   ]
  },
  {
   "cell_type": "markdown",
   "metadata": {
    "slideshow": {
     "slide_type": "slide"
    }
   },
   "source": [
    "Install PanDoc document convertor\n",
    "=================================\n",
    "\n",
    "Got to PanDoc website [pandoc.org/installing.html](http://pandoc.org/installing.html)\n",
    "\n",
    "Download and install the proper binary of PanDoc\n",
    "\n",
    "To view these slides from command-line, type\n",
    "\n",
    "```\n",
    "cd ~/dev/notebooks/dev-setup\n",
    "bash start.sh\n",
    "```"
   ]
  },
  {
   "cell_type": "markdown",
   "metadata": {
    "slideshow": {
     "slide_type": "fragment"
    }
   },
   "source": [
    "*This will open a new tab in the browser. Use arrow keys to navigate*"
   ]
  },
  {
   "cell_type": "markdown",
   "metadata": {
    "slideshow": {
     "slide_type": "slide"
    }
   },
   "source": [
    "You can now edit these slides!\n",
    "==============================\n",
    "\n",
    "From command-line, type\n",
    "```\n",
    "cd ~/dev/notebooks/dev-setup\n",
    "jupyter notebook\n",
    "```"
   ]
  },
  {
   "cell_type": "markdown",
   "metadata": {
    "slideshow": {
     "slide_type": "fragment"
    }
   },
   "source": [
    "*This will open a new tab in the browser. Click on `notebook.ipynb` to edit the slides*"
   ]
  },
  {
   "cell_type": "markdown",
   "metadata": {
    "slideshow": {
     "slide_type": "slide"
    }
   },
   "source": [
    "Questions? Issues?\n",
    "==================\n",
    "\n",
    "Tweet your question to [twitter.com/boshmaf](https://twitter.com/boshmaf) and I'll get back to you\n",
    "\n",
    "Best way to fix any issue is to open one at [github.com/boshmaf/notebooks](https://github.com/boshmaf/notebooks)"
   ]
  }
 ],
 "metadata": {
  "celltoolbar": "Slideshow",
  "kernelspec": {
   "display_name": "Python 2",
   "language": "python",
   "name": "python2"
  },
  "language_info": {
   "codemirror_mode": {
    "name": "ipython",
    "version": 2
   },
   "file_extension": ".py",
   "mimetype": "text/x-python",
   "name": "python",
   "nbconvert_exporter": "python",
   "pygments_lexer": "ipython2",
   "version": "2.7.11"
  }
 },
 "nbformat": 4,
 "nbformat_minor": 0
}
