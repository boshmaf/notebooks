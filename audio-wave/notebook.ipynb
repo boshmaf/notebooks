{
 "cells": [
  {
   "cell_type": "markdown",
   "metadata": {
    "slideshow": {
     "slide_type": "slide"
    }
   },
   "source": [
    "## Exploring Sound Generation with Python wave module\n",
    "\n",
    "Have you ever wondered how a computer is able to play a sound file or how we are able to record and store sound?\n",
    "How does a sequence of zeroes and ones get converted into physical sound that come out through the speakers?\n",
    "How are all these real-life analogue sound saved as zeroes and ones?\n",
    "\n",
    "In this notebook, we will explore the physics of sound and how the information is stored digitally inside a raw WAV file.\n",
    "\n",
    "1. Writing a WAV file\n",
    "2. Understanding the data format\n",
    "3. Physics of sound\n",
    "4. Representing a note\n",
    "5. Representing a melody\n",
    "6. Writing a simple song and saving as a WAV"
   ]
  },
  {
   "cell_type": "markdown",
   "metadata": {
    "collapsed": true,
    "slideshow": {
     "slide_type": "slide"
    }
   },
   "source": [
    "### 1. Writing a WAV file\n",
    "\n",
    "In this notebook, we will be using a standard Python module called *wave* that provides basic file writing and reading functionalities. First we will generate a WAV file with 10 seconds of white noise, just to see how the wave module works.\n",
    "\n",
    "You can also read [this great article](http://soledadpenades.com/2009/10/29/fastest-way-to-generate-wav-files-in-python-using-the-wave-module/) on generating wave files written by [Soledad Penades](https://github.com/sole)\n",
    "\n",
    "Let's start by importing the *wave* module"
   ]
  },
  {
   "cell_type": "code",
   "execution_count": 1,
   "metadata": {
    "collapsed": true,
    "slideshow": {
     "slide_type": "fragment"
    }
   },
   "outputs": [],
   "source": [
    "import wave"
   ]
  },
  {
   "cell_type": "markdown",
   "metadata": {
    "slideshow": {
     "slide_type": "fragment"
    }
   },
   "source": [
    "We will also import:\n",
    "* *random* module for generating random bits for the random noise\n",
    "* *struct* module for manipulating bytes"
   ]
  },
  {
   "cell_type": "code",
   "execution_count": 2,
   "metadata": {
    "collapsed": true,
    "slideshow": {
     "slide_type": "fragment"
    }
   },
   "outputs": [],
   "source": [
    "import random, struct"
   ]
  },
  {
   "cell_type": "markdown",
   "metadata": {
    "slideshow": {
     "slide_type": "fragment"
    }
   },
   "source": [
    "Now we can use the wave module to create an instance of the file that we will be writing."
   ]
  },
  {
   "cell_type": "code",
   "execution_count": 3,
   "metadata": {
    "collapsed": false,
    "slideshow": {
     "slide_type": "fragment"
    }
   },
   "outputs": [],
   "source": [
    "wav_file = wave.open('output/myNoise.wav', 'w')"
   ]
  },
  {
   "cell_type": "markdown",
   "metadata": {
    "slideshow": {
     "slide_type": "fragment"
    }
   },
   "source": [
    "According to the [documentation](https://hg.python.org/cpython/file/3.5/Lib/wave.py) for the wave module, \"You should set the parameters before the first writeframesraw or writeframes.\"\n",
    "\n",
    "To set the parameters, we will call the [setparams((nchannels, sampwidth, framerate, nframes, comptype, compname))](https://docs.python.org/3/library/wave.html#wave.Wave_write.setparams) method on the *wav_file* instance.\n",
    "\n",
    "The parameters will be:\n",
    "* nchannels (number of audio channels) : 2    #for stereo\n",
    "* sampwidth (number of bytes per audio sample) : 2\n",
    "* framerate (number of samples per second) : 44100\n",
    "* nframes (the number of audio frames written to the header) : 0    #seekable output stream\n",
    "* comptype (compression type) : 'NONE'                              #raw\n",
    "* compname (human-readable compression type) : 'not compressed'     #raw\n",
    "\n",
    "We will be reusing the value for framerate, so we can assign a name to it."
   ]
  },
  {
   "cell_type": "code",
   "execution_count": 4,
   "metadata": {
    "collapsed": false,
    "slideshow": {
     "slide_type": "fragment"
    }
   },
   "outputs": [],
   "source": [
    "FRAMERATE = 44100\n",
    "wav_file.setparams((2, 2, FRAMERATE, 0, 'NONE', 'not compressed'))"
   ]
  },
  {
   "cell_type": "markdown",
   "metadata": {
    "slideshow": {
     "slide_type": "slide"
    }
   },
   "source": [
    "Next we will create the bytes representing the white noise."
   ]
  },
  {
   "cell_type": "code",
   "execution_count": 5,
   "metadata": {
    "collapsed": false,
    "slideshow": {
     "slide_type": "fragment"
    }
   },
   "outputs": [],
   "source": [
    "SOUND_LENGTH = 10\n",
    "bits = []\n",
    "for i in range(0, round(FRAMERATE * SOUND_LENGTH)):\n",
    "    bit = random.randint(-20000, 20000)\n",
    "    packed_bit = struct.pack('h', round(bit))\n",
    "    bits.append(packed_bit)\n",
    "    bits.append(packed_bit)\n",
    "bits = (b''.join(bits))"
   ]
  },
  {
   "cell_type": "markdown",
   "metadata": {
    "slideshow": {
     "slide_type": "fragment"
    }
   },
   "source": [
    "Finally, we write these bytes into the file, and close the file to complete the process."
   ]
  },
  {
   "cell_type": "code",
   "execution_count": 6,
   "metadata": {
    "collapsed": true,
    "slideshow": {
     "slide_type": "fragment"
    }
   },
   "outputs": [],
   "source": [
    "wav_file.writeframes(bits)\n",
    "wav_file.close()"
   ]
  },
  {
   "cell_type": "markdown",
   "metadata": {
    "slideshow": {
     "slide_type": "slide"
    }
   },
   "source": [
    "The following is the entire script for this section:\n",
    "```\n",
    "import wave, random, struct\n",
    "\n",
    "FRAMERATE = 44100\n",
    "SOUND_LENGTH = 10\n",
    "\n",
    "wav_file = wave.open('output/myNoise.wav', 'w')\n",
    "wav_file.setparams((2, 2, FRAMERATE, 0, 'NONE', 'not compressed'))\n",
    "\n",
    "bits = []\n",
    "for i in range(0, round(FRAMERATE * SOUND_LENGTH)):\n",
    "    bit = random.randint(-20000, 20000)\n",
    "    packed_bit = struct.pack('h', round(bit))\n",
    "    bits.append(packed_bit)\n",
    "    bits.append(packed_bit)\n",
    "bits = (b''.join(bits))\n",
    "wav_file.writeframes(bits)\n",
    "wav_file.close()\n",
    "```"
   ]
  },
  {
   "cell_type": "markdown",
   "metadata": {
    "slideshow": {
     "slide_type": "slide"
    }
   },
   "source": [
    "### 2. Understanding the data format\n",
    "\n"
   ]
  },
  {
   "cell_type": "markdown",
   "metadata": {
    "slideshow": {
     "slide_type": "slide"
    }
   },
   "source": [
    "### 3. Physics of sound"
   ]
  },
  {
   "cell_type": "raw",
   "metadata": {
    "slideshow": {
     "slide_type": "slide"
    }
   },
   "source": [
    "Hello"
   ]
  },
  {
   "cell_type": "markdown",
   "metadata": {
    "slideshow": {
     "slide_type": "slide"
    }
   },
   "source": [
    "### 4. Representing a note\n",
    "\n",
    "For generating white noise, we selected a random integer between -20000 and 20000 at each frame.\n",
    "To generate a note at a certain pitch, we need to store the soundwave's value at each frame."
   ]
  },
  {
   "cell_type": "code",
   "execution_count": 7,
   "metadata": {
    "collapsed": true,
    "slideshow": {
     "slide_type": "fragment"
    }
   },
   "outputs": [],
   "source": [
    "#Python 3\n",
    "import wave, random, struct, math\n",
    "\n",
    "FRAMERATE = 44100\n",
    "SOUND_LENGTH = 5\n",
    "\n",
    "wav_file = wave.open('output/myNote.wav', 'w')\n",
    "wav_file.setparams((2, 2, FRAMERATE, 0, 'NONE', 'not compressed'))"
   ]
  },
  {
   "cell_type": "markdown",
   "metadata": {
    "collapsed": true,
    "slideshow": {
     "slide_type": "fragment"
    }
   },
   "source": [
    "Middle A has a frequency of 440 hz, so the \"wavelength\" in frames is equal to 1 sec * 44100 frames/sec / 440."
   ]
  },
  {
   "cell_type": "code",
   "execution_count": 8,
   "metadata": {
    "collapsed": true,
    "slideshow": {
     "slide_type": "fragment"
    }
   },
   "outputs": [],
   "source": [
    "WAVELENGTH = FRAMERATE / 440\n",
    "bits = []\n",
    "for i in range(0, round(FRAMERATE * SOUND_LENGTH)):\n",
    "    bit = 5000 * math.sin( i * (2 * math.pi / WAVELENGTH) )\n",
    "    packed_bit = struct.pack('h', round(bit))\n",
    "    bits.append(packed_bit)\n",
    "    bits.append(packed_bit)\n",
    "bits = (b''.join(bits))\n",
    "wav_file.writeframes(bits)\n",
    "wav_file.close()"
   ]
  },
  {
   "cell_type": "markdown",
   "metadata": {
    "slideshow": {
     "slide_type": "slide"
    }
   },
   "source": [
    "```\n",
    "#Python 3\n",
    "import wave, random, struct, math\n",
    "\n",
    "FRAMERATE = 44100\n",
    "SOUND_LENGTH = 5\n",
    "WAVELENGTH = FRAMERATE / 440\n",
    "\n",
    "wav_file = wave.open('output/myNote.wav', 'w')\n",
    "wav_file.setparams((2, 2, FRAMERATE, 0, 'NONE', 'not compressed'))\n",
    "\n",
    "bits = []\n",
    "for i in range(0, round(FRAMERATE * SOUND_LENGTH)):\n",
    "    bit = 5000 * math.sin( i * (2 * math.pi / WAVELENGTH) )\n",
    "    packed_bit = struct.pack('h', round(bit))\n",
    "    bits.append(packed_bit)\n",
    "    bits.append(packed_bit)\n",
    "bits = (b''.join(bits))\n",
    "wav_file.writeframes(bits)\n",
    "wav_file.close()\n",
    "```"
   ]
  },
  {
   "cell_type": "markdown",
   "metadata": {
    "slideshow": {
     "slide_type": "slide"
    }
   },
   "source": [
    "### 5. Representing a melody"
   ]
  },
  {
   "cell_type": "code",
   "execution_count": 9,
   "metadata": {
    "collapsed": true
   },
   "outputs": [],
   "source": [
    "class Note():\n",
    "    def __init__(self, frequency=440, length=1):\n",
    "        self.frequency = frequency\n",
    "        self.length = length\n",
    "        self.wavelength = FRAMERATE / self.frequency\n",
    "    \n",
    "    def toBytes(self):\n",
    "        bits = []\n",
    "        for i in range(0, round(self.length * FRAMERATE)):\n",
    "            bit = 5000 * math.sin( i * (2 * math.pi / self.wavelength) )\n",
    "            packed_bit = struct.pack('h', round(bit))\n",
    "            bits.append(packed_bit)\n",
    "            bits.append(packed_bit)\n",
    "        bits = (b''.join(bits))\n",
    "        return bits"
   ]
  },
  {
   "cell_type": "code",
   "execution_count": 10,
   "metadata": {
    "collapsed": true,
    "slideshow": {
     "slide_type": "fragment"
    }
   },
   "outputs": [],
   "source": [
    "class Sequence():\n",
    "    def __init__(self):\n",
    "        self.notes = []\n",
    "    \n",
    "    def add(self, note):\n",
    "        if type(note) == Note:\n",
    "            self.notes.append(note)\n",
    "        else:\n",
    "            raise TypeError('Should be a Note object')\n",
    "    \n",
    "    def addNote(self, *args, **kwargs):\n",
    "        self.notes.append(Note(*args, **kwargs))\n",
    "    \n",
    "    def writeWav(self, filename):\n",
    "        wav_file = wave.open(filename, 'w')\n",
    "        wav_file.setparams((2, 2, FRAMERATE, 0, 'NONE', 'not compressed'))\n",
    "        bits = b''\n",
    "        for note in self.notes:\n",
    "            bits += note.toBytes()\n",
    "        wav_file.writeframes(bits)\n",
    "        wav_file.close()"
   ]
  },
  {
   "cell_type": "code",
   "execution_count": 11,
   "metadata": {
    "collapsed": false
   },
   "outputs": [],
   "source": [
    "doremi = Sequence()\n",
    "doremi.addNote(261.626, 1)\n",
    "doremi.addNote(293.665, 1)\n",
    "doremi.addNote(329.628, 1)\n",
    "doremi.writeWav('output/myMelody.wav')"
   ]
  },
  {
   "cell_type": "markdown",
   "metadata": {
    "slideshow": {
     "slide_type": "slide"
    }
   },
   "source": [
    "### 6. Writing a simple song and saving as a WAV"
   ]
  },
  {
   "cell_type": "code",
   "execution_count": 12,
   "metadata": {
    "collapsed": false,
    "slideshow": {
     "slide_type": "fragment"
    }
   },
   "outputs": [],
   "source": [
    "import sound\n",
    "\n",
    "BPM = 120\n",
    "b = 60 / BPM\n",
    "\n",
    "twinkle = sound.Sequence()\n",
    "twinkle.addNote('C4', b)\n",
    "twinkle.addNote('C4', b)\n",
    "twinkle.addNote('G4', b)\n",
    "twinkle.addNote('G4', b)\n",
    "twinkle.addNote('A5', b)\n",
    "twinkle.addNote('A5', b)\n",
    "twinkle.addNote('G4', b * 2)\n",
    "twinkle.addNote('F4', b)\n",
    "twinkle.addNote('F4', b)\n",
    "twinkle.addNote('E4', b)\n",
    "twinkle.addNote('E4', b)\n",
    "twinkle.addNote('D4', b)\n",
    "twinkle.addNote('D4', b)\n",
    "twinkle.addNote('C4', b * 2)\n",
    "twinkle.writeWav('output/twinkle')"
   ]
  },
  {
   "cell_type": "code",
   "execution_count": 13,
   "metadata": {
    "collapsed": false,
    "slideshow": {
     "slide_type": "notes"
    }
   },
   "outputs": [
    {
     "data": {
      "text/html": [
       "<div style=\"width: auto;\"><a id='js_code_01' href='#' style=\"display: block; background: rgb(200, 200, 200);\">Show Code</a>\n",
       "        <script>\n",
       "        $(document).ready(function(){\n",
       "           var toggleButton = $('#js_code_01')\n",
       "           var codeDiv = toggleButton.closest('.output_wrapper').prevAll()[1];\n",
       "           toggleButton.on('click', function(){\n",
       "              $(codeDiv).toggle();\n",
       "           });\n",
       "           $(codeDiv).hide();\n",
       "        });\n",
       "        </script><div style=\"width: auto; border: 1px solid rgb(200, 200, 200); padding: 1em;\">\n",
       "<table>\n",
       "    <tr><td>1</td><td>0</td></tr>\n",
       "    <tr><td>0</td><td>1</td></tr>\n",
       "</table>\n",
       "</div></div>"
      ],
      "text/plain": [
       "<IPython.core.display.HTML object>"
      ]
     },
     "execution_count": 13,
     "metadata": {},
     "output_type": "execute_result"
    }
   ],
   "source": [
    "import nb_embed\n",
    "nb_embed.html('''\n",
    "<table>\n",
    "    <tr><td>1</td><td>0</td></tr>\n",
    "    <tr><td>0</td><td>1</td></tr>\n",
    "</table>\n",
    "''')"
   ]
  },
  {
   "cell_type": "code",
   "execution_count": null,
   "metadata": {
    "collapsed": true
   },
   "outputs": [],
   "source": []
  },
  {
   "cell_type": "code",
   "execution_count": null,
   "metadata": {
    "collapsed": true
   },
   "outputs": [],
   "source": []
  },
  {
   "cell_type": "code",
   "execution_count": null,
   "metadata": {
    "collapsed": true
   },
   "outputs": [],
   "source": []
  }
 ],
 "metadata": {
  "celltoolbar": "Slideshow",
  "kernelspec": {
   "display_name": "Python 3",
   "language": "python",
   "name": "python3"
  },
  "language_info": {
   "codemirror_mode": {
    "name": "ipython",
    "version": 3
   },
   "file_extension": ".py",
   "mimetype": "text/x-python",
   "name": "python",
   "nbconvert_exporter": "python",
   "pygments_lexer": "ipython3",
   "version": "3.4.3"
  }
 },
 "nbformat": 4,
 "nbformat_minor": 0
}
