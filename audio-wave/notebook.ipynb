{
 "cells": [
  {
   "cell_type": "markdown",
   "metadata": {
    "slideshow": {
     "slide_type": "slide"
    }
   },
   "source": [
    "## Exploring Sound Generation with Python wave module\n",
    "\n",
    "Have you ever wondered how a computer is able to play a sound file or how we are able to record and store sound?\n",
    "How does a sequence of zeroes and ones get converted into physical sound that come out through the speakers?\n",
    "How are all these real-life analogue sound saved as zeroes and ones?\n",
    "\n",
    "In this notebook, we will explore the physics of sound and how the information is stored digitally inside a raw WAV file.\n",
    "\n",
    "1. Writing a WAV file\n",
    "2. Understanding the data format\n",
    "3. Physics of sound\n",
    "4. Representing a note\n",
    "5. Representing a melody\n",
    "6. Writing a simple song and saving as a WAV\n",
    "\n",
    "#### Prerequisites:\n",
    "\n",
    "* Basic understanding of Python\n",
    "* Basic understanding of a sine function\n",
    "* Basic understanding of Newtonian mechanics\n",
    "* Imagination"
   ]
  },
  {
   "cell_type": "markdown",
   "metadata": {
    "collapsed": true,
    "slideshow": {
     "slide_type": "slide"
    }
   },
   "source": [
    "### 1. Writing a WAV file\n",
    "\n",
    "In this notebook, we will be using a standard Python module called *wave* that provides basic file writing and reading functionalities. First we will generate a WAV file with 10 seconds of white noise, just to see how the wave module works.\n",
    "\n",
    "The code may look a little confusing at first, but we will go through the code step-by-step in Part 2 of this notebook.\n",
    "\n",
    "You can also read [this great article](http://soledadpenades.com/2009/10/29/fastest-way-to-generate-wav-files-in-python-using-the-wave-module/) on generating wave files written by [Soledad Penades](https://github.com/sole)\n",
    "\n",
    "Let's start by importing the *wave* module."
   ]
  },
  {
   "cell_type": "code",
   "execution_count": 1,
   "metadata": {
    "collapsed": true,
    "slideshow": {
     "slide_type": "fragment"
    }
   },
   "outputs": [],
   "source": [
    "import wave"
   ]
  },
  {
   "cell_type": "markdown",
   "metadata": {
    "slideshow": {
     "slide_type": "fragment"
    }
   },
   "source": [
    "Next, we will also import:\n",
    "* *random* module for generating random bits for the random noise\n",
    "* *struct* module for manipulating bytes"
   ]
  },
  {
   "cell_type": "code",
   "execution_count": 2,
   "metadata": {
    "collapsed": true,
    "slideshow": {
     "slide_type": "fragment"
    }
   },
   "outputs": [],
   "source": [
    "import random, struct"
   ]
  },
  {
   "cell_type": "markdown",
   "metadata": {
    "slideshow": {
     "slide_type": "fragment"
    }
   },
   "source": [
    "Now we can use the wave module to create an instance of the file that we will be writing."
   ]
  },
  {
   "cell_type": "code",
   "execution_count": 3,
   "metadata": {
    "collapsed": false,
    "slideshow": {
     "slide_type": "fragment"
    }
   },
   "outputs": [],
   "source": [
    "wav_file = wave.open('output/myNoise.wav', 'w')"
   ]
  },
  {
   "cell_type": "markdown",
   "metadata": {
    "slideshow": {
     "slide_type": "fragment"
    }
   },
   "source": [
    "According to the [documentation](https://hg.python.org/cpython/file/3.5/Lib/wave.py) for the wave module, \"62: You should set the parameters before the first writeframesraw or writeframes.\"\n",
    "\n",
    "To set the parameters, we will call the [setparams((nchannels, sampwidth, framerate, nframes, comptype, compname))](https://docs.python.org/3/library/wave.html#wave.Wave_write.setparams) method on the *wav_file* instance.\n",
    "\n",
    "The parameters will be:\n",
    "* nchannels (number of audio channels) : 2\n",
    "* sampwidth (number of bytes per audio sample) : 2\n",
    "* framerate (number of samples per second) : 44100\n",
    "* nframes (the number of audio frames written to the header) : 0\n",
    "* comptype (compression type) : 'NONE'\n",
    "* compname (human-readable compression type) : 'not compressed'\n",
    "\n",
    "We will be reusing the value for framerate, so we can assign it to a variable *FRAMERATE*."
   ]
  },
  {
   "cell_type": "code",
   "execution_count": 4,
   "metadata": {
    "collapsed": false,
    "slideshow": {
     "slide_type": "fragment"
    }
   },
   "outputs": [],
   "source": [
    "FRAMERATE = 44100\n",
    "wav_file.setparams((2, 2, FRAMERATE, 0, 'NONE', 'not compressed'))"
   ]
  },
  {
   "cell_type": "markdown",
   "metadata": {
    "slideshow": {
     "slide_type": "slide"
    }
   },
   "source": [
    "Next we will create the bytes representing the white noise."
   ]
  },
  {
   "cell_type": "code",
   "execution_count": 5,
   "metadata": {
    "collapsed": false,
    "slideshow": {
     "slide_type": "fragment"
    }
   },
   "outputs": [],
   "source": [
    "SOUND_LENGTH = 10\n",
    "bits = []\n",
    "for i in range(0, round(FRAMERATE * SOUND_LENGTH)):\n",
    "    bit = random.randint(-32767, 32767)\n",
    "    packed_bit = struct.pack('h', round(bit))\n",
    "    bits.append(packed_bit)\n",
    "    bits.append(packed_bit)\n",
    "bits = (b''.join(bits))"
   ]
  },
  {
   "cell_type": "markdown",
   "metadata": {
    "slideshow": {
     "slide_type": "fragment"
    }
   },
   "source": [
    "Finally, we write these bytes into the file, and close the file to complete the process."
   ]
  },
  {
   "cell_type": "code",
   "execution_count": 6,
   "metadata": {
    "collapsed": false,
    "slideshow": {
     "slide_type": "fragment"
    }
   },
   "outputs": [],
   "source": [
    "wav_file.writeframes(bits)\n",
    "wav_file.close()"
   ]
  },
  {
   "cell_type": "markdown",
   "metadata": {
    "slideshow": {
     "slide_type": "slide"
    }
   },
   "source": [
    "The code provided so far should have generated a file called \"myNoise.wav\" inside the directory containing this notebook.\n",
    "\n",
    "*Warning!* You might want to turn the volume down :)\n",
    "[/output/myNoise.wav](/notebooks/output/myNoise.wav)\n",
    "\n"
   ]
  },
  {
   "cell_type": "markdown",
   "metadata": {
    "slideshow": {
     "slide_type": "slide"
    }
   },
   "source": [
    "The following is the entire script for this section:\n",
    "```\n",
    "import wave, random, struct\n",
    "\n",
    "FRAMERATE = 44100\n",
    "SOUND_LENGTH = 10\n",
    "\n",
    "wav_file = wave.open('output/myNoise.wav', 'w')\n",
    "wav_file.setparams((2, 2, FRAMERATE, 0, 'NONE', 'not compressed'))\n",
    "\n",
    "bits = []\n",
    "for i in range(0, round(FRAMERATE * SOUND_LENGTH)):\n",
    "    bit = random.randint(-32767, 32767)\n",
    "    packed_bit = struct.pack('h', round(bit))\n",
    "    bits.append(packed_bit)\n",
    "    bits.append(packed_bit)\n",
    "bits = (b''.join(bits))\n",
    "wav_file.writeframes(bits)\n",
    "wav_file.close()\n",
    "```"
   ]
  },
  {
   "cell_type": "markdown",
   "metadata": {
    "slideshow": {
     "slide_type": "slide"
    }
   },
   "source": [
    "### 2. Understanding the data format\n",
    "\n",
    "The general process for generating a wave file in python, as seen in Part 1, is thus:\n",
    "    \n",
    "    1. Create a wave file\n",
    "    2. Build some sound data\n",
    "    3. Write the data to the wave file\n",
    "\n",
    "Step 1 and 3 are pretty straight-forward. In fact, we can effectively take care of Step 1 and 3 by using the python *with* keyword thus:"
   ]
  },
  {
   "cell_type": "code",
   "execution_count": 7,
   "metadata": {
    "collapsed": true,
    "slideshow": {
     "slide_type": "fragment"
    }
   },
   "outputs": [],
   "source": [
    "import wave, random, struct\n",
    "\n",
    "FRAMERATE = 44100\n",
    "SOUND_LENGTH = 10\n",
    "\n",
    "with wave.open('output/myNoise.wav', 'w') as wav_file:\n",
    "    wav_file.setparams((2, 2, FRAMERATE, 0, 'NONE', 'not compressed'))\n",
    "\n",
    "    bits = []\n",
    "    for i in range(0, round(FRAMERATE * SOUND_LENGTH)):\n",
    "        bit = random.randint(-32767, 32767)\n",
    "        packed_bit = struct.pack('h', round(bit))\n",
    "        bits.append(packed_bit)\n",
    "        bits.append(packed_bit)\n",
    "    bits = (b''.join(bits))\n",
    "    wav_file.writeframes(bits)"
   ]
  },
  {
   "cell_type": "markdown",
   "metadata": {
    "slideshow": {
     "slide_type": "slide"
    }
   },
   "source": [
    "Now that Step 1 & Step 3 are taken care of, we can take a closer look at Step 2 where the data is built. Specifically the code:\n",
    "\n",
    "```\n",
    "bits = []\n",
    "for i in range(0, round(FRAMERATE * SOUND_LENGTH)):\n",
    "    bit = random.randint(-32767, 32767)\n",
    "    packed_bit = struct.pack('h', round(bit))\n",
    "    bits.append(packed_bit)\n",
    "    bits.append(packed_bit)\n",
    "bits = (b''.join(bits))\n",
    "```"
   ]
  },
  {
   "cell_type": "markdown",
   "metadata": {
    "slideshow": {
     "slide_type": "slide"
    }
   },
   "source": [
    "In the first line, we declare an empty list named *bits*.\n",
    "```\n",
    "bits = []\n",
    "```\n",
    "\n",
    "Then we populate the list with values by iterating through a *for* loop.\n",
    "We go through the for loop frame by frame, for SOUND_LENGTH=10 seconds worth of frames. Since 1 second contains FRAMERATE=44100 frames, we will need to iterate (FRAMERATE * SOUND_LENGTH)=441000 times.\n",
    "```\n",
    "for i in range(0, round(FRAMERATE * SOUND_LENGTH)):\n",
    "```\n",
    "\n",
    "At each frame, we generate a random value between -32767 and 32767. This value corresponds to the \"amplitude\" of the sound wave. The value is represented as a 16-bit signed integer (*short* in C, sampwidth=2), hence the range -32767 ~ 32767. (15 bits to represent 2^15=32768 values from 0 to 32767, 1 bit for +/- sign; 2^16 - 1 = 65535 values can be used).\n",
    "```\n",
    "    bit = random.randint(-32767, 32767)\n",
    "```\n",
    "\n",
    "The next three lines perform the appropriate tasks to pack the values into bytes, as the method [*writeframes(data)*](https://docs.python.org/3/library/wave.html#wave.Wave_write.writeframes) on the wave file instance requires that the data is provided in bytes.\n",
    "```\n",
    "    packed_bit = struct.pack('h', round(bit))\n",
    "    bits.append(packed_bit)\n",
    "    bits.append(packed_bit)\n",
    "```\n",
    "We use the [*struct.pack(fmt, v1, v2, ...)*](https://docs.python.org/3.0/library/struct.html#struct.pack) method to convert the integer value *bit* into bytes. Since we want it to be represented as a 16-bit signed integer (*short* in C), we use the format 'h'.\n",
    "Then we append it to *bits* list twice, since we set the nchannels=2 for stereo sound.\n",
    "\n",
    "Finally, we convert the *bits* list into a single bytestring.\n",
    "```\n",
    "bits = (b''.join(bits))\n",
    "```\n",
    "\n",
    "The *bits* bytestring can now be written to the wave file by providing it as the argument into the method [*writeframes(data)*](https://docs.python.org/3/library/wave.html#wave.Wave_write.writeframes).\n",
    "\n",
    "To summarize what we are doing here, we are basically creating an array that looks like this:\n",
    "[ 10, 10, 20, 20, 30, 30, 40, 40, 50, 50, 60, 60, ... ]\n",
    "Where 10, 10 are the amplitude of the sound at frame 1,\n",
    "20, 20 are the amplitude at frame 2, 30, 30 are the amplitude at frame 3, and so on.\n",
    "\n",
    "Once we generate the data as a list of numbers, we simply convert it to a bytestring and save it as a wave file."
   ]
  },
  {
   "cell_type": "markdown",
   "metadata": {
    "slideshow": {
     "slide_type": "slide"
    }
   },
   "source": [
    "### 3. Physics of sound\n",
    "\n",
    "Now that we've seen how sound data can be represented as a sequence of numbers between some minimum and maximum value, let us think about what sound is in the physical sence.\n",
    "\n",
    "Sound is a mechanical phenomenon that can be produced by anything that has a momentum (mass * velocity), and it requires a \"medium\" in which the \"wave\" can travel. Here, medium is just another intermediate stuff with mass; anything other than vacuum will be able to carry sound waves. This mechanical movement carries a specific significance to the observer (the entity capable of sensing the motion) because certain patterns in the motion are recognized and abstracted to concepts such as pitch and volume. If the sound lacks a recognizable pattern, the motion is recognized as \"noise\". But if the sound has a regular pattern, that pattern is recognized and is given a meaning.\n",
    "\n",
    "For example, if we pick the G3 string on the guitar, the string will move up and down 196 times per second. This moving string will push the surrounding air and this motion will propagate through the air particles. Because a guitar string is fixed at both ends and the motion is very regular, the air and the body of the guitar will vibrate regularly as well. The air pushes our eardrums in and out, the eardrums pick up this up and down movement of the air pressure, our brains abstract this movement as sinusoidal wave at 196 Hz, and then we say, \"ah, the G note.\" Similarly, if we pick the D3 string, the string will oscillate 147 times per second. The motion is slower, and we hear the lower D note. Thus, the frequency of an oscillatory motion is interpreted as \"pitch\".\n",
    "* On a side note, the fact that a sound wave with twice the frequency of another sound wave is an [octave](https://en.wikipedia.org/wiki/Octave) higher in pitch is purely sublime. A3 = 220Hz, A4 = 440Hz. It reveals this fantastically mathematical property of music. [(Read more about intervals)](https://en.wikipedia.org/wiki/Interval_(music))\n",
    "\n",
    "If we picked the same string harder, the air will move at the same frequency but the string will move further up and down. Each air particle will be pushed and pulled a greater distance as it vibrates back and forth, and every time the air pushes the eardrum, it will push it with more force. The brain recognizes this increase in intensity, or pressure, and we perceive that the note is \"louder\"."
   ]
  },
  {
   "cell_type": "markdown",
   "metadata": {
    "slideshow": {
     "slide_type": "slide"
    }
   },
   "source": [
    "To illustrate how sound can be represented as a sequence of numbers, let's take a look at the representation of a middle A note (440Hz).\n",
    "For the sake of simplicity, we will assign an arbitrary unit \"p\" for the amplitude of the wave.\n",
    "\n",
    "In one second, an air particle in our ear will move back and forth (or up and down in terms of pressure) periodically 440 times. So every oscillation takes $ 1/440 sec = 0.0022727 sec $.\n",
    "\n",
    "<img src=\"assets/wave_1.png\"/>\n",
    "\n",
    "The function of the curve is:\n",
    "\n",
    "$$ p(t) = \\sin(\\frac{t \\times 2 \\pi}{period}) = \\sin(t \\times 2 \\pi \\times frequency) = \\sin(t \\times 2 \\pi \\times 440) $$\n",
    "\n",
    "This is a continuous representation of the sound wave. But at every t, there is some number $p(t)$. If we were to represent sound as a sequence of numbers, we just pick certain points (sequence of $t$'s) on the curve and assess the $p(t)$ at those points.\n",
    "\n",
    "In generating a wave file, that is exactly what we are doing; we are sampling the sound at each \"frame\". The FRAMERATE parameter that we set in Part 1 shows that we are taking 44100 snapshots per second.\n",
    "\n",
    "<img src=\"assets/wave_2.png\">\n",
    "The blue numbers on the curve are the numbers that we append to the *bits* list. Notice how the zeroes of the curve are not necessarily on an integer nth frame; first oscillation ends on 44100/440 th frame, which is not an integer. Here we can observe the discrete nature of digital sound.\n",
    "\n",
    "The function of the curve is:\n",
    "\n",
    "$$ p(i) = \\sin(i \\times 2 \\pi \\times \\frac{440}{44100}) $$\n",
    "\n",
    "Notice how we are just changing the function from\n",
    "\n",
    "$$ \\sin(t \\times 2 \\pi \\times 440) \\to \\sin(i \\times 2 \\pi \\times \\frac{440}{44100}) $$\n",
    "\n",
    "where we have just divided the argument inside the $\\sin$ function by 44100; the domain of the function changes from $T$ to $I$, and since $t(i) = \\frac{i}{44100}$, $p(t \\to i) = \\sin(t \\times 2 \\pi \\times 440) = \\sin( \\frac{i}{44100} \\times 2 \\pi \\times 440 ) = \\sin(i \\times 2 \\pi \\times \\frac{440}{44100}) $."
   ]
  },
  {
   "cell_type": "markdown",
   "metadata": {
    "slideshow": {
     "slide_type": "slide"
    }
   },
   "source": [
    "### 4. Representing a note\n",
    "\n",
    "For generating 10 seconds of white noise, we built a list of 441,000 (10 seconds times 44100 frames/sec) random integers between -32767 and 32767.\n",
    "To represent a note, we will need to build the list using the sine function seen in Part 3:\n",
    "$$ p(i) = \\sin(i \\times 2 \\pi \\times \\frac{440}{44100}) $$\n",
    "\n",
    "Let us go ahead and do that.\n",
    "First we set up the wave file and declare the constants to be used throughout the script. In this example we will build 5 seconds of the middle A (440 Hz) note."
   ]
  },
  {
   "cell_type": "code",
   "execution_count": 8,
   "metadata": {
    "collapsed": true,
    "slideshow": {
     "slide_type": "fragment"
    }
   },
   "outputs": [],
   "source": [
    "#Python 3\n",
    "import wave, random, struct, math\n",
    "\n",
    "FRAMERATE = 44100\n",
    "SOUND_LENGTH = 5\n",
    "\n",
    "wav_file = wave.open('output/myNote.wav', 'w')\n",
    "wav_file.setparams((2, 2, FRAMERATE, 0, 'NONE', 'not compressed'))"
   ]
  },
  {
   "cell_type": "markdown",
   "metadata": {
    "collapsed": true,
    "slideshow": {
     "slide_type": "fragment"
    }
   },
   "source": [
    "Middle A has a frequency of $440 Hz$ and period of $ \\frac{1}{440} sec $, or wavelength of $ \\frac{1}{440} sec \\times 343 m/sec = 0.7795 m$ (in air, at room temperature and atmospheric pressure) , so the \"period\" in frames is equal to $ \\frac{1}{440} sec \\times 44100 frames/sec = 100.227 frames $.\n",
    "\n",
    "Next, we build the sound data using the sine function."
   ]
  },
  {
   "cell_type": "code",
   "execution_count": 9,
   "metadata": {
    "collapsed": false,
    "slideshow": {
     "slide_type": "fragment"
    }
   },
   "outputs": [],
   "source": [
    "PERIOD = FRAMERATE / 440\n",
    "bits = []\n",
    "for i in range(0, round(FRAMERATE * SOUND_LENGTH)):\n",
    "    bit = 5000 * math.sin( i * (2 * math.pi / PERIOD) )\n",
    "    packed_bit = struct.pack('h', round(bit))\n",
    "    bits.append(packed_bit)\n",
    "    bits.append(packed_bit)\n",
    "bits = (b''.join(bits))\n",
    "wav_file.writeframes(bits)\n",
    "wav_file.close()"
   ]
  },
  {
   "cell_type": "markdown",
   "metadata": {
    "slideshow": {
     "slide_type": "fragment"
    }
   },
   "source": [
    "The only line that changed from the code for white noise is the line:\n",
    "```\n",
    "    bit = random.randint(-32767, 32767)\n",
    "```\n",
    "which changed to:\n",
    "```\n",
    "    bit = 5000 * math.sin( i * (2 * math.pi / PERIOD) )\n",
    "```\n",
    "in the code for generating middle A. Here we are using a coefficient of 5000 for the sine function so that the amplitude is significantly large within the range (-32767, 32767)."
   ]
  },
  {
   "cell_type": "markdown",
   "metadata": {
    "slideshow": {
     "slide_type": "slide"
    }
   },
   "source": [
    "The following is the entire script for generating 5 seconds of Middle A\n",
    "```\n",
    "#Python 3\n",
    "import wave, random, struct, math\n",
    "\n",
    "FRAMERATE = 44100\n",
    "SOUND_LENGTH = 5\n",
    "PERIOD = FRAMERATE / 440\n",
    "\n",
    "with wave.open('output/myNote.wav', 'w') as wav_file:\n",
    "    wav_file.setparams((2, 2, FRAMERATE, 0, 'NONE', 'not compressed'))\n",
    "\n",
    "    bits = []\n",
    "    for i in range(0, round(FRAMERATE * SOUND_LENGTH)):\n",
    "        bit = 5000 * math.sin( i * (2 * math.pi / PERIOD) )\n",
    "        packed_bit = struct.pack('h', round(bit))\n",
    "        bits.append(packed_bit)\n",
    "        bits.append(packed_bit)\n",
    "    bits = (b''.join(bits))\n",
    "    wav_file.writeframes(bits)\n",
    "```\n",
    "\n",
    "Here is the output of the script: [/output/myNote.wav](/notebooks/output/myNote.wav)"
   ]
  },
  {
   "cell_type": "markdown",
   "metadata": {
    "slideshow": {
     "slide_type": "slide"
    }
   },
   "source": [
    "### 5. Representing a melody\n",
    "\n",
    "To create a melody, we are going to abstract the process of creating a note into a *class* so that it can be easily reproduced. A Note class will have a method to easily generate a list of values, and we can append these lists together to create a melody. The class won't do any of the file processing; we will only need to save the file once when the entire list representing the melody is ready."
   ]
  },
  {
   "cell_type": "code",
   "execution_count": 10,
   "metadata": {
    "collapsed": true
   },
   "outputs": [],
   "source": [
    "FRAMERATE = 44100\n",
    "\n",
    "class Note():\n",
    "    def __init__(self, frequency=440, length=1):\n",
    "        self.frequency = frequency\n",
    "        self.length = length\n",
    "        self.period = FRAMERATE / self.frequency\n",
    "    \n",
    "    def toBytes(self):\n",
    "        bits = []\n",
    "        for i in range(0, round(self.length * FRAMERATE)):\n",
    "            bit = 5000 * math.sin( i * (2 * math.pi / self.period) )\n",
    "            packed_bit = struct.pack('h', round(bit))\n",
    "            bits.append(packed_bit)\n",
    "            bits.append(packed_bit)\n",
    "        bits = (b''.join(bits))\n",
    "        return bits"
   ]
  },
  {
   "cell_type": "markdown",
   "metadata": {
    "slideshow": {
     "slide_type": "fragment"
    }
   },
   "source": [
    "The __init__ method of the Note class takes in two arguments: frequency (in Hz) and length (in sec).\n",
    "The toBytes method just outputs a list of numbers representing that note."
   ]
  },
  {
   "cell_type": "markdown",
   "metadata": {
    "slideshow": {
     "slide_type": "slide"
    }
   },
   "source": [
    "We further abstract the process of creating multiple notes into a Sequence class. This Sequence class will have the method to write the wave file."
   ]
  },
  {
   "cell_type": "code",
   "execution_count": 11,
   "metadata": {
    "collapsed": true,
    "slideshow": {
     "slide_type": "fragment"
    }
   },
   "outputs": [],
   "source": [
    "class Sequence():\n",
    "    def __init__(self):\n",
    "        self.notes = []\n",
    "    \n",
    "    def add(self, note):\n",
    "        if type(note) == Note:\n",
    "            self.notes.append(note)\n",
    "        else:\n",
    "            raise TypeError('Should be a Note object')\n",
    "    \n",
    "    def addNote(self, *args, **kwargs):\n",
    "        self.notes.append(Note(*args, **kwargs))\n",
    "    \n",
    "    def writeWav(self, filename):\n",
    "        wav_file = wave.open(filename, 'w')\n",
    "        wav_file.setparams((2, 2, FRAMERATE, 0, 'NONE', 'not compressed'))\n",
    "        bits = b''\n",
    "        for note in self.notes:\n",
    "            bits += note.toBytes()\n",
    "        wav_file.writeframes(bits)\n",
    "        wav_file.close()"
   ]
  },
  {
   "cell_type": "markdown",
   "metadata": {
    "slideshow": {
     "slide_type": "fragment"
    }
   },
   "source": [
    "The Sequence class has two methods for adding notes:\n",
    "The *add* method takes in a Note object and appends it to a list named *notes*.\n",
    "The *addNote* method takes in two arguments - frequency and length - that are used to construct a Note instance before appending to the *notes* list.\n",
    "The *writeWav* method takes in a string argument - the file path - and writes a wave file. It does this by iterating through the list of Note objects in the *notes* list and calls the *toBytes* method to generate the sequence of numbers."
   ]
  },
  {
   "cell_type": "markdown",
   "metadata": {
    "slideshow": {
     "slide_type": "slide"
    }
   },
   "source": [
    "Now we will use the two classes - Note and Sequence - that we've just written to generate a very simple melody: Do - Re- Mi\n",
    "\n",
    "Do : C4 : 261.626 Hz\n",
    "Re : D4 : 293.665 Hz\n",
    "Mi : E4 : 329.628 Hz"
   ]
  },
  {
   "cell_type": "code",
   "execution_count": 12,
   "metadata": {
    "collapsed": false,
    "slideshow": {
     "slide_type": "fragment"
    }
   },
   "outputs": [],
   "source": [
    "doremi = Sequence()\n",
    "doremi.addNote(261.626, 1)\n",
    "doremi.addNote(293.665, 1)\n",
    "doremi.addNote(329.628, 1)\n",
    "doremi.writeWav('output/myMelody.wav')"
   ]
  },
  {
   "cell_type": "markdown",
   "metadata": {
    "slideshow": {
     "slide_type": "fragment"
    }
   },
   "source": [
    "Check out the melody: [/output/myMelody.wav](/notebooks/output/myMelody.wav)"
   ]
  },
  {
   "cell_type": "markdown",
   "metadata": {
    "slideshow": {
     "slide_type": "slide"
    }
   },
   "source": [
    "### 6. Writing a simple song and saving as a WAV\n",
    "\n",
    "Now, just for fun, let's write the infamous \"Twinkle Twinkle Little Star\" tune.\n",
    "I've put modified versions of the Note and Sequence classes into a module called sound.py (included in this notebook directory), and wrote a helper function to map human-friendly musical notation like \"C\" or \"G\" to a frequency."
   ]
  },
  {
   "cell_type": "code",
   "execution_count": 13,
   "metadata": {
    "collapsed": false,
    "slideshow": {
     "slide_type": "fragment"
    }
   },
   "outputs": [],
   "source": [
    "import sound\n",
    "\n",
    "BPM = 120\n",
    "b = 60 / BPM\n",
    "\n",
    "twinkle = sound.Sequence()\n",
    "twinkle.addNote('C4', b)\n",
    "twinkle.addNote('C4', b)\n",
    "twinkle.addNote('G4', b)\n",
    "twinkle.addNote('G4', b)\n",
    "twinkle.addNote('A5', b)\n",
    "twinkle.addNote('A5', b)\n",
    "twinkle.addNote('G4', b * 2)\n",
    "twinkle.addNote('F4', b)\n",
    "twinkle.addNote('F4', b)\n",
    "twinkle.addNote('E4', b)\n",
    "twinkle.addNote('E4', b)\n",
    "twinkle.addNote('D4', b)\n",
    "twinkle.addNote('D4', b)\n",
    "twinkle.addNote('C4', b * 2)\n",
    "twinkle.writeWav('output/twinkle')"
   ]
  },
  {
   "cell_type": "markdown",
   "metadata": {
    "collapsed": true
   },
   "source": [
    "Check out [Twinkle Twinkle](/notebooks/output/twinkle.wav)"
   ]
  }
 ],
 "metadata": {
  "celltoolbar": "Slideshow",
  "kernelspec": {
   "display_name": "Python 3",
   "language": "python",
   "name": "python3"
  },
  "language_info": {
   "codemirror_mode": {
    "name": "ipython",
    "version": 3
   },
   "file_extension": ".py",
   "mimetype": "text/x-python",
   "name": "python",
   "nbconvert_exporter": "python",
   "pygments_lexer": "ipython3",
   "version": "3.4.3"
  }
 },
 "nbformat": 4,
 "nbformat_minor": 0
}
