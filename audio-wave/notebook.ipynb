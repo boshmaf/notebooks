{
 "cells": [
  {
   "cell_type": "markdown",
   "metadata": {
    "slideshow": {
     "slide_type": "slide"
    }
   },
   "source": [
    "## Exploring Sound Generation with Python wave module\n",
    "\n",
    "Have you ever stopped and wondered how a computer is able to play a sound file or how we are able to record and store sounds?\n",
    "How does a sequence of zeroes and ones get converted into physical sound that come out through the speakers?\n",
    "How are all these real-life analogue sound saved as zeroes and ones?\n",
    "\n",
    "In this notebook, we will explore the physics of sound and how the information is stored digitally inside a raw WAV file.\n",
    "\n",
    "1. Writing a WAV file\n",
    "2. Understanding the data format\n",
    "3. Physics of sound\n",
    "4. Representing a note\n",
    "5. Representing a melody\n",
    "6. Writing a simple song and saving as a WAV"
   ]
  },
  {
   "cell_type": "markdown",
   "metadata": {
    "collapsed": true,
    "slideshow": {
     "slide_type": "slide"
    }
   },
   "source": [
    "### 1. Writing a WAV file\n",
    "\n",
    "In this notebook, we will be using a standard Python module called *wave* that provides basic file writing and reading functionalities.\n",
    "You can also read a [good introduction to generating wave files](http://soledadpenades.com/2009/10/29/fastest-way-to-generate-wav-files-in-python-using-the-wave-module/) written by [Soledad Penades](https://github.com/sole)"
   ]
  },
  {
   "cell_type": "markdown",
   "metadata": {
    "slideshow": {
     "slide_type": "slide"
    }
   },
   "source": [
    "### 2. Understanding the data format\n",
    "\n"
   ]
  },
  {
   "cell_type": "markdown",
   "metadata": {
    "slideshow": {
     "slide_type": "slide"
    }
   },
   "source": [
    "### 3. Physics of sound"
   ]
  },
  {
   "cell_type": "markdown",
   "metadata": {
    "slideshow": {
     "slide_type": "slide"
    }
   },
   "source": [
    "### 4. Representing a note"
   ]
  },
  {
   "cell_type": "markdown",
   "metadata": {
    "slideshow": {
     "slide_type": "slide"
    }
   },
   "source": [
    "### 5. Representing a melody"
   ]
  },
  {
   "cell_type": "markdown",
   "metadata": {
    "slideshow": {
     "slide_type": "slide"
    }
   },
   "source": [
    "### 6. Writing a simple song and saving as a WAV"
   ]
  },
  {
   "cell_type": "code",
   "execution_count": null,
   "metadata": {
    "collapsed": true
   },
   "outputs": [],
   "source": []
  }
 ],
 "metadata": {
  "celltoolbar": "Slideshow",
  "kernelspec": {
   "display_name": "Python 3",
   "language": "python",
   "name": "python3"
  },
  "language_info": {
   "codemirror_mode": {
    "name": "ipython",
    "version": 3
   },
   "file_extension": ".py",
   "mimetype": "text/x-python",
   "name": "python",
   "nbconvert_exporter": "python",
   "pygments_lexer": "ipython3",
   "version": "3.4.3"
  }
 },
 "nbformat": 4,
 "nbformat_minor": 0
}
