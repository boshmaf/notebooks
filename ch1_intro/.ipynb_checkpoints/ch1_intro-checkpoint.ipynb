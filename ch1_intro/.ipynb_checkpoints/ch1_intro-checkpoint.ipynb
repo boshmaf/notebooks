{
 "metadata": {
  "name": "",
  "signature": "sha256:95dcc2254cfa8e1e9640bfe4ef0080ac0e406817db935bac236c3b0f7ffec53d"
 },
 "nbformat": 3,
 "nbformat_minor": 0,
 "worksheets": [
  {
   "cells": [
    {
     "cell_type": "markdown",
     "metadata": {},
     "source": [
      "### Social Web Intelligence\n",
      "\n",
      "**Draft version 0.1**\n",
      "\n",
      "Welcome to *Social Web Intelligence*. The full Github repository is available [here](https://github.com/boshmaf/swi). The other chapters can be found on the project's [homepage](https://boshmaf.github.io/swi). We hope you enjoy the book, and we encourage any contributions!\n",
      "\n"
     ]
    },
    {
     "cell_type": "code",
     "collapsed": false,
     "input": [],
     "language": "python",
     "metadata": {},
     "outputs": []
    }
   ],
   "metadata": {}
  }
 ]
}