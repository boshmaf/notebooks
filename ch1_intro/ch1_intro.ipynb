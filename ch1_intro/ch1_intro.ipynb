{
 "metadata": {
  "celltoolbar": "Slideshow",
  "name": "",
  "signature": "sha256:54d9269ac04f918048ea65bd1c4d4e8ef7568804dad7bfacea2566496ea9684d"
 },
 "nbformat": 3,
 "nbformat_minor": 0,
 "worksheets": [
  {
   "cells": [
    {
     "cell_type": "markdown",
     "metadata": {
      "slideshow": {
       "slide_type": "slide"
      }
     },
     "source": [
      "### Social Web Intelligence\n",
      "\n",
      "**Draft version 0.1**\n",
      "\n",
      "Welcome to *Social Web Intelligence*. The full Github repository is available [here](https://github.com/boshmaf/swi). The other chapters can be found on the project's [homepage](https://boshmaf.github.io/swi). We hope you enjoy the book, and we encourage any contributions!\n",
      "\n"
     ]
    }
   ],
   "metadata": {}
  }
 ]
}