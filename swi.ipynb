{
 "metadata": {
  "celltoolbar": "Slideshow",
  "name": "",
  "signature": "sha256:80cd09038acf8de37a093d37302293c1a68d6cb8f0b7c0f4b0ae27017e43f801"
 },
 "nbformat": 3,
 "nbformat_minor": 0,
 "worksheets": [
  {
   "cells": [
    {
     "cell_type": "markdown",
     "metadata": {
      "slideshow": {
       "slide_type": "slide"
      }
     },
     "source": [
      "Social Web Intelligence\n",
      "=======================\n",
      "\n",
      "*Analyzing and learning from users and their relationships*\n",
      "\n",
      "<br/>\n",
      "Yazan Boshmaf, UBC\n",
      "\n",
      "<br/>\n",
      "SFU/UBC Digital Salon's 2nd Digital Humanities Workshop\n",
      "\n",
      "February 21, 2015 "
     ]
    },
    {
     "cell_type": "markdown",
     "metadata": {
      "slideshow": {
       "slide_type": "slide"
      }
     },
     "source": [
      "Preliminaries\n",
      "============="
     ]
    },
    {
     "cell_type": "markdown",
     "metadata": {
      "slideshow": {
       "slide_type": "slide"
      }
     },
     "source": [
      "About the presenter\n",
      "===================\n",
      "\n",
      "PhD candidate at UBC\n",
      "\n",
      "Deisgn and analyze social bots as an academic\n",
      "\n",
      "Build systems to fight the bad guys on the social web"
     ]
    },
    {
     "cell_type": "markdown",
     "metadata": {
      "slideshow": {
       "slide_type": "fragment"
      }
     },
     "source": [
      "*Feel free to contacts me at [boshmaf@ece.ubc.ca](mailto:boshmaf@ece.ubc.ca)*"
     ]
    },
    {
     "cell_type": "markdown",
     "metadata": {
      "slideshow": {
       "slide_type": "slide"
      }
     },
     "source": [
      "About the slides\n",
      "================\n",
      "\n",
      "Created using iPython Notebook\n",
      "\n",
      "Available to everyone\n",
      "\n",
      "May have typos, errors, etc."
     ]
    },
    {
     "cell_type": "markdown",
     "metadata": {
      "slideshow": {
       "slide_type": "fragment"
      }
     },
     "source": [
      "*Copy or contribute at [http://boshmaf.github.io/swi](http://boshmaf.github.io/swi/)*"
     ]
    },
    {
     "cell_type": "markdown",
     "metadata": {
      "slideshow": {
       "slide_type": "slide"
      }
     },
     "source": [
      "About the workshop\n",
      "==================\n",
      "\n",
      "SFU/UBC Digital Salon's Workshop Series\n",
      "\n",
      "Organized by Siobhan McElduff ([siobhan.mcelduff@ubc.ca ](mailto:siobhan.mcelduff@ubc.ca))\n",
      "\n",
      "Theory and practice of network analysis & machine learning:\n",
      "\n",
      "- Applied to social and information networking problems\n",
      "- Focuse on hands-on experience using Python"
     ]
    },
    {
     "cell_type": "markdown",
     "metadata": {
      "slideshow": {
       "slide_type": "slide"
      }
     },
     "source": [
      "Timeslot | Subject\n",
      "--- |  ---  | ---\n",
      "10:00 - 11:00 | Setup & data collection\n",
      "**11:00 - 11:15** | **Break I**\n",
      "11:15 - 13:00 | Network analysis with Networkx\n",
      "**13:00 - 13:15** | **Break II**\n",
      "13:15 - 15:00 | Machine learning with SciKit-Learn\n",
      "**15:00 - 16:00** | **Hands-on**"
     ]
    },
    {
     "cell_type": "markdown",
     "metadata": {
      "slideshow": {
       "slide_type": "slide"
      }
     },
     "source": [
      "Setup & data collection\n",
      "======================="
     ]
    },
    {
     "cell_type": "markdown",
     "metadata": {
      "slideshow": {
       "slide_type": "subslide"
      }
     },
     "source": [
      "Social networks are everywhere\n",
      "==============================\n",
      "\n",
      "They model friendships, followships, professional relationships, etc.\n",
      "\n",
      "Explicitly declared on the web:\n",
      "\n",
      "- Facebook with **1.4B** montly active users [[1]]\n",
      "\n",
      "- Twitter with **288M** montly active users [[2]]\n",
      "\n",
      "- LinkedIn with **347M** registered users [[3]]\n",
      "\n",
      "Gold mine for social science research:\n",
      "\n",
      "- From tens of participants to millions\n",
      "- Unique opporunity to analyze behavior on a global scale\n",
      "\n",
      "[1]: http://newsroom.fb.com/company-info/ \"Facebook company info\"\n",
      "[2]: https://about.twitter.com/company \"Twitter company info\"\n",
      "[3]: https://press.linkedin.com/about-linkedin \"LinkedIn company info\"\n"
     ]
    },
    {
     "cell_type": "markdown",
     "metadata": {
      "slideshow": {
       "slide_type": "subslide"
      }
     },
     "source": [
      "Collecting social network data\n",
      "==============================\n",
      "\n",
      "Many ways to collect (from easiest to harderst):\n",
      "\n",
      "- Use existing datasets from public repos\n",
      "\n",
      "- Query your network of choice using an API\n",
      "\n",
      "- Crawl and scrap your own from the network"
     ]
    }
   ],
   "metadata": {}
  }
 ]
}