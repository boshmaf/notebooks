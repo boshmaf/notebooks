{
 "metadata": {
  "celltoolbar": "Slideshow",
  "name": "",
  "signature": "sha256:ef00b88fa93922be4c396056d03292aea33926e084bef3bcc9066aba2b96c434"
 },
 "nbformat": 3,
 "nbformat_minor": 0,
 "worksheets": [
  {
   "cells": [
    {
     "cell_type": "markdown",
     "metadata": {
      "slideshow": {
       "slide_type": "slide"
      }
     },
     "source": [
      "Social Web Intelligence\n",
      "=======================\n",
      "\n",
      "*Analyzing and learning from users and their relationships*\n",
      "\n",
      "<br/>\n",
      "Yazan Boshmaf, UBC\n",
      "\n",
      "<br/>\n",
      "SFU/UBC Digital Salon's 2nd Digital Humanities Workshop\n",
      "\n",
      "February 21, 2015 "
     ]
    },
    {
     "cell_type": "markdown",
     "metadata": {
      "slideshow": {
       "slide_type": "slide"
      }
     },
     "source": [
      "Preliminaries\n",
      "============="
     ]
    },
    {
     "cell_type": "markdown",
     "metadata": {
      "slideshow": {
       "slide_type": "slide"
      }
     },
     "source": [
      "About the presenter\n",
      "===================\n",
      "\n",
      "PhD candidate at UBC\n",
      "\n",
      "Deisgn and analyze social bots as an academic\n",
      "\n",
      "Build systems to fight the bad guys on the social web"
     ]
    },
    {
     "cell_type": "markdown",
     "metadata": {
      "slideshow": {
       "slide_type": "fragment"
      }
     },
     "source": [
      "*Feel free to contacts me at [boshmaf@ece.ubc.ca](mailto:boshmaf@ece.ubc.ca)*"
     ]
    },
    {
     "cell_type": "markdown",
     "metadata": {
      "slideshow": {
       "slide_type": "slide"
      }
     },
     "source": [
      "About the slides\n",
      "================\n",
      "\n",
      "Created using iPython Notebook\n",
      "\n",
      "Available to everyone\n",
      "\n",
      "May have typos, errors, etc."
     ]
    },
    {
     "cell_type": "markdown",
     "metadata": {
      "slideshow": {
       "slide_type": "fragment"
      }
     },
     "source": [
      "*Copy or contribute at [http://boshmaf.github.io/swi](http://boshmaf.github.io/swi/)*"
     ]
    },
    {
     "cell_type": "markdown",
     "metadata": {
      "slideshow": {
       "slide_type": "slide"
      }
     },
     "source": [
      "About the workshop\n",
      "==================\n",
      "\n",
      "SFU/UBC Digital Salon's Workshop Series\n",
      "\n",
      "Organized by Siobhan McElduff ([siobhan.mcelduff@ubc.ca](mailto:siobhan.mcelduff@ubc.ca))\n",
      "\n",
      "Theory and practice of network analysis & machine learning"
     ]
    },
    {
     "cell_type": "markdown",
     "metadata": {
      "slideshow": {
       "slide_type": "fragment"
      }
     },
     "source": [
      "*Applied to social networking problems with hands-on experience using Python*"
     ]
    },
    {
     "cell_type": "markdown",
     "metadata": {
      "slideshow": {
       "slide_type": "slide"
      }
     },
     "source": [
      "Timeslot | Subject\n",
      "--- |  ---  | ---\n",
      "10:00 - 11:00 | Introduction\n",
      "**11:00 - 11:15** | **Break I**\n",
      "11:15 - 13:00 | Network analysis with Networkx\n",
      "**13:00 - 13:15** | **Break II**\n",
      "13:15 - 15:00 | Machine learning with SciKit-Learn\n",
      "**15:00 - 16:00** | **Project**"
     ]
    },
    {
     "cell_type": "markdown",
     "metadata": {
      "slideshow": {
       "slide_type": "slide"
      }
     },
     "source": [
      "Introduction\n",
      "============"
     ]
    },
    {
     "cell_type": "markdown",
     "metadata": {
      "slideshow": {
       "slide_type": "slide"
      }
     },
     "source": [
      "Social networks are everywhere\n",
      "==============================\n",
      "\n",
      "Model friendships, followships, professional relationships, etc.\n",
      "\n",
      "Explicitly declared on the web using **online social networks** (OSNs)\n",
      "\n",
      "- Facebook with **1.4B** montly active users [[1]]\n",
      "\n",
      "- Twitter with **288M** montly active users [[2]]\n",
      "\n",
      "- LinkedIn with **347M** registered users [[3]]\n",
      "\n",
      "[1]: http://newsroom.fb.com/company-info/ \"Facebook company info\"\n",
      "[2]: https://about.twitter.com/company \"Twitter company info\"\n",
      "[3]: https://press.linkedin.com/about-linkedin \"LinkedIn company info\"\n"
     ]
    },
    {
     "cell_type": "markdown",
     "metadata": {
      "slideshow": {
       "slide_type": "slide"
      }
     },
     "source": [
      "Facebook's geo-mapped social graph\n",
      "==================================\n",
      "\n",
      "![alt text][fb_graph]\n",
      "\n",
      "[fb_graph]: images/fb_graph.jpg \"Geo-mapped Facebook graph\""
     ]
    },
    {
     "cell_type": "markdown",
     "metadata": {
      "slideshow": {
       "slide_type": "slide"
      }
     },
     "source": [
      "OSNs are goldmines for researchers\n",
      "==================================\n",
      "\n",
      "From tens or hundreds of participants to millions\n",
      "\n",
      "Unique opporunity to analyze behavior on a **global scale**"
     ]
    },
    {
     "cell_type": "markdown",
     "metadata": {
      "slideshow": {
       "slide_type": "fragment"
      }
     },
     "source": [
      "*Milgram's small-world expirement replicated with 721M users and 69B friendships [[1], [2]]*\n",
      "\n",
      "[1]: http://www.uvm.edu/~pdodds/files/papers/others/1969/travers1969.pdf \"An experimental study of the small world problem\"\n",
      "[2]: http://arxiv.org/pdf/1111.4570v3.pdf \"Four degrees of seperation\""
     ]
    },
    {
     "cell_type": "markdown",
     "metadata": {
      "slideshow": {
       "slide_type": "slide"
      }
     },
     "source": [
      "Six-degrees of separation\n",
      "=========================\n",
      "\n",
      "![alt text][six_degrees]\n",
      "\n",
      "[six_degrees]: images/six_degrees.png \"Six-degrees of separation\""
     ]
    },
    {
     "cell_type": "markdown",
     "metadata": {
      "slideshow": {
       "slide_type": "slide"
      }
     },
     "source": [
      "Collecting social network data\n",
      "==============================\n",
      "\n",
      "A static network dataset includes a snapshop of its\n",
      "\n",
      "- **Graph:** Users and their relationships\n",
      "\n",
      "- **Attributes:** User profiles and contents"
     ]
    },
    {
     "cell_type": "markdown",
     "metadata": {
      "slideshow": {
       "slide_type": "fragment"
      }
     },
     "source": [
      "Ways to collect social network data, from easiest to harderst:\n",
      "\n",
      "- Download **publicly available** datasets\n",
      "\n",
      "- Use data-access APIs provided by networks\n",
      "\n",
      "- Crawl and scrape data from networks \"manually\""
     ]
    },
    {
     "cell_type": "markdown",
     "metadata": {
      "slideshow": {
       "slide_type": "slide"
      }
     },
     "source": [
      "Data comes in different shapes & formats\n",
      "========================================\n",
      "\n",
      "Usually **structured**, with a schema (Pajek, TAB, etc.)\n",
      "\n",
      "- Adjacency list for graphs ( `user1, user2` )\n",
      "\n",
      "- Data matrix for attributes ( `male, 26, vancouver, canada, UBC, etc.` )"
     ]
    },
    {
     "cell_type": "markdown",
     "metadata": {
      "slideshow": {
       "slide_type": "fragment"
      }
     },
     "source": [
      "But sometimes **semi-structured**, without a schema (JSON, XML, etc.)\n",
      "\n",
      "- Dictionary with attribute names and values ( `{\"gender\":\"male\", \"age\":26}` )\n",
      "\n",
      "- Marked up attributes with attribute tags and values"
     ]
    },
    {
     "cell_type": "markdown",
     "metadata": {
      "slideshow": {
       "slide_type": "slide"
      }
     },
     "source": [
      "Stanford large network dataset collection (SNAP)\n",
      "================================================\n",
      "\n",
      "Public datasets for social, communication, citation, collaboration, road, and geo-location networks\n",
      "\n",
      "Go to SNAP website [http://snap.stanford.edu/data/index.html](http://snap.stanford.edu/data/index.html)\n",
      "\n",
      "Download Arxiv General Relativity ( `ca-GrQc` ) collaboration network\n",
      "\n",
      "- Direct link is [http://snap.stanford.edu/data/ca-GrQc.html](http://snap.stanford.edu/data/ca-GrQc.html)\n",
      "\n",
      "- Download compressed file `ca-GrQc.txt.gz`\n",
      "\n",
      "- Uncompress the file into `~/dev/swi/datasets/ca-GrQc.txt`"
     ]
    },
    {
     "cell_type": "markdown",
     "metadata": {},
     "source": [
      "*Already available to you in the workshop's Github repo!*"
     ]
    },
    {
     "cell_type": "markdown",
     "metadata": {
      "slideshow": {
       "slide_type": "slide"
      }
     },
     "source": [
      "Setting up dev environment\n",
      "=========================="
     ]
    },
    {
     "cell_type": "markdown",
     "metadata": {
      "slideshow": {
       "slide_type": "slide"
      }
     },
     "source": [
      "Installing Anaconda Python distribution\n",
      "=======================================\n",
      "\n",
      "Go to Continuum Anaconda webpage [http://continuum.io/downloads](http://continuum.io/downloads)\n",
      "\n",
      "Download & install the propoer binary of Python 2.7 Graphical Installer\n",
      "\n",
      "Update Anaconda and iPython, then install statsmodels\n",
      "\n",
      "- Use graphical interface (Desktop shortcut)\n",
      "\n",
      "- Or from command-line, type \n",
      "```\n",
      "conda update conda\n",
      "conda update ipython\n",
      "conda install statsmodels\n",
      "```"
     ]
    },
    {
     "cell_type": "markdown",
     "metadata": {
      "slideshow": {
       "slide_type": "fragment"
      }
     },
     "source": [
      "*Anaconda comes 224 Python packages, including Networkx and SciKit-Learn!*"
     ]
    },
    {
     "cell_type": "markdown",
     "metadata": {
      "slideshow": {
       "slide_type": "slide"
      }
     },
     "source": [
      "Installing Git version control system\n",
      "=====================================\n",
      "\n",
      "Go to Git website [http://git-scm.com/downloads](http://git-scm.com/downloads)\n",
      "\n",
      "Download and install the proper binary of Git 2.3.0\n",
      "\n",
      "Clone the workshop's Git repo from Github using command-line\n",
      "\n",
      "```\n",
      "cd ~/\n",
      "mkdir dev\n",
      "cd dev\n",
      "git clone https://github.com/boshmaf/swi.git\n",
      "```"
     ]
    },
    {
     "cell_type": "markdown",
     "metadata": {
      "slideshow": {
       "slide_type": "fragment"
      }
     },
     "source": [
      "*Repository contains all workshop material*"
     ]
    },
    {
     "cell_type": "markdown",
     "metadata": {
      "slideshow": {
       "slide_type": "slide"
      }
     },
     "source": [
      "Install PanDoc document convertor\n",
      "=================================\n",
      "\n",
      "Got to PanDoc website [http://johnmacfarlane.net/pandoc/installing.html](http://johnmacfarlane.net/pandoc/installing.html)\n",
      "\n",
      "Download and install the proper binary of PanDoc 1.13.x\n",
      "\n",
      "To view these slides from command-line, type\n",
      "\n",
      "```\n",
      "cd ~/dev/swi\n",
      "./start.sh\n",
      "```"
     ]
    },
    {
     "cell_type": "markdown",
     "metadata": {
      "slideshow": {
       "slide_type": "fragment"
      }
     },
     "source": [
      "*This will open a new tab in the browser; use arrow keys to navigate*"
     ]
    },
    {
     "cell_type": "markdown",
     "metadata": {
      "slideshow": {
       "slide_type": "slide"
      }
     },
     "source": [
      "You can now edit the slides!\n",
      "============================\n",
      "\n",
      "From command-line, type\n",
      "```\n",
      "cd ~/dev/swi\n",
      "ipython notebook\n",
      "```"
     ]
    },
    {
     "cell_type": "markdown",
     "metadata": {
      "slideshow": {
       "slide_type": "fragment"
      }
     },
     "source": [
      "*This will open a new tab in the browser; click on `swi` to edit*"
     ]
    },
    {
     "cell_type": "markdown",
     "metadata": {
      "slideshow": {
       "slide_type": "slide"
      }
     },
     "source": [
      "Break I\n",
      "======="
     ]
    },
    {
     "cell_type": "markdown",
     "metadata": {
      "slideshow": {
       "slide_type": "slide"
      }
     },
     "source": [
      "Network analysis with Networkx\n",
      "=============================="
     ]
    },
    {
     "cell_type": "markdown",
     "metadata": {
      "slideshow": {
       "slide_type": "slide"
      }
     },
     "source": [
      "What is Networkx?\n",
      "=================\n",
      "\n",
      "Python package for the creation, manipulation, and study of the structure, dynamics, and functions of complex networks.\n",
      "\n",
      "Noticable features\n",
      "\n",
      "- Data structures for graphs, digraphs, and multigraphs\n",
      "\n",
      "- Many standard graph algorithms\n",
      "\n",
      "- Generators for classic graphs, random graphs, and synthetic networks\n",
      "\n",
      "- Nodes can be \"anything\" (e.g. text, images, XML records)\n",
      "\n",
      "- Edges can hold arbitrary data (e.g. weights, time-series)\n",
      "\n",
      "Go to Networkx website for more info [https://networkx.github.io/](https://networkx.github.io/)"
     ]
    },
    {
     "cell_type": "markdown",
     "metadata": {
      "slideshow": {
       "slide_type": "slide"
      }
     },
     "source": [
      "Creating a graph\n",
      "================\n",
      "\n",
      "Graph $G=(V,E)$ is collection of nodes $V$ with identified pairs of nodes called edges $E$"
     ]
    },
    {
     "cell_type": "code",
     "collapsed": false,
     "input": [
      "# Import Networkx package\n",
      "import networkx as nx\n",
      "\n",
      "# Create empty undirected graph\n",
      "G = nx.Graph()"
     ],
     "language": "python",
     "metadata": {
      "slideshow": {
       "slide_type": "fragment"
      }
     },
     "outputs": [],
     "prompt_number": 1
    },
    {
     "cell_type": "markdown",
     "metadata": {
      "slideshow": {
       "slide_type": "fragment"
      }
     },
     "source": [
      "*We will focus only on undirected graphs*"
     ]
    },
    {
     "cell_type": "markdown",
     "metadata": {
      "slideshow": {
       "slide_type": "slide"
      }
     },
     "source": [
      "Adding nodes\n",
      "============\n",
      "\n",
      "In Python, `[o1, o2, etc.]` is used to group a **list of unordered objects**\n",
      "\n",
      "Let's add a list of 3 nodes representing social network users Dave, Bob, and Alice"
     ]
    },
    {
     "cell_type": "code",
     "collapsed": false,
     "input": [
      "# Add three nodes\n",
      "users = [\"Dave\",\"Bob\",\"Alice\"] \n",
      "G.add_nodes_from(users)"
     ],
     "language": "python",
     "metadata": {
      "slideshow": {
       "slide_type": "fragment"
      }
     },
     "outputs": [],
     "prompt_number": 2
    },
    {
     "cell_type": "markdown",
     "metadata": {
      "slideshow": {
       "slide_type": "fragment"
      }
     },
     "source": [
      "We can find number of nodes in the graph by computing its *order*"
     ]
    },
    {
     "cell_type": "code",
     "collapsed": false,
     "input": [
      "print \"Number of nodes is:\", G.order()"
     ],
     "language": "python",
     "metadata": {
      "slideshow": {
       "slide_type": "fragment"
      }
     },
     "outputs": [
      {
       "output_type": "stream",
       "stream": "stdout",
       "text": [
        "Number of nodes is: 3\n"
       ]
      }
     ],
     "prompt_number": 3
    },
    {
     "cell_type": "markdown",
     "metadata": {
      "slideshow": {
       "slide_type": "slide"
      }
     },
     "source": [
      "Adding edges\n",
      "============\n",
      "\n",
      "In Python, `(o1, o2, etc.)` is used to group a **tuple of ordered objects**\n",
      "\n",
      "Let's add a list of two friendship tuples between Bob and Dave, and Bob and Alice "
     ]
    },
    {
     "cell_type": "code",
     "collapsed": false,
     "input": [
      "# Add edges between nodes\n",
      "friendships = [(\"Bob\",\"Dave\"), (\"Bob\", \"Alice\")]\n",
      "G.add_edges_from(friendships)"
     ],
     "language": "python",
     "metadata": {
      "slideshow": {
       "slide_type": "fragment"
      }
     },
     "outputs": [],
     "prompt_number": 4
    },
    {
     "cell_type": "markdown",
     "metadata": {
      "slideshow": {
       "slide_type": "fragment"
      }
     },
     "source": [
      "We can find number of edges in the graph by computing its *size*"
     ]
    },
    {
     "cell_type": "code",
     "collapsed": false,
     "input": [
      "print \"Number of edges is:\", G.size()"
     ],
     "language": "python",
     "metadata": {
      "slideshow": {
       "slide_type": "fragment"
      }
     },
     "outputs": [
      {
       "output_type": "stream",
       "stream": "stdout",
       "text": [
        "Number of edges is: 2\n"
       ]
      }
     ],
     "prompt_number": 5
    },
    {
     "cell_type": "markdown",
     "metadata": {
      "slideshow": {
       "slide_type": "slide"
      }
     },
     "source": [
      "Creating a graph from a dataset\n",
      "===============================\n",
      "\n",
      "All we need to create a graph is an edge list\n",
      "\n",
      "Let's create the Arxiv General Relativity ( `ca-GrQc` ) graph"
     ]
    },
    {
     "cell_type": "markdown",
     "metadata": {
      "slideshow": {
       "slide_type": "fragment"
      }
     },
     "source": [
      "First, we create an empty graph with no nodes"
     ]
    },
    {
     "cell_type": "code",
     "collapsed": false,
     "input": [
      "# Create an empty undirected graph\n",
      "G = nx.Graph()"
     ],
     "language": "python",
     "metadata": {
      "slideshow": {
       "slide_type": "fragment"
      }
     },
     "outputs": [],
     "prompt_number": 6
    },
    {
     "cell_type": "markdown",
     "metadata": {
      "slideshow": {
       "slide_type": "fragment"
      }
     },
     "source": [
      "Then we open the dataset file and skip all headers"
     ]
    },
    {
     "cell_type": "code",
     "collapsed": false,
     "input": [
      "# Open dataset file for reading\n",
      "dataset = open(\"datasets/ca-GrQc.txt\", \"rb\")\n",
      "\n",
      "# Skip the first 4 lines\n",
      "for i in range(0,4):\n",
      "    dataset.next()"
     ],
     "language": "python",
     "metadata": {
      "slideshow": {
       "slide_type": "fragment"
      }
     },
     "outputs": [],
     "prompt_number": 7
    },
    {
     "cell_type": "markdown",
     "metadata": {
      "slideshow": {
       "slide_type": "fragment"
      }
     },
     "source": [
      "Finally, we read the dataset line by line and add edges"
     ]
    },
    {
     "cell_type": "code",
     "collapsed": false,
     "input": [
      "# Create the graph, edge by edge\n",
      "for line in dataset:\n",
      "    line = line.strip() # Remove whitespace chars\n",
      "    nodes = line.split(\"\\t\") # Split string by tab charater\n",
      "    G.add_edge(nodes[0], nodes[1])\n",
      "    \n",
      "# Close dataset file\n",
      "dataset.close()"
     ],
     "language": "python",
     "metadata": {
      "slideshow": {
       "slide_type": "fragment"
      }
     },
     "outputs": [],
     "prompt_number": 8
    },
    {
     "cell_type": "markdown",
     "metadata": {
      "slideshow": {
       "slide_type": "fragment"
      }
     },
     "source": [
      "It's always good to confirm the size and the order by assertion"
     ]
    },
    {
     "cell_type": "code",
     "collapsed": false,
     "input": [
      "assert G.order() == 5242\n",
      "assert G.size() == 14496\n",
      "print \"Graph created successfully from dataset!\""
     ],
     "language": "python",
     "metadata": {
      "slideshow": {
       "slide_type": "fragment"
      }
     },
     "outputs": [
      {
       "output_type": "stream",
       "stream": "stdout",
       "text": [
        "Graph created successfully from dataset!\n"
       ]
      }
     ],
     "prompt_number": 9
    },
    {
     "cell_type": "markdown",
     "metadata": {
      "slideshow": {
       "slide_type": "fragment"
      }
     },
     "source": [
      "We can also use Networkx built-in `read_edgelist` method"
     ]
    },
    {
     "cell_type": "code",
     "collapsed": false,
     "input": [
      "# Open dataset file for reading\n",
      "dataset = open(\"datasets/ca-GrQc.txt\", \"rb\")\n",
      "\n",
      "# Skip the first 4 lines\n",
      "for i in range(0,4):\n",
      "    dataset.next()\n",
      "    \n",
      "# Create graph from opened dataset file\n",
      "G = nx.read_edgelist(dataset)\n",
      "\n",
      "# Close dataset file\n",
      "dataset.close()"
     ],
     "language": "python",
     "metadata": {
      "slideshow": {
       "slide_type": "fragment"
      }
     },
     "outputs": [],
     "prompt_number": 10
    },
    {
     "cell_type": "markdown",
     "metadata": {
      "slideshow": {
       "slide_type": "fragment"
      }
     },
     "source": [
      "Let's confirm the size and the order again"
     ]
    },
    {
     "cell_type": "code",
     "collapsed": false,
     "input": [
      "assert G.order() == 5242\n",
      "assert G.size() == 14496\n",
      "print \"Graph dataset read successfully from file!\""
     ],
     "language": "python",
     "metadata": {
      "slideshow": {
       "slide_type": "fragment"
      }
     },
     "outputs": [
      {
       "output_type": "stream",
       "stream": "stdout",
       "text": [
        "Graph dataset read successfully from file!\n"
       ]
      }
     ],
     "prompt_number": 11
    },
    {
     "cell_type": "markdown",
     "metadata": {
      "slideshow": {
       "slide_type": "slide"
      }
     },
     "source": [
      "Network analysis: Connected components\n",
      "======================================\n",
      "\n",
      "*Is the collaboration network connected?*"
     ]
    },
    {
     "cell_type": "code",
     "collapsed": false,
     "input": [
      "print \"The graph is connected?\", nx.is_connected(G)"
     ],
     "language": "python",
     "metadata": {
      "slideshow": {
       "slide_type": "fragment"
      }
     },
     "outputs": [
      {
       "output_type": "stream",
       "stream": "stdout",
       "text": [
        "The graph is connected? False\n"
       ]
      }
     ],
     "prompt_number": 12
    },
    {
     "cell_type": "markdown",
     "metadata": {
      "slideshow": {
       "slide_type": "fragment"
      }
     },
     "source": [
      "*How many connected components, or disjoint collaboration subgraph?*"
     ]
    },
    {
     "cell_type": "code",
     "collapsed": false,
     "input": [
      "print \"Number of connected components is:\", nx.number_connected_components(G)"
     ],
     "language": "python",
     "metadata": {
      "slideshow": {
       "slide_type": "fragment"
      }
     },
     "outputs": [
      {
       "output_type": "stream",
       "stream": "stdout",
       "text": [
        "Number of connected components is: 355\n"
       ]
      }
     ],
     "prompt_number": 13
    },
    {
     "cell_type": "markdown",
     "metadata": {
      "slideshow": {
       "slide_type": "fragment"
      }
     },
     "source": [
      "*What's the distribution of number of collaborators in each connected component?*"
     ]
    },
    {
     "cell_type": "markdown",
     "metadata": {
      "slideshow": {
       "slide_type": "fragment"
      }
     },
     "source": [
      "Let's plot the CDF, but we need to import new packages for this"
     ]
    },
    {
     "cell_type": "code",
     "collapsed": false,
     "input": [
      "# Enable plotting in the current Notebook\n",
      "%matplotlib inline\n",
      "\n",
      "# Import plotting interface\n",
      "import matplotlib.pyplot as plt\n",
      "\n",
      "# Import stats and numerical packages\n",
      "import statsmodels.api as sm\n",
      "import numpy as np"
     ],
     "language": "python",
     "metadata": {
      "slideshow": {
       "slide_type": "fragment"
      }
     },
     "outputs": [],
     "prompt_number": 14
    },
    {
     "cell_type": "markdown",
     "metadata": {
      "slideshow": {
       "slide_type": "fragment"
      }
     },
     "source": [
      "We then get the order of each connected component as a subgraph"
     ]
    },
    {
     "cell_type": "code",
     "collapsed": false,
     "input": [
      "# Get connected components as subgraphs\n",
      "subgraphs = list(nx.connected_component_subgraphs(G))\n",
      "\n",
      "# Find order of each subgraph\n",
      "order_values = []\n",
      "for subgraph in subgraphs:\n",
      "    order_values.append(subgraph.order())"
     ],
     "language": "python",
     "metadata": {
      "slideshow": {
       "slide_type": "fragment"
      }
     },
     "outputs": [],
     "prompt_number": 15
    },
    {
     "cell_type": "markdown",
     "metadata": {
      "slideshow": {
       "slide_type": "fragment"
      }
     },
     "source": [
      "Finally, we plot the CDF of connected components order"
     ]
    },
    {
     "cell_type": "code",
     "collapsed": false,
     "input": [
      "# Plot connected components order CDF\n",
      "ecdf = sm.distributions.ECDF(order_values)\n",
      "x = np.linspace(min(order_values), max(order_values))\n",
      "y = ecdf(x)\n",
      "plt.plot(x, y)\n",
      "plt.xlabel(\"Order\")\n",
      "plt.ylabel(\"CDF\")\n",
      "plt.show()"
     ],
     "language": "python",
     "metadata": {
      "slideshow": {
       "slide_type": "fragment"
      }
     },
     "outputs": [
      {
       "metadata": {},
       "output_type": "display_data",
       "png": "[encoded data removed]",
       "text": [
        "<matplotlib.figure.Figure at 0x10b0a6210>"
       ]
      }
     ],
     "prompt_number": 16
    },
    {
     "cell_type": "markdown",
     "metadata": {
      "slideshow": {
       "slide_type": "fragment"
      }
     },
     "source": [
      "As the plot is too skewed, we compute helpful summary stats"
     ]
    },
    {
     "cell_type": "code",
     "collapsed": false,
     "input": [
      "# Order summary stats\n",
      "print \"Min order:\", np.min(order_values)\n",
      "print \"Max order:\", np.max(order_values)\n",
      "print \"Mean order:\", np.mean(order_values)\n",
      "print \"Median order:\", np.percentile(order_values, 50)\n",
      "print \"90-percentile order:\", np.percentile(order_values, 90)"
     ],
     "language": "python",
     "metadata": {
      "slideshow": {
       "slide_type": "fragment"
      }
     },
     "outputs": [
      {
       "output_type": "stream",
       "stream": "stdout",
       "text": [
        "Min order: 1\n",
        "Max order: 4158\n",
        "Mean order: 14.7661971831\n",
        "Median order: 2.0\n",
        "90-percentile order: 5.0\n"
       ]
      }
     ],
     "prompt_number": 17
    },
    {
     "cell_type": "markdown",
     "metadata": {
      "slideshow": {
       "slide_type": "fragment"
      }
     },
     "source": [
      "Based on this analysis, we focus on the largest connected compoent!"
     ]
    },
    {
     "cell_type": "code",
     "collapsed": false,
     "input": [
      "# User built-in max with custom value function\n",
      "G = max(subgraphs, key=nx.Graph.order)\n",
      "\n",
      "print \"Number of nodes:\", G.order()\n",
      "print \"Number of edges:\", G.size()"
     ],
     "language": "python",
     "metadata": {
      "slideshow": {
       "slide_type": "fragment"
      }
     },
     "outputs": [
      {
       "output_type": "stream",
       "stream": "stdout",
       "text": [
        "Number of nodes: 4158\n",
        "Number of edges: 13428\n"
       ]
      }
     ],
     "prompt_number": 18
    },
    {
     "cell_type": "markdown",
     "metadata": {
      "slideshow": {
       "slide_type": "slide"
      }
     },
     "source": [
      "Network analysis: Connectivity\n",
      "==============================\n",
      "\n",
      "*What is the maximum number of in-between collaborators among any pair of researchers?*"
     ]
    },
    {
     "cell_type": "markdown",
     "metadata": {
      "slideshow": {
       "slide_type": "fragment"
      }
     },
     "source": [
      "We can find this by computing the **diameter** of the graph: The length of the longest shortest path between any pair of nodes"
     ]
    },
    {
     "cell_type": "code",
     "collapsed": false,
     "input": [
      "print \"Graph diameter is:\", nx.diameter(G)"
     ],
     "language": "python",
     "metadata": {
      "slideshow": {
       "slide_type": "fragment"
      }
     },
     "outputs": [
      {
       "output_type": "stream",
       "stream": "stdout",
       "text": [
        "Graph diameter is: "
       ]
      },
      {
       "output_type": "stream",
       "stream": "stdout",
       "text": [
        "17\n"
       ]
      }
     ],
     "prompt_number": 19
    },
    {
     "cell_type": "markdown",
     "metadata": {
      "slideshow": {
       "slide_type": "fragment"
      }
     },
     "source": [
      "*How likely are the collaborators of a researcher to collaborate themselves, on average?*"
     ]
    },
    {
     "cell_type": "markdown",
     "metadata": {
      "slideshow": {
       "slide_type": "fragment"
      }
     },
     "source": [
      "We can find this by computing the **average clustering coefficient** $C(G)$ of the graph $G$:\n",
      "\n",
      "$$ C(G) = \\frac{1}{n} \\sum_{v_i\\in V} c(v_i) $$\n",
      "\n",
      "Where $n$ is number of nodes and $c(v_i)$ is the *clustering coefficient* of node $v_i$, defined by\n",
      "\n",
      "$$ c(v_i) = \\frac{2T(v_i)}{\\deg(v_i)(\\deg(v_i)-1)} $$\n",
      "\n",
      "Where $T(v_i)$ is the numer of *triangles* through node $v_i$ and $\\deg(v_i)$ is the *degree* of $v_i$, which is number of edges incident to $v_i$"
     ]
    },
    {
     "cell_type": "code",
     "collapsed": false,
     "input": [
      "print \"Average clustering coefficient is:\", nx.average_clustering(G)"
     ],
     "language": "python",
     "metadata": {
      "slideshow": {
       "slide_type": "fragment"
      }
     },
     "outputs": [
      {
       "output_type": "stream",
       "stream": "stdout",
       "text": [
        "Average clustering coefficient is: "
       ]
      },
      {
       "output_type": "stream",
       "stream": "stdout",
       "text": [
        "0.55687821617\n"
       ]
      }
     ],
     "prompt_number": 20
    },
    {
     "cell_type": "markdown",
     "metadata": {
      "slideshow": {
       "slide_type": "fragment"
      }
     },
     "source": [
      "*How dense is the collaboration, or how close it is to \"everyone is collaborating with everyone else\"?*"
     ]
    },
    {
     "cell_type": "markdown",
     "metadata": {
      "slideshow": {
       "slide_type": "fragment"
      }
     },
     "source": [
      "We can find this by computing the **density** $D(G)$ of the graph, defined by\n",
      "\n",
      "$$ D(G) = \\frac{2m}{n(n-1)} $$\n",
      "\n",
      "where $m$ is number of edges\n",
      "\n",
      "For a complete graph that is fully-connected, $m=n(n-1)/2$ so $D(G)=1$"
     ]
    },
    {
     "cell_type": "code",
     "collapsed": false,
     "input": [
      "print \"Graph density:\", nx.density(G)"
     ],
     "language": "python",
     "metadata": {
      "slideshow": {
       "slide_type": "fragment"
      }
     },
     "outputs": [
      {
       "output_type": "stream",
       "stream": "stdout",
       "text": [
        "Graph density: 0.00155373453425\n"
       ]
      }
     ],
     "prompt_number": 21
    },
    {
     "cell_type": "markdown",
     "metadata": {
      "slideshow": {
       "slide_type": "slide"
      }
     },
     "source": [
      "Network analysis: Degree centrality\n",
      "===================================\n",
      "\n",
      "*Who are the most collaborative researchers?*"
     ]
    },
    {
     "cell_type": "markdown",
     "metadata": {
      "slideshow": {
       "slide_type": "fragment"
      }
     },
     "source": [
      "We find this by computing the degree **centrality** $c(v_i)$ of each node $v_i$: The fraction of nodes it is connected to, formally\n",
      "\n",
      "$$ c(v_i) = \\frac{\\deg(v_i)}{n-1} $$"
     ]
    },
    {
     "cell_type": "code",
     "collapsed": false,
     "input": [
      "# Compute degree centrality of nodes\n",
      "deg_centrality = nx.degree_centrality(G)"
     ],
     "language": "python",
     "metadata": {
      "slideshow": {
       "slide_type": "fragment"
      }
     },
     "outputs": [],
     "prompt_number": 22
    },
    {
     "cell_type": "markdown",
     "metadata": {
      "slideshow": {
       "slide_type": "fragment"
      }
     },
     "source": [
      "We then sort the nodes by their degree centrality and find top-5 nodes"
     ]
    },
    {
     "cell_type": "code",
     "collapsed": false,
     "input": [
      "# Impost useful operators for sorting\n",
      "import operator\n",
      "\n",
      "# Sort nodes by their degree centrality\n",
      "top_nodes = sorted(deg_centrality.items(), key=operator.itemgetter(1), reverse=True)\n",
      "\n",
      "# Print top-5 nodes\n",
      "for i in range(0,5):\n",
      "    print \"Rank:\", i+1, \"with ID\", top_nodes[i][0]"
     ],
     "language": "python",
     "metadata": {
      "slideshow": {
       "slide_type": "fragment"
      }
     },
     "outputs": [
      {
       "output_type": "stream",
       "stream": "stdout",
       "text": [
        "Rank: 1 with ID 21012\n",
        "Rank: 2 with ID 21281\n",
        "Rank: 3 with ID 22691\n",
        "Rank: 4 with ID 12365\n",
        "Rank: 5 with ID 6610\n"
       ]
      }
     ],
     "prompt_number": 23
    },
    {
     "cell_type": "markdown",
     "metadata": {
      "slideshow": {
       "slide_type": "fragment"
      }
     },
     "source": [
      "*What is the collaboration distribution among researchers?*"
     ]
    },
    {
     "cell_type": "markdown",
     "metadata": {
      "slideshow": {
       "slide_type": "fragment"
      }
     },
     "source": [
      "To find this, we plot the degree distribution of the graph"
     ]
    },
    {
     "cell_type": "code",
     "collapsed": false,
     "input": [
      "# Get degrees of all nodes\n",
      "degree_values = G.degree(G.nodes()).values()\n",
      "\n",
      "# Plot degree CDF\n",
      "ecdf = sm.distributions.ECDF(degree_values)\n",
      "x = np.linspace(min(degree_values), max(degree_values))\n",
      "y = ecdf(x)\n",
      "plt.plot(x, y)\n",
      "plt.xlabel(\"Degree\")\n",
      "plt.ylabel(\"CDF\")\n",
      "plt.show()"
     ],
     "language": "python",
     "metadata": {
      "slideshow": {
       "slide_type": "fragment"
      }
     },
     "outputs": [
      {
       "metadata": {},
       "output_type": "display_data",
       "png": "[encoded data removed]",
       "text": [
        "<matplotlib.figure.Figure at 0x10b804750>"
       ]
      }
     ],
     "prompt_number": 24
    },
    {
     "cell_type": "markdown",
     "metadata": {
      "slideshow": {
       "slide_type": "fragment"
      }
     },
     "source": [
      "Only 10% of researchers have at least 15 collaborators\n",
      "\n",
      "- Concentrated distrubtion, power-law?\n",
      "\n",
      "- We can compute helpful summary stats to elaborate"
     ]
    },
    {
     "cell_type": "code",
     "collapsed": false,
     "input": [
      "# Degree summary stats\n",
      "print \"Min degree:\", np.min(degree_values)\n",
      "print \"Max degree:\", np.max(degree_values)\n",
      "print \"Mean degree:\", np.mean(degree_values)\n",
      "print \"Median degree:\", np.percentile(degree_values, 50)\n",
      "print \"90-percentile degree:\", np.percentile(degree_values, 90)"
     ],
     "language": "python",
     "metadata": {
      "slideshow": {
       "slide_type": "fragment"
      }
     },
     "outputs": [
      {
       "output_type": "stream",
       "stream": "stdout",
       "text": [
        "Min degree: 1\n",
        "Max degree: 81\n",
        "Mean degree: 6.45887445887\n",
        "Median degree: 3.0\n",
        "90-percentile degree: 15.0\n"
       ]
      }
     ],
     "prompt_number": 25
    },
    {
     "cell_type": "markdown",
     "metadata": {
      "slideshow": {
       "slide_type": "slide"
      }
     },
     "source": [
      "Sampling a graph\n",
      "================\n",
      "\n",
      "If the graph is too large, we need to sample it\n",
      "\n",
      "Ideally, the sampled graph should exhibit the same properties as the original\n",
      "\n",
      "There are many ways to sample, most popular are [[1]]\n",
      "\n",
      "- Breadth-first search (BFS) or depth-first search (DFS)\n",
      "\n",
      "- Random walk and forest first\n",
      "\n",
      "[1]: http://cs.stanford.edu/people/jure/pubs/sampling-kdd06.pdf \"Sampling from large graphs\""
     ]
    },
    {
     "cell_type": "markdown",
     "metadata": {
      "slideshow": {
       "slide_type": "fragment"
      }
     },
     "source": [
      "See animation of BFS sampling algorithm [https://www.cs.usfca.edu/~galles/visualization/BFS.html](https://www.cs.usfca.edu/~galles/visualization/BFS.html)"
     ]
    },
    {
     "cell_type": "markdown",
     "metadata": {
      "slideshow": {
       "slide_type": "fragment"
      }
     },
     "source": [
      "Okay, let's sample 30 nodes from the graph using BFS"
     ]
    },
    {
     "cell_type": "code",
     "collapsed": false,
     "input": [
      "# Import utility functions\n",
      "import utils\n",
      "\n",
      "# Sample a 30-node subgraph using BFS\n",
      "H = utils.bfs_sample(G, size=30)"
     ],
     "language": "python",
     "metadata": {
      "slideshow": {
       "slide_type": "fragment"
      }
     },
     "outputs": [],
     "prompt_number": 26
    },
    {
     "cell_type": "markdown",
     "metadata": {
      "slideshow": {
       "slide_type": "fragment"
      }
     },
     "source": [
      "It is good to confirm the sampled graph is indeed smaller and connected"
     ]
    },
    {
     "cell_type": "code",
     "collapsed": false,
     "input": [
      "print \"Number of nodes:\", H.order()\n",
      "print \"Number of edges:\", H.size()\n",
      "print \"Is connected?\", nx.is_connected(H)"
     ],
     "language": "python",
     "metadata": {
      "slideshow": {
       "slide_type": "fragment"
      }
     },
     "outputs": [
      {
       "output_type": "stream",
       "stream": "stdout",
       "text": [
        "Number of nodes: 30\n",
        "Number of edges: 29\n",
        "Is connected? True\n"
       ]
      }
     ],
     "prompt_number": 29
    },
    {
     "cell_type": "markdown",
     "metadata": {
      "slideshow": {
       "slide_type": "slide"
      }
     },
     "source": [
      "Visualizing a graph\n",
      "===================\n",
      "\n",
      "Let's visualize the graph sample instead of the whole graph "
     ]
    },
    {
     "cell_type": "code",
     "collapsed": false,
     "input": [
      "# Visualize the graph\n",
      "nx.draw(H)\n",
      "\n",
      "# Show the plot\n",
      "plt.show()"
     ],
     "language": "python",
     "metadata": {
      "slideshow": {
       "slide_type": "fragment"
      }
     },
     "outputs": [
      {
       "metadata": {},
       "output_type": "display_data",
       "png": "[encoded data removed]",
       "text": [
        "<matplotlib.figure.Figure at 0x10aac7e10>"
       ]
      }
     ],
     "prompt_number": 27
    },
    {
     "cell_type": "markdown",
     "metadata": {
      "slideshow": {
       "slide_type": "slide"
      }
     },
     "source": [
      "Break II\n",
      "========"
     ]
    }
   ],
   "metadata": {}
  }
 ]
}