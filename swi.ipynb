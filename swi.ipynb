{
 "metadata": {
  "celltoolbar": "Slideshow",
  "name": "",
  "signature": "sha256:ee3ebf0996d04da1eed6368064a66da8cf6f3cb1041e1e468581dc1831d4520c"
 },
 "nbformat": 3,
 "nbformat_minor": 0,
 "worksheets": [
  {
   "cells": [
    {
     "cell_type": "markdown",
     "metadata": {
      "slideshow": {
       "slide_type": "slide"
      }
     },
     "source": [
      "Social Web Intelligence\n",
      "=======================\n",
      "\n",
      "*Analyzing and learning from users and their relationships*\n",
      "\n",
      "<br/>\n",
      "Yazan Boshmaf, UBC\n",
      "\n",
      "<br/>\n",
      "SFU/UBC Digital Salon's 2nd Digital Humanities Workshop\n",
      "\n",
      "February 21, 2015 "
     ]
    },
    {
     "cell_type": "markdown",
     "metadata": {
      "slideshow": {
       "slide_type": "slide"
      }
     },
     "source": [
      "Preliminaries\n",
      "============="
     ]
    },
    {
     "cell_type": "markdown",
     "metadata": {
      "slideshow": {
       "slide_type": "slide"
      }
     },
     "source": [
      "About the presenter\n",
      "===================\n",
      "\n",
      "PhD candidate at UBC\n",
      "\n",
      "Deisgn and analyze social bots as an academic\n",
      "\n",
      "Build systems to fight the bad guys on the social web"
     ]
    },
    {
     "cell_type": "markdown",
     "metadata": {
      "slideshow": {
       "slide_type": "fragment"
      }
     },
     "source": [
      "*Feel free to contacts me at [boshmaf@ece.ubc.ca](mailto:boshmaf@ece.ubc.ca)*"
     ]
    },
    {
     "cell_type": "markdown",
     "metadata": {
      "slideshow": {
       "slide_type": "slide"
      }
     },
     "source": [
      "About the slides\n",
      "================\n",
      "\n",
      "Created using iPython Notebook\n",
      "\n",
      "Available to everyone\n",
      "\n",
      "May have typos, errors, etc."
     ]
    },
    {
     "cell_type": "markdown",
     "metadata": {
      "slideshow": {
       "slide_type": "fragment"
      }
     },
     "source": [
      "*Copy or contribute at [http://boshmaf.github.io/swi](http://boshmaf.github.io/swi/)*"
     ]
    },
    {
     "cell_type": "markdown",
     "metadata": {
      "slideshow": {
       "slide_type": "slide"
      }
     },
     "source": [
      "About the workshop\n",
      "==================\n",
      "\n",
      "SFU/UBC Digital Salon's Workshop Series\n",
      "\n",
      "Organized by Siobhan McElduff ([siobhan.mcelduff@ubc.ca](mailto:siobhan.mcelduff@ubc.ca))\n",
      "\n",
      "Theory and practice of network analysis & machine learning"
     ]
    },
    {
     "cell_type": "markdown",
     "metadata": {
      "slideshow": {
       "slide_type": "fragment"
      }
     },
     "source": [
      "*Applied to social networking problems with hands-on experience using Python*"
     ]
    },
    {
     "cell_type": "markdown",
     "metadata": {
      "slideshow": {
       "slide_type": "slide"
      }
     },
     "source": [
      "Timeslot | Subject\n",
      "--- |  ---  | ---\n",
      "10:00 - 11:00 | Introduction\n",
      "**11:00 - 11:15** | **Break I**\n",
      "11:15 - 13:00 | Network analysis with Networkx\n",
      "**13:00 - 13:15** | **Break II**\n",
      "13:15 - 15:00 | Machine learning with SciKit-Learn\n",
      "**15:00 - 16:00** | **Hands-on**"
     ]
    },
    {
     "cell_type": "markdown",
     "metadata": {
      "slideshow": {
       "slide_type": "slide"
      }
     },
     "source": [
      "Introduction\n",
      "============"
     ]
    },
    {
     "cell_type": "markdown",
     "metadata": {
      "slideshow": {
       "slide_type": "slide"
      }
     },
     "source": [
      "Social networks are everywhere\n",
      "==============================\n",
      "\n",
      "Model friendships, followships, professional relationships, etc.\n",
      "\n",
      "Explicitly declared on the web using **online social networks** (OSNs)\n",
      "\n",
      "- Facebook with **1.4B** montly active users [[1]]\n",
      "\n",
      "- Twitter with **288M** montly active users [[2]]\n",
      "\n",
      "- LinkedIn with **347M** registered users [[3]]\n",
      "\n",
      "[1]: http://newsroom.fb.com/company-info/ \"Facebook company info\"\n",
      "[2]: https://about.twitter.com/company \"Twitter company info\"\n",
      "[3]: https://press.linkedin.com/about-linkedin \"LinkedIn company info\"\n"
     ]
    },
    {
     "cell_type": "markdown",
     "metadata": {
      "slideshow": {
       "slide_type": "slide"
      }
     },
     "source": [
      "OSNs are goldmines for researchers\n",
      "==================================\n",
      "\n",
      "From tens or hundreds of participants to millions\n",
      "\n",
      "Unique opporunity to analyze behavior on a **global scale**"
     ]
    },
    {
     "cell_type": "markdown",
     "metadata": {
      "slideshow": {
       "slide_type": "fragment"
      }
     },
     "source": [
      "*Milgram's small-world expirement replicated with 721M users and 69B friendships [[1], [2]]*\n",
      "\n",
      "[1]: http://www.uvm.edu/~pdodds/files/papers/others/1969/travers1969.pdf \"An experimental study of the small world problem\"\n",
      "[2]: http://arxiv.org/pdf/1111.4570v3.pdf \"Four degrees of seperation\""
     ]
    },
    {
     "cell_type": "markdown",
     "metadata": {
      "slideshow": {
       "slide_type": "slide"
      }
     },
     "source": [
      "Collecting social network data\n",
      "==============================\n",
      "\n",
      "A static network dataset includes a snapshop of its\n",
      "\n",
      "- **Graph:** Users and their relationships\n",
      "\n",
      "- **Attributes:** User profiles and contents"
     ]
    },
    {
     "cell_type": "markdown",
     "metadata": {
      "slideshow": {
       "slide_type": "fragment"
      }
     },
     "source": [
      "Ways to collect social network data, from easiest to harderst:\n",
      "\n",
      "- Download publicly released datasets\n",
      "\n",
      "- Use data-access APIs provided by networks\n",
      "\n",
      "- Crawl and scrape data from networks \"manually\""
     ]
    },
    {
     "cell_type": "markdown",
     "metadata": {
      "slideshow": {
       "slide_type": "slide"
      }
     },
     "source": [
      "Data comes in different shapes & formats\n",
      "========================================\n",
      "\n",
      "Usually **structured**, with a schema (Pajek, CSV, etc.)\n",
      "\n",
      "- Adjacency list for graphs (user1, friend1, friend2, etc.)\n",
      "\n",
      "- Data matrix for attributes (male, 26, vancouver, canada, UBC, etc.)"
     ]
    },
    {
     "cell_type": "markdown",
     "metadata": {
      "slideshow": {
       "slide_type": "fragment"
      }
     },
     "source": [
      "But sometimes **semi-structured**, without a schema (JSON, XML, etc.)\n",
      "\n",
      "- Dictionary with attribute name and value ( {\"gender\": \"male\", \"age\": 26} )\n",
      "\n",
      "- Marked up attributes with attribute tags and values"
     ]
    },
    {
     "cell_type": "markdown",
     "metadata": {
      "slideshow": {
       "slide_type": "slide"
      }
     },
     "source": [
      "Setting up dev environment\n",
      "=========================="
     ]
    },
    {
     "cell_type": "markdown",
     "metadata": {
      "slideshow": {
       "slide_type": "slide"
      }
     },
     "source": [
      "Installing Anaconda Python distribution\n",
      "=======================================\n",
      "\n",
      "Go to Continuum Anaconda webpage [http://continuum.io/downloads](http://continuum.io/downloads)\n",
      "\n",
      "Download & install the propoer binary of Python 2.7 Graphical Installer\n",
      "\n",
      "Update Anaconda and iPython\n",
      "\n",
      "- Use graphical interface (Desktop shortcut)\n",
      "\n",
      "- Or from command-line, type \n",
      "```\n",
      "conda update conda\n",
      "conda update ipython\n",
      "```"
     ]
    },
    {
     "cell_type": "markdown",
     "metadata": {
      "slideshow": {
       "slide_type": "fragment"
      }
     },
     "source": [
      "*Anaconda comes 224 Python packages, including Networkx and SciKit-Learn!*"
     ]
    },
    {
     "cell_type": "markdown",
     "metadata": {
      "slideshow": {
       "slide_type": "slide"
      }
     },
     "source": [
      "Installing Git version control system\n",
      "=====================================\n",
      "\n",
      "Go to Git website [http://git-scm.com/downloads](http://git-scm.com/downloads)\n",
      "\n",
      "Download and install the proper binary of Git 2.3.0\n",
      "\n",
      "Clone the workshop's Git repo from Github using command-line\n",
      "\n",
      "```\n",
      "cd ~/\n",
      "mkdir dev\n",
      "cd dev\n",
      "git clone https://github.com/boshmaf/swi.git\n",
      "```"
     ]
    },
    {
     "cell_type": "markdown",
     "metadata": {
      "slideshow": {
       "slide_type": "fragment"
      }
     },
     "source": [
      "*Repository contains all workshop material*"
     ]
    },
    {
     "cell_type": "markdown",
     "metadata": {
      "slideshow": {
       "slide_type": "slide"
      }
     },
     "source": [
      "Install PanDoc document convertor\n",
      "=================================\n",
      "\n",
      "Got to PanDoc website [http://johnmacfarlane.net/pandoc/installing.html](http://johnmacfarlane.net/pandoc/installing.html)\n",
      "\n",
      "Download and install the proper binary of PanDoc 1.13.x\n",
      "\n",
      "To view these slides from command-line, type\n",
      "\n",
      "```\n",
      "cd ~/dev/swi\n",
      "./start.sh\n",
      "```"
     ]
    },
    {
     "cell_type": "markdown",
     "metadata": {
      "slideshow": {
       "slide_type": "fragment"
      }
     },
     "source": [
      "*This will open a new tab in the browser; use arrow keys to navigate*"
     ]
    }
   ],
   "metadata": {}
  }
 ]
}