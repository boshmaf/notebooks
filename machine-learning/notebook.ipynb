{
 "cells": [
  {
   "cell_type": "markdown",
   "metadata": {
    "slideshow": {
     "slide_type": "slide"
    }
   },
   "source": [
    "Machine Learning with SciKit-Learn\n",
    "==================================\n",
    "\n",
    "*Training a machine to classify things into categories with high accuracy*\n",
    "\n",
    "<br/>\n",
    "Yazan Boshmaf\n",
    "\n",
    "<br/>\n",
    "More notebooks? Go to [github.com/boshmaf/notebooks](https://github.com/boshmaf/notebooks)\n",
    "\n",
    "Last updated: February 11, 2016"
   ]
  },
  {
   "cell_type": "markdown",
   "metadata": {
    "slideshow": {
     "slide_type": "slide"
    }
   },
   "source": [
    "What is machine learning?\n",
    "=========================\n",
    "\n",
    "Using a set of data samples to **predict properties** of similar but **unseen before** data\n",
    "\n",
    "Each data sample represents a vector of one of more numbers or categories called **features**\n",
    "\n",
    "A collection of feature vectors is called a **dataset**"
   ]
  },
  {
   "cell_type": "markdown",
   "metadata": {
    "slideshow": {
     "slide_type": "fragment"
    }
   },
   "source": [
    "For example,\n",
    "- User Bob has the following feature vector: $($1, \"Bob\", 24, \"USA\", \"Male\"$)$\n",
    "- User Alice has the following feature vector: $($2, \"Alice\", 20, \"Canada\", \"Female\"$)$\n",
    "- So 1st feature is ID, 2nd is name, 3rd is age, 4th is nationality, 5th is gender"
   ]
  },
  {
   "cell_type": "markdown",
   "metadata": {
    "slideshow": {
     "slide_type": "fragment"
    }
   },
   "source": [
    "*For a new user Dave with feature vector $($3, \"Bob\", 23, \"Canada\"$)$, what is Dave's gender?*"
   ]
  },
  {
   "cell_type": "markdown",
   "metadata": {
    "slideshow": {
     "slide_type": "slide"
    }
   },
   "source": [
    "Supervised machine learning?\n",
    "============================\n",
    "\n",
    "We will focus on **supervised** learning problems\n",
    "- Feature vectors have at least one feature that we want to predict\n",
    "- This feature is called the **target variable** (e.g., gender)\n",
    "- Subset of feature vectors already have target values, called **training dataset**\n",
    "- The rest we want to predict their target values, called **testing or new dataset**\n",
    "- We can predict \"accurately\" using a machine learning **algorithm**"
   ]
  },
  {
   "cell_type": "markdown",
   "metadata": {
    "slideshow": {
     "slide_type": "fragment"
    }
   },
   "source": [
    "If the target variable have discrete or categorical values (e.g., gender), it is called a **label** and the learning problem is called a **classification** problem"
   ]
  },
  {
   "cell_type": "markdown",
   "metadata": {
    "slideshow": {
     "slide_type": "fragment"
    }
   },
   "source": [
    "*You will learn how to solve classification problems using supervised machine learning!*"
   ]
  },
  {
   "cell_type": "markdown",
   "metadata": {
    "slideshow": {
     "slide_type": "slide"
    }
   },
   "source": [
    "![alt txt][supervised_learning]\n",
    "\n",
    "[supervised_learning]: images/supervised_learning.png \"Supervised machine learning\""
   ]
  },
  {
   "cell_type": "markdown",
   "metadata": {
    "slideshow": {
     "slide_type": "slide"
    }
   },
   "source": [
    "What is SciKit-Learn?\n",
    "=====================\n",
    "\n",
    "Python package for machine learning\n",
    "\n",
    "Noticable features\n",
    "- Simple and efficient tools for data mining and data analysis\n",
    "- Accessible to everybody, and reusable in various contexts\n",
    "- Built on top of NumPy, SciPy, and MatPlotLib\n",
    "\n",
    "Go to SciKit-Learn website for more info [scikit-learn.org/stable/index.html](http://scikit-learn.org/stable/index.html)"
   ]
  },
  {
   "cell_type": "markdown",
   "metadata": {
    "slideshow": {
     "slide_type": "slide"
    }
   },
   "source": [
    "Building a ground truth\n",
    "=======================\n",
    "\n",
    "*Let's predict gender from first names!*"
   ]
  },
  {
   "cell_type": "markdown",
   "metadata": {
    "slideshow": {
     "slide_type": "fragment"
    }
   },
   "source": [
    "Go to the US Social Security website [ssa.gov/oact/babynames/limits.html](http://www.ssa.gov/oact/babynames/limits.html)\n",
    "\n",
    "Download the national popular baby names dataset, called `names.zip`\n",
    "- Click on \"National data\"\n",
    "- Uncompress the datasets a into datasets directory"
   ]
  },
  {
   "cell_type": "markdown",
   "metadata": {
    "slideshow": {
     "slide_type": "fragment"
    }
   },
   "source": [
    "*It's already available to you in the notebook's repo!*"
   ]
  },
  {
   "cell_type": "markdown",
   "metadata": {
    "slideshow": {
     "slide_type": "fragment"
    }
   },
   "source": [
    "First, we need to get a list of file names"
   ]
  },
  {
   "cell_type": "code",
   "execution_count": 1,
   "metadata": {
    "collapsed": false,
    "slideshow": {
     "slide_type": "fragment"
    }
   },
   "outputs": [],
   "source": [
    "# Ignore those annoying warnings ;-)\n",
    "import warnings\n",
    "warnings.filterwarnings('ignore')\n",
    "\n",
    "# Useful file pattern package\n",
    "import glob\n",
    "\n",
    "# Get a list of file names in dataset directory\n",
    "file_names = glob.glob(\"datasets/*.txt\")"
   ]
  },
  {
   "cell_type": "markdown",
   "metadata": {
    "slideshow": {
     "slide_type": "fragment"
    }
   },
   "source": [
    "Then, we open and combine their content"
   ]
  },
  {
   "cell_type": "code",
   "execution_count": 2,
   "metadata": {
    "collapsed": false,
    "slideshow": {
     "slide_type": "fragment"
    }
   },
   "outputs": [],
   "source": [
    "# Open files and merge data\n",
    "dataset = {}\n",
    "for file_name in file_names:\n",
    "    file_data = open(file_name)\n",
    "    for line in file_data:\n",
    "        line = line.strip()\n",
    "        data = line.split(\",\")\n",
    "        \n",
    "        name = data[0].lower()\n",
    "        if name not in dataset:\n",
    "            dataset[name] = [0,0] # [male_count, female_count]\n",
    "        \n",
    "        gender = 0 if data[1] == \"M\" else 1\n",
    "        count = int(data[2])\n",
    "        dataset[name][gender] += count"
   ]
  },
  {
   "cell_type": "markdown",
   "metadata": {
    "slideshow": {
     "slide_type": "fragment"
    }
   },
   "source": [
    "Let's print dataset summary and checkout the 100th data sample, for example"
   ]
  },
  {
   "cell_type": "code",
   "execution_count": 3,
   "metadata": {
    "collapsed": false,
    "slideshow": {
     "slide_type": "fragment"
    }
   },
   "outputs": [
    {
     "name": "stdout",
     "output_type": "stream",
     "text": [
      "Number of names: 92600\n",
      "100th name is: kinsler\n",
      "Its male count: 151\n",
      "Its female count: 18\n"
     ]
    }
   ],
   "source": [
    "print \"Number of names:\", len(dataset)\n",
    "\n",
    "name = dataset.keys()[100]\n",
    "print \"100th name is:\", name\n",
    "\n",
    "gender_count = dataset[name]\n",
    "print \"Its male count:\", gender_count[0]\n",
    "print \"Its female count:\", gender_count[1]"
   ]
  },
  {
   "cell_type": "markdown",
   "metadata": {
    "slideshow": {
     "slide_type": "fragment"
    }
   },
   "source": [
    "The dataset has an issue: **Some names are unisex!**\n",
    "\n",
    "*How big is the issue?*"
   ]
  },
  {
   "cell_type": "code",
   "execution_count": 4,
   "metadata": {
    "collapsed": false,
    "slideshow": {
     "slide_type": "fragment"
    }
   },
   "outputs": [
    {
     "name": "stdout",
     "output_type": "stream",
     "text": [
      "Number of unisex names: 10090\n",
      "Ratio is dataset: 10.90%\n"
     ]
    }
   ],
   "source": [
    "# Compute ratio of unisex names in dataset\n",
    "unisex_count = 0\n",
    "for name in dataset:\n",
    "    gender_count = dataset[name]\n",
    "    if gender_count[0] != 0 and gender_count[1] != 0:\n",
    "        unisex_count += 1\n",
    "        \n",
    "print \"Number of unisex names:\", unisex_count\n",
    "print \"Ratio is dataset: {0:.2f}%\".format(100*unisex_count/float(len(dataset)))"
   ]
  },
  {
   "cell_type": "markdown",
   "metadata": {
    "slideshow": {
     "slide_type": "fragment"
    }
   },
   "source": [
    "We can use gender count to label names as female or not\n",
    "- Let $C_m(n_i)$ be count of males with name $n_i$\n",
    "- Similarly, let $C_f(n_i)$ be the count of females with name $n_i$\n",
    "\n",
    "Now, let a label $\\ell(n_i)=1$ means the name $n_i$ **corresponds to a female**, as defined by\n",
    "\n",
    "$$\n",
    "\\ell(n_i) = \n",
    "\\begin{cases} 1 &\\mbox{if } \\displaystyle\\frac{C_f(n_i)}{\\left(C_f(n_i) + C_m(n_i)\\right)} > 0.5, \\\\ \n",
    "0 & \\mbox{Otherwise. }\n",
    "\\end{cases}\n",
    "$$\n",
    "\n",
    "Accordingly, Kinsler should be labelled as a male with target value of 0, let's do it"
   ]
  },
  {
   "cell_type": "code",
   "execution_count": 5,
   "metadata": {
    "collapsed": false,
    "slideshow": {
     "slide_type": "fragment"
    }
   },
   "outputs": [
    {
     "name": "stdout",
     "output_type": "stream",
     "text": [
      "Number of females: 58777\n",
      "Ratio is dataset: 63.47%\n"
     ]
    }
   ],
   "source": [
    "# Assign labels to names in dataset\n",
    "female_count = 0\n",
    "for name in dataset:\n",
    "    gender_count = dataset[name]\n",
    "    if gender_count[1] / float(sum(gender_count)) > 0.5:\n",
    "        dataset[name] = 1\n",
    "        female_count += 1\n",
    "    else:\n",
    "        dataset[name] = 0\n",
    "        \n",
    "print \"Number of females:\", female_count\n",
    "print \"Ratio is dataset: {0:.2f}%\".format(100*female_count/float(len(dataset)))"
   ]
  },
  {
   "cell_type": "markdown",
   "metadata": {
    "slideshow": {
     "slide_type": "fragment"
    }
   },
   "source": [
    "Let's check back on Kinsler!"
   ]
  },
  {
   "cell_type": "code",
   "execution_count": 6,
   "metadata": {
    "collapsed": false,
    "slideshow": {
     "slide_type": "fragment"
    }
   },
   "outputs": [
    {
     "name": "stdout",
     "output_type": "stream",
     "text": [
      "100th name is: kinsler\n",
      "Its gender is: Male\n"
     ]
    }
   ],
   "source": [
    "name = dataset.keys()[100]\n",
    "print \"100th name is:\", name\n",
    "print \"Its gender is:\", \"Female\" if int(dataset[name]) == 1 else \"Male\""
   ]
  },
  {
   "cell_type": "markdown",
   "metadata": {
    "slideshow": {
     "slide_type": "fragment"
    }
   },
   "source": [
    "*We haven't done machine learning yet; we just built a \"low-noise\" ground-truth!*"
   ]
  },
  {
   "cell_type": "markdown",
   "metadata": {
    "slideshow": {
     "slide_type": "slide"
    }
   },
   "source": [
    "Feature extraction and engineering\n",
    "==================================\n",
    "\n",
    "*What are useful features of a name that predict the gender?*"
   ]
  },
  {
   "cell_type": "markdown",
   "metadata": {
    "slideshow": {
     "slide_type": "fragment"
    }
   },
   "source": [
    "For latin or western names, one can look at\n",
    "- The last letter\n",
    "- The last two letter\n",
    "- Whether the last letter is a vowel\n",
    "\n",
    "*Example: Philipp vs. Philippa*"
   ]
  },
  {
   "cell_type": "markdown",
   "metadata": {
    "slideshow": {
     "slide_type": "fragment"
    }
   },
   "source": [
    "Let's extract these features and build our labelled dataset"
   ]
  },
  {
   "cell_type": "code",
   "execution_count": 7,
   "metadata": {
    "collapsed": false,
    "slideshow": {
     "slide_type": "fragment"
    }
   },
   "outputs": [],
   "source": [
    "# Extract features from names\n",
    "for name in dataset:\n",
    "    name_features = {}\n",
    "    name_features[\"last_letter\"] = name[-1]\n",
    "    name_features[\"last_two\"] = name[-2:]\n",
    "    name_features[\"last_is_vowel\"] = 1 if name[-1] in \"aeiouy\" else 0\n",
    "    name_features[\"label\"] = dataset[name]\n",
    "    dataset[name] = name_features"
   ]
  },
  {
   "cell_type": "markdown",
   "metadata": {
    "slideshow": {
     "slide_type": "fragment"
    }
   },
   "source": [
    "Let's look at how the 100th name features looks like"
   ]
  },
  {
   "cell_type": "code",
   "execution_count": 8,
   "metadata": {
    "collapsed": false,
    "slideshow": {
     "slide_type": "fragment"
    }
   },
   "outputs": [
    {
     "name": "stdout",
     "output_type": "stream",
     "text": [
      "Name is: kinsler\n",
      "Feature 'last_letter' is: r\n",
      "Feature 'last_two' is: er\n",
      "Feature 'last_is_vowel' is: 0\n",
      "Label is: 0\n"
     ]
    }
   ],
   "source": [
    "name = dataset.keys()[100]\n",
    "print \"Name is:\", dataset.keys()[100]\n",
    "\n",
    "features = dataset[name]\n",
    "print \"Feature 'last_letter' is:\", features[\"last_letter\"]\n",
    "print \"Feature 'last_two' is:\", features[\"last_two\"]\n",
    "print \"Feature 'last_is_vowel' is:\", features[\"last_is_vowel\"]\n",
    "print \"Label is:\", features[\"label\"]"
   ]
  },
  {
   "cell_type": "markdown",
   "metadata": {
    "slideshow": {
     "slide_type": "fragment"
    }
   },
   "source": [
    "*We now have a labelled dataset in a feature-value or dictionary format*"
   ]
  },
  {
   "cell_type": "markdown",
   "metadata": {
    "slideshow": {
     "slide_type": "slide"
    }
   },
   "source": [
    "Vectorizing the labelled dataset\n",
    "================================\n",
    "\n",
    "We need to convert the dataset from feature-value format to vectors\n",
    "\n",
    "For categorical features, we can do **binary one-of-K** coding\n",
    "- A binary feature is constructed for each of possible string values a feature can take\n",
    "- So `last_letter` feature results in up to 26 features\n",
    "\n",
    "*Example, `last_letter=a`, `last_letter=b`, etc.*"
   ]
  },
  {
   "cell_type": "code",
   "execution_count": 9,
   "metadata": {
    "collapsed": false,
    "slideshow": {
     "slide_type": "fragment"
    }
   },
   "outputs": [],
   "source": [
    "# Dictionary vectorizer from SciKit-Learn package\n",
    "from sklearn.feature_extraction import DictVectorizer\n",
    "\n",
    "vectorizer = DictVectorizer()\n",
    "labelled_vectors = vectorizer.fit_transform(dataset.values()).toarray()"
   ]
  },
  {
   "cell_type": "markdown",
   "metadata": {
    "slideshow": {
     "slide_type": "fragment"
    }
   },
   "source": [
    "The vectorizer also preserves feature names"
   ]
  },
  {
   "cell_type": "code",
   "execution_count": 10,
   "metadata": {
    "collapsed": false,
    "slideshow": {
     "slide_type": "fragment"
    }
   },
   "outputs": [
    {
     "name": "stdout",
     "output_type": "stream",
     "text": [
      "Number of features: 468\n"
     ]
    }
   ],
   "source": [
    "# Get feature names and label index\n",
    "feature_names = vectorizer.get_feature_names()\n",
    "label_index = feature_names.index(\"label\")\n",
    "feature_names.remove(\"label\")\n",
    "\n",
    "print \"Number of features:\", len(feature_names)"
   ]
  },
  {
   "cell_type": "markdown",
   "metadata": {
    "slideshow": {
     "slide_type": "fragment"
    }
   },
   "source": [
    "Finally, we split the labelled vectors into vectors and labels"
   ]
  },
  {
   "cell_type": "code",
   "execution_count": 11,
   "metadata": {
    "collapsed": false,
    "slideshow": {
     "slide_type": "fragment"
    }
   },
   "outputs": [
    {
     "name": "stdout",
     "output_type": "stream",
     "text": [
      "[[ 0.  0.  0. ...,  0.  0.  0.]\n",
      " [ 1.  1.  0. ...,  0.  0.  0.]\n",
      " [ 0.  0.  0. ...,  0.  0.  0.]\n",
      " ..., \n",
      " [ 0.  0.  0. ...,  0.  0.  0.]\n",
      " [ 0.  0.  0. ...,  0.  0.  0.]\n",
      " [ 0.  0.  0. ...,  0.  0.  0.]]\n"
     ]
    }
   ],
   "source": [
    "# Split labelled vectors into labels and vectors\n",
    "import numpy as np\n",
    "labels = labelled_vectors[:,label_index]\n",
    "vectors = np.delete(labelled_vectors, [label_index], axis=1)\n",
    "print vectors"
   ]
  },
  {
   "cell_type": "markdown",
   "metadata": {
    "slideshow": {
     "slide_type": "fragment"
    }
   },
   "source": [
    "It's always good to validate we have all data by asserting"
   ]
  },
  {
   "cell_type": "code",
   "execution_count": 12,
   "metadata": {
    "collapsed": false,
    "slideshow": {
     "slide_type": "fragment"
    }
   },
   "outputs": [
    {
     "name": "stdout",
     "output_type": "stream",
     "text": [
      "Dataset vectorized successfully!\n"
     ]
    }
   ],
   "source": [
    "# Validate dimensions\n",
    "assert vectors.shape[0] == len(dataset)\n",
    "assert vectors.shape[1] == len(feature_names)\n",
    "assert labels.shape[0] == vectors.shape[0]\n",
    "print \"Dataset vectorized successfully!\""
   ]
  },
  {
   "cell_type": "markdown",
   "metadata": {
    "slideshow": {
     "slide_type": "slide"
    }
   },
   "source": [
    "Training a classifier using Naive Bayes\n",
    "=======================================\n",
    "\n",
    "*First, what is Naive Bayes classifier?*"
   ]
  },
  {
   "cell_type": "markdown",
   "metadata": {
    "slideshow": {
     "slide_type": "fragment"
    }
   },
   "source": [
    "Applies Bayes' theorem with the \"naive\" assumption of **independence between every pair of features**.\n",
    "\n",
    "Given a target variable $y$ and a dependent feature vector $(x_1,\\dots,x_n)$ of $n$ features, Bayes' theorem states the following relationship:\n",
    "\n",
    "$$\n",
    "P(y~|~x_1,\\dots,x_n) = \\frac{P(y)P(x_1,\\dots,x_n~|~y)}{P(x_1,\\dots,x_n)}\n",
    "$$"
   ]
  },
  {
   "cell_type": "markdown",
   "metadata": {
    "slideshow": {
     "slide_type": "fragment"
    }
   },
   "source": [
    "Using the naive independence assumption that\n",
    "\n",
    "$$\n",
    "P(x_i~|~y,x_1,\\dots,x_{i-1},x_{i+1},\\dots,x_n) = P(x_i~|~y)\n",
    "$$\n",
    "\n",
    "And the chaining rule\n",
    "\n",
    "$$\n",
    "P(x_1,\\dots,x_n~|~y) = P(x_1~|~y)P(x_2,\\dots,x_n~|~y)\n",
    "$$"
   ]
  },
  {
   "cell_type": "markdown",
   "metadata": {
    "slideshow": {
     "slide_type": "fragment"
    }
   },
   "source": [
    "For all $i$, this relationship simplifies to\n",
    "\n",
    "$$\n",
    "P(y~|~x_1,\\dots,x_n) = \\frac{P(y)\\prod_{i=1}^n P(x_i~|~y)}{P(x_1,\\dots,x_n)}\n",
    "$$"
   ]
  },
  {
   "cell_type": "markdown",
   "metadata": {
    "slideshow": {
     "slide_type": "fragment"
    }
   },
   "source": [
    "Since $P(x_1,\\dots, x_n)$ is constant given the input, we can use the following classification rule\n",
    "\n",
    "$$\n",
    "P(y \\mid x_1, \\dots, x_n) \\propto P(y) \\prod_{i=1}^{n} P(x_i \\mid y) \\\\ \\Downarrow \\\\ \\hat{y} = \\arg\\max_y P(y) \\prod_{i=1}^{n} P(x_i \\mid y)\n",
    "$$\n",
    "\n",
    "We can use Maximum A Posteriori (MAP) estimation to estimate $P(y)$ and $P(x_i~|~y)$; the former is then the **relative frequency** of class y in the training set."
   ]
  },
  {
   "cell_type": "markdown",
   "metadata": {
    "slideshow": {
     "slide_type": "fragment"
    }
   },
   "source": [
    "Different assumptions regarding the distribution of $P(x_i~|~y)$ lead to different classifiers\n",
    "- We assume data is distributed according to multivariate Bernoulli distributions\n",
    "- There may be multiple features but each one is assumed to be binary-valued\n",
    "\n",
    "The decision rule for **Bernoulli naive Bayes** is based on\n",
    "\n",
    "$$\n",
    "P(x_i \\mid y) = P(i \\mid y) x_i + (1 - P(i \\mid y)) (1 - x_i)\n",
    "$$"
   ]
  },
  {
   "cell_type": "markdown",
   "metadata": {
    "slideshow": {
     "slide_type": "fragment"
    }
   },
   "source": [
    "Alright, let's start the learning process. First, we need to shuffle the data to remove ordering bias"
   ]
  },
  {
   "cell_type": "code",
   "execution_count": 13,
   "metadata": {
    "collapsed": false,
    "slideshow": {
     "slide_type": "fragment"
    }
   },
   "outputs": [],
   "source": [
    "# Import shuffle method\n",
    "from sklearn.utils import shuffle\n",
    "\n",
    "# Shuffle the data\n",
    "rand_state = np.random.RandomState(seed=0)\n",
    "X, y = shuffle(vectors, labels, random_state=rand_state)"
   ]
  },
  {
   "cell_type": "markdown",
   "metadata": {
    "slideshow": {
     "slide_type": "fragment"
    }
   },
   "source": [
    "We now slpit the data into 80% training set and 20% testing set"
   ]
  },
  {
   "cell_type": "code",
   "execution_count": 14,
   "metadata": {
    "collapsed": false,
    "slideshow": {
     "slide_type": "fragment"
    }
   },
   "outputs": [],
   "source": [
    "# Split data\n",
    "training_index = X.shape[0] * 0.8\n",
    "X_train = X[:training_index]\n",
    "y_train = y[:training_index]\n",
    "\n",
    "X_test = X[training_index:]\n",
    "y_test = y[training_index:]"
   ]
  },
  {
   "cell_type": "markdown",
   "metadata": {
    "slideshow": {
     "slide_type": "fragment"
    }
   },
   "source": [
    "Always confirm your split was correct"
   ]
  },
  {
   "cell_type": "code",
   "execution_count": 15,
   "metadata": {
    "collapsed": false,
    "slideshow": {
     "slide_type": "fragment"
    }
   },
   "outputs": [
    {
     "name": "stdout",
     "output_type": "stream",
     "text": [
      "Data split successfully!\n"
     ]
    }
   ],
   "source": [
    "assert (X_train.shape[0] + X_test.shape[0]) == X.shape[0] \n",
    "assert (y_train.shape[0] + y_test.shape[0]) == y.shape[0]\n",
    "\n",
    "assert X_train.shape[1] == X_test.shape[1]\n",
    "\n",
    "assert X_train.shape[0] == y_train.shape[0]\n",
    "assert X_test.shape[0] == y_test.shape[0]\n",
    "\n",
    "print \"Data split successfully!\""
   ]
  },
  {
   "cell_type": "markdown",
   "metadata": {
    "slideshow": {
     "slide_type": "fragment"
    }
   },
   "source": [
    "We are ready to train now using a Bernoulli Naive Bayes classifier"
   ]
  },
  {
   "cell_type": "code",
   "execution_count": 16,
   "metadata": {
    "collapsed": false,
    "slideshow": {
     "slide_type": "fragment"
    }
   },
   "outputs": [
    {
     "name": "stdout",
     "output_type": "stream",
     "text": [
      "BernoulliNB(alpha=1.0, binarize=0.0, class_prior=None, fit_prior=True)\n"
     ]
    }
   ],
   "source": [
    "# Import the classifier\n",
    "from sklearn.naive_bayes import BernoulliNB\n",
    "\n",
    "# Train the classifier\n",
    "classifier = BernoulliNB()\n",
    "classifier.fit(X_train, y_train)\n",
    "\n",
    "print classifier"
   ]
  },
  {
   "cell_type": "markdown",
   "metadata": {
    "slideshow": {
     "slide_type": "slide"
    }
   },
   "source": [
    "Testing the classifier\n",
    "======================"
   ]
  },
  {
   "cell_type": "markdown",
   "metadata": {
    "slideshow": {
     "slide_type": "fragment"
    }
   },
   "source": [
    "*How accurate is the classifier?*"
   ]
  },
  {
   "cell_type": "markdown",
   "metadata": {
    "slideshow": {
     "slide_type": "fragment"
    }
   },
   "source": [
    "Let's test the trained classifier using the testing data"
   ]
  },
  {
   "cell_type": "code",
   "execution_count": 17,
   "metadata": {
    "collapsed": false,
    "slideshow": {
     "slide_type": "fragment"
    }
   },
   "outputs": [],
   "source": [
    "# Predict labels of unseen data\n",
    "y_predicted = classifier.predict(X_test)"
   ]
  },
  {
   "cell_type": "markdown",
   "metadata": {
    "slideshow": {
     "slide_type": "fragment"
    }
   },
   "source": [
    "We then compute the **accuracy** of the classifier: The fraction of correct predictions."
   ]
  },
  {
   "cell_type": "code",
   "execution_count": 18,
   "metadata": {
    "collapsed": false,
    "slideshow": {
     "slide_type": "fragment"
    }
   },
   "outputs": [
    {
     "name": "stdout",
     "output_type": "stream",
     "text": [
      "Classifier accuracy: 0.800647948164\n"
     ]
    }
   ],
   "source": [
    "# Import testing metrics\n",
    "from sklearn.metrics import accuracy_score\n",
    "\n",
    "accuracy = accuracy_score(y_test, y_predicted)\n",
    "print \"Classifier accuracy:\", accuracy"
   ]
  },
  {
   "cell_type": "markdown",
   "metadata": {
    "slideshow": {
     "slide_type": "fragment"
    }
   },
   "source": [
    "Let's compute the accuracy of the classification problem as a whole\n",
    "- We first compute the **confusion matrix**, which tells us the number of true positives, true negatives, false positives, and finally, false negatives.\n",
    "- We then plot it visually as a heatmap!"
   ]
  },
  {
   "cell_type": "code",
   "execution_count": 19,
   "metadata": {
    "collapsed": false,
    "scrolled": true,
    "slideshow": {
     "slide_type": "fragment"
    }
   },
   "outputs": [
    {
     "data": {
      "image/png": "[encoded data removed]",
      "text/plain": [
       "<matplotlib.figure.Figure at 0x10e689e90>"
      ]
     },
     "metadata": {},
     "output_type": "display_data"
    }
   ],
   "source": [
    "# Enable plotting in the current Notebook\n",
    "%matplotlib inline\n",
    "\n",
    "# Import plotting interface\n",
    "import matplotlib.pyplot as plt\n",
    "\n",
    "# Import testing metrics\n",
    "from sklearn.metrics import confusion_matrix\n",
    "\n",
    "conf_matrix = confusion_matrix(y_test, y_predicted)\n",
    "\n",
    "# Visualize the matrix\n",
    "plt.matshow(conf_matrix)\n",
    "plt.colorbar()\n",
    "plt.ylabel('True label')\n",
    "plt.xlabel('Predicted label')\n",
    "plt.show()"
   ]
  },
  {
   "cell_type": "markdown",
   "metadata": {
    "slideshow": {
     "slide_type": "fragment"
    }
   },
   "source": [
    "*How about if I have only a name?*"
   ]
  },
  {
   "cell_type": "markdown",
   "metadata": {
    "slideshow": {
     "slide_type": "fragment"
    }
   },
   "source": [
    "We extract features, vectorize, and then test!"
   ]
  },
  {
   "cell_type": "code",
   "execution_count": 20,
   "metadata": {
    "collapsed": false,
    "scrolled": true,
    "slideshow": {
     "slide_type": "fragment"
    }
   },
   "outputs": [
    {
     "name": "stdout",
     "output_type": "stream",
     "text": [
      "Classifier says Christian is a male\n"
     ]
    }
   ],
   "source": [
    "# Import helper functions from utils\n",
    "import utils\n",
    "\n",
    "# Get feature vector from name\n",
    "name = \"Christian\"\n",
    "vector = utils.get_vector(name, feature_names, X[0])\n",
    "\n",
    "# Predict whether name is female\n",
    "print \"Classifier says\", name, \"is a\", \"female\" if classifier.predict(vector) == 1 else \"male\""
   ]
  },
  {
   "cell_type": "markdown",
   "metadata": {
    "slideshow": {
     "slide_type": "fragment"
    }
   },
   "source": [
    "*A better way to evaluate a classifier is by cross validation and ROC analysis*"
   ]
  },
  {
   "cell_type": "markdown",
   "metadata": {
    "slideshow": {
     "slide_type": "slide"
    }
   },
   "source": [
    "Questions? Issues?\n",
    "==================\n",
    "\n",
    "Tweet your question to [twitter.com/boshmaf](https://twitter.com/boshmaf) and I'll get back to you\n",
    "\n",
    "Best way to fix any issue is to open one at [github.com/boshmaf/notebooks](https://github.com/boshmaf/notebooks)"
   ]
  }
 ],
 "metadata": {
  "celltoolbar": "Slideshow",
  "kernelspec": {
   "display_name": "Python 2",
   "language": "python",
   "name": "python2"
  },
  "language_info": {
   "codemirror_mode": {
    "name": "ipython",
    "version": 2
   },
   "file_extension": ".py",
   "mimetype": "text/x-python",
   "name": "python",
   "nbconvert_exporter": "python",
   "pygments_lexer": "ipython2",
   "version": "2.7.11"
  }
 },
 "nbformat": 4,
 "nbformat_minor": 0
}
